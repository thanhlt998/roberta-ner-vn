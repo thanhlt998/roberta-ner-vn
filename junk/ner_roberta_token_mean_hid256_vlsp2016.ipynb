{
 "nbformat": 4,
 "nbformat_minor": 0,
 "metadata": {
  "kernelspec": {
   "display_name": "Python 3",
   "language": "python",
   "name": "python3"
  },
  "language_info": {
   "codemirror_mode": {
    "name": "ipython",
    "version": 2
   },
   "file_extension": ".py",
   "mimetype": "text/x-python",
   "name": "python",
   "nbconvert_exporter": "python",
   "pygments_lexer": "ipython2",
   "version": "2.7.6"
  },
  "colab": {
   "name": "ner_roberta.ipynb",
   "provenance": [],
   "collapsed_sections": [
    "QlO1F3jSmOPx",
    "ZUifbznKmOP4",
    "jJxxNxH8mOQB",
    "4M0c0wF4mOQP",
    "lucYx8_BmOQc",
    "1QXsYFeUmOQs"
   ],
   "toc_visible": true
  },
  "accelerator": "GPU"
 },
 "cells": [
  {
   "cell_type": "code",
   "metadata": {
    "id": "HrDda5BlmYDu",
    "colab_type": "code",
    "colab": {
     "base_uri": "https://localhost:8080/",
     "height": 372
    },
    "outputId": "136ebaf5-e527-4bdd-e6fb-4c670d16a50e"
   },
   "source": [
    "!nvidia-smi"
   ],
   "execution_count": null,
   "outputs": [
    {
     "output_type": "stream",
     "text": [
      "Tue Aug 11 13:45:11 2020       \n",
      "+-----------------------------------------------------------------------------+\n",
      "| NVIDIA-SMI 450.57       Driver Version: 418.67       CUDA Version: 10.1     |\n",
      "|-------------------------------+----------------------+----------------------+\n",
      "| GPU  Name        Persistence-M| Bus-Id        Disp.A | Volatile Uncorr. ECC |\n",
      "| Fan  Temp  Perf  Pwr:Usage/Cap|         Memory-Usage | GPU-Util  Compute M. |\n",
      "|                               |                      |               MIG M. |\n",
      "|===============================+======================+======================|\n",
      "|   0  Tesla T4            Off  | 00000000:00:04.0 Off |                    0 |\n",
      "| N/A   67C    P8    13W /  70W |      0MiB / 15079MiB |      0%      Default |\n",
      "|                               |                      |                 ERR! |\n",
      "+-------------------------------+----------------------+----------------------+\n",
      "                                                                               \n",
      "+-----------------------------------------------------------------------------+\n",
      "| Processes:                                                                  |\n",
      "|  GPU   GI   CI        PID   Type   Process name                  GPU Memory |\n",
      "|        ID   ID                                                   Usage      |\n",
      "|=============================================================================|\n",
      "|  No running processes found                                                 |\n",
      "+-----------------------------------------------------------------------------+\n"
     ],
     "name": "stdout"
    }
   ]
  },
  {
   "cell_type": "code",
   "metadata": {
    "id": "ICOZTHPfmRSb",
    "colab_type": "code",
    "colab": {
     "base_uri": "https://localhost:8080/",
     "height": 409
    },
    "outputId": "893863c6-4f9d-43d8-ac12-e52d68ea1916"
   },
   "source": [
    "!wget -O data.zip https://husteduvn-my.sharepoint.com/:u:/g/personal/thanh_lt163705_sis_hust_edu_vn/EfZ-d1e94lJIu95YakpVO8gBBtQ5r77m16bNkzcI0lUI_g?download=1\n",
    "!unzip data.zip"
   ],
   "execution_count": null,
   "outputs": [
    {
     "output_type": "stream",
     "text": [
      "--2020-08-11 13:45:22--  https://husteduvn-my.sharepoint.com/:u:/g/personal/thanh_lt163705_sis_hust_edu_vn/EfZ-d1e94lJIu95YakpVO8gBBtQ5r77m16bNkzcI0lUI_g?download=1\n",
      "Resolving husteduvn-my.sharepoint.com (husteduvn-my.sharepoint.com)... 13.107.136.9\n",
      "Connecting to husteduvn-my.sharepoint.com (husteduvn-my.sharepoint.com)|13.107.136.9|:443... connected.\n",
      "HTTP request sent, awaiting response... 302 Found\n",
      "Location: /personal/thanh_lt163705_sis_hust_edu_vn/Documents/models/ner/ner_data.zip?&originalPath=aHR0cHM6Ly9odXN0ZWR1dm4tbXkuc2hhcmVwb2ludC5jb20vOnU6L2cvcGVyc29uYWwvdGhhbmhfbHQxNjM3MDVfc2lzX2h1c3RfZWR1X3ZuL0VmWi1kMWU5NGxKSXU5NVlha3BWTzhnQkJ0UTVyNzdtMTZiTmt6Y0kwbFVJX2c_cnRpbWU9UkxTeHlfdzkyRWc [following]\n",
      "--2020-08-11 13:45:23--  https://husteduvn-my.sharepoint.com/personal/thanh_lt163705_sis_hust_edu_vn/Documents/models/ner/ner_data.zip?&originalPath=aHR0cHM6Ly9odXN0ZWR1dm4tbXkuc2hhcmVwb2ludC5jb20vOnU6L2cvcGVyc29uYWwvdGhhbmhfbHQxNjM3MDVfc2lzX2h1c3RfZWR1X3ZuL0VmWi1kMWU5NGxKSXU5NVlha3BWTzhnQkJ0UTVyNzdtMTZiTmt6Y0kwbFVJX2c_cnRpbWU9UkxTeHlfdzkyRWc\n",
      "Reusing existing connection to husteduvn-my.sharepoint.com:443.\n",
      "HTTP request sent, awaiting response... 200 OK\n",
      "Length: 1259843 (1.2M) [application/x-zip-compressed]\n",
      "Saving to: ‘data.zip’\n",
      "\n",
      "data.zip            100%[===================>]   1.20M  --.-KB/s    in 0.07s   \n",
      "\n",
      "2020-08-11 13:45:23 (17.1 MB/s) - ‘data.zip’ saved [1259843/1259843]\n",
      "\n",
      "Archive:  data.zip\n",
      "  inflating: conlleval.py            \n",
      "  inflating: requirements.txt        \n",
      "  inflating: data/raw/dev.txt        \n",
      "  inflating: data/raw/test.txt       \n",
      "  inflating: data/raw/train.txt      \n"
     ],
     "name": "stdout"
    }
   ]
  },
  {
   "cell_type": "code",
   "metadata": {
    "id": "VNopNaxGn4pZ",
    "colab_type": "code",
    "colab": {
     "base_uri": "https://localhost:8080/",
     "height": 301
    },
    "outputId": "54f63f70-875f-4c15-9878-6c2e6e08a330"
   },
   "source": [
    "!wget -O phobert.tar.gz https://public.vinai.io/PhoBERT_base_transformers.tar.gz\n",
    "!tar -zxvf phobert.tar.gz"
   ],
   "execution_count": null,
   "outputs": [
    {
     "output_type": "stream",
     "text": [
      "--2020-08-11 13:45:38--  https://public.vinai.io/PhoBERT_base_transformers.tar.gz\n",
      "Resolving public.vinai.io (public.vinai.io)... 13.224.29.89, 13.224.29.113, 13.224.29.55, ...\n",
      "Connecting to public.vinai.io (public.vinai.io)|13.224.29.89|:443... connected.\n",
      "HTTP request sent, awaiting response... 200 OK\n",
      "Length: 322405979 (307M) [application/x-tar]\n",
      "Saving to: ‘phobert.tar.gz’\n",
      "\n",
      "phobert.tar.gz      100%[===================>] 307.47M   147MB/s    in 2.1s    \n",
      "\n",
      "2020-08-11 13:45:41 (147 MB/s) - ‘phobert.tar.gz’ saved [322405979/322405979]\n",
      "\n",
      "PhoBERT_base_transformers/\n",
      "PhoBERT_base_transformers/config.json\n",
      "PhoBERT_base_transformers/bpe.codes\n",
      "PhoBERT_base_transformers/model.bin\n",
      "PhoBERT_base_transformers/dict.txt\n"
     ],
     "name": "stdout"
    }
   ]
  },
  {
   "cell_type": "code",
   "metadata": {
    "id": "c151E_k2mhV5",
    "colab_type": "code",
    "colab": {
     "base_uri": "https://localhost:8080/",
     "height": 1000
    },
    "outputId": "b63d0805-4dec-4004-96b0-6e54ad6d9956"
   },
   "source": [
    "!pip install -r requirements.txt"
   ],
   "execution_count": null,
   "outputs": [
    {
     "output_type": "stream",
     "text": [
      "Collecting fastai2\n",
      "\u001B[?25l  Downloading https://files.pythonhosted.org/packages/bb/75/f1eabf4859913464363b332ffac9448290c1c14475e9b4aa0f4465aa824e/fastai2-0.0.25-py3-none-any.whl (177kB)\n",
      "\r\u001B[K     |█▉                              | 10kB 18.1MB/s eta 0:00:01\r\u001B[K     |███▊                            | 20kB 2.9MB/s eta 0:00:01\r\u001B[K     |█████▌                          | 30kB 3.5MB/s eta 0:00:01\r\u001B[K     |███████▍                        | 40kB 3.9MB/s eta 0:00:01\r\u001B[K     |█████████▎                      | 51kB 3.4MB/s eta 0:00:01\r\u001B[K     |███████████                     | 61kB 3.8MB/s eta 0:00:01\r\u001B[K     |█████████████                   | 71kB 4.0MB/s eta 0:00:01\r\u001B[K     |██████████████▊                 | 81kB 4.4MB/s eta 0:00:01\r\u001B[K     |████████████████▋               | 92kB 4.8MB/s eta 0:00:01\r\u001B[K     |██████████████████▌             | 102kB 4.5MB/s eta 0:00:01\r\u001B[K     |████████████████████▎           | 112kB 4.5MB/s eta 0:00:01\r\u001B[K     |██████████████████████▏         | 122kB 4.5MB/s eta 0:00:01\r\u001B[K     |████████████████████████        | 133kB 4.5MB/s eta 0:00:01\r\u001B[K     |█████████████████████████▉      | 143kB 4.5MB/s eta 0:00:01\r\u001B[K     |███████████████████████████▊    | 153kB 4.5MB/s eta 0:00:01\r\u001B[K     |█████████████████████████████▌  | 163kB 4.5MB/s eta 0:00:01\r\u001B[K     |███████████████████████████████▍| 174kB 4.5MB/s eta 0:00:01\r\u001B[K     |████████████████████████████████| 184kB 4.5MB/s \n",
      "\u001B[?25hRequirement already satisfied: torch in /usr/local/lib/python3.6/dist-packages (from -r requirements.txt (line 2)) (1.6.0+cu101)\n",
      "Requirement already satisfied: scikit_learn in /usr/local/lib/python3.6/dist-packages (from -r requirements.txt (line 3)) (0.22.2.post1)\n",
      "Requirement already satisfied: pandas in /usr/local/lib/python3.6/dist-packages (from -r requirements.txt (line 4)) (1.0.5)\n",
      "Requirement already satisfied: numpy in /usr/local/lib/python3.6/dist-packages (from -r requirements.txt (line 5)) (1.18.5)\n",
      "Collecting transformers\n",
      "\u001B[?25l  Downloading https://files.pythonhosted.org/packages/27/3c/91ed8f5c4e7ef3227b4119200fc0ed4b4fd965b1f0172021c25701087825/transformers-3.0.2-py3-none-any.whl (769kB)\n",
      "\r\u001B[K     |▍                               | 10kB 29.0MB/s eta 0:00:01\r\u001B[K     |▉                               | 20kB 35.0MB/s eta 0:00:01\r\u001B[K     |█▎                              | 30kB 21.6MB/s eta 0:00:01\r\u001B[K     |█▊                              | 40kB 16.7MB/s eta 0:00:01\r\u001B[K     |██▏                             | 51kB 11.5MB/s eta 0:00:01\r\u001B[K     |██▋                             | 61kB 11.3MB/s eta 0:00:01\r\u001B[K     |███                             | 71kB 11.1MB/s eta 0:00:01\r\u001B[K     |███▍                            | 81kB 10.9MB/s eta 0:00:01\r\u001B[K     |███▉                            | 92kB 10.1MB/s eta 0:00:01\r\u001B[K     |████▎                           | 102kB 10.3MB/s eta 0:00:01\r\u001B[K     |████▊                           | 112kB 10.3MB/s eta 0:00:01\r\u001B[K     |█████▏                          | 122kB 10.3MB/s eta 0:00:01\r\u001B[K     |█████▌                          | 133kB 10.3MB/s eta 0:00:01\r\u001B[K     |██████                          | 143kB 10.3MB/s eta 0:00:01\r\u001B[K     |██████▍                         | 153kB 10.3MB/s eta 0:00:01\r\u001B[K     |██████▉                         | 163kB 10.3MB/s eta 0:00:01\r\u001B[K     |███████▎                        | 174kB 10.3MB/s eta 0:00:01\r\u001B[K     |███████▊                        | 184kB 10.3MB/s eta 0:00:01\r\u001B[K     |████████                        | 194kB 10.3MB/s eta 0:00:01\r\u001B[K     |████████▌                       | 204kB 10.3MB/s eta 0:00:01\r\u001B[K     |█████████                       | 215kB 10.3MB/s eta 0:00:01\r\u001B[K     |█████████▍                      | 225kB 10.3MB/s eta 0:00:01\r\u001B[K     |█████████▉                      | 235kB 10.3MB/s eta 0:00:01\r\u001B[K     |██████████▎                     | 245kB 10.3MB/s eta 0:00:01\r\u001B[K     |██████████▋                     | 256kB 10.3MB/s eta 0:00:01\r\u001B[K     |███████████                     | 266kB 10.3MB/s eta 0:00:01\r\u001B[K     |███████████▌                    | 276kB 10.3MB/s eta 0:00:01\r\u001B[K     |████████████                    | 286kB 10.3MB/s eta 0:00:01\r\u001B[K     |████████████▍                   | 296kB 10.3MB/s eta 0:00:01\r\u001B[K     |████████████▉                   | 307kB 10.3MB/s eta 0:00:01\r\u001B[K     |█████████████▏                  | 317kB 10.3MB/s eta 0:00:01\r\u001B[K     |█████████████▋                  | 327kB 10.3MB/s eta 0:00:01\r\u001B[K     |██████████████                  | 337kB 10.3MB/s eta 0:00:01\r\u001B[K     |██████████████▌                 | 348kB 10.3MB/s eta 0:00:01\r\u001B[K     |███████████████                 | 358kB 10.3MB/s eta 0:00:01\r\u001B[K     |███████████████▍                | 368kB 10.3MB/s eta 0:00:01\r\u001B[K     |███████████████▊                | 378kB 10.3MB/s eta 0:00:01\r\u001B[K     |████████████████▏               | 389kB 10.3MB/s eta 0:00:01\r\u001B[K     |████████████████▋               | 399kB 10.3MB/s eta 0:00:01\r\u001B[K     |█████████████████               | 409kB 10.3MB/s eta 0:00:01\r\u001B[K     |█████████████████▌              | 419kB 10.3MB/s eta 0:00:01\r\u001B[K     |██████████████████              | 430kB 10.3MB/s eta 0:00:01\r\u001B[K     |██████████████████▎             | 440kB 10.3MB/s eta 0:00:01\r\u001B[K     |██████████████████▊             | 450kB 10.3MB/s eta 0:00:01\r\u001B[K     |███████████████████▏            | 460kB 10.3MB/s eta 0:00:01\r\u001B[K     |███████████████████▋            | 471kB 10.3MB/s eta 0:00:01\r\u001B[K     |████████████████████            | 481kB 10.3MB/s eta 0:00:01\r\u001B[K     |████████████████████▌           | 491kB 10.3MB/s eta 0:00:01\r\u001B[K     |████████████████████▉           | 501kB 10.3MB/s eta 0:00:01\r\u001B[K     |█████████████████████▎          | 512kB 10.3MB/s eta 0:00:01\r\u001B[K     |█████████████████████▊          | 522kB 10.3MB/s eta 0:00:01\r\u001B[K     |██████████████████████▏         | 532kB 10.3MB/s eta 0:00:01\r\u001B[K     |██████████████████████▋         | 542kB 10.3MB/s eta 0:00:01\r\u001B[K     |███████████████████████         | 552kB 10.3MB/s eta 0:00:01\r\u001B[K     |███████████████████████▍        | 563kB 10.3MB/s eta 0:00:01\r\u001B[K     |███████████████████████▉        | 573kB 10.3MB/s eta 0:00:01\r\u001B[K     |████████████████████████▎       | 583kB 10.3MB/s eta 0:00:01\r\u001B[K     |████████████████████████▊       | 593kB 10.3MB/s eta 0:00:01\r\u001B[K     |█████████████████████████▏      | 604kB 10.3MB/s eta 0:00:01\r\u001B[K     |█████████████████████████▋      | 614kB 10.3MB/s eta 0:00:01\r\u001B[K     |██████████████████████████      | 624kB 10.3MB/s eta 0:00:01\r\u001B[K     |██████████████████████████▍     | 634kB 10.3MB/s eta 0:00:01\r\u001B[K     |██████████████████████████▉     | 645kB 10.3MB/s eta 0:00:01\r\u001B[K     |███████████████████████████▎    | 655kB 10.3MB/s eta 0:00:01\r\u001B[K     |███████████████████████████▊    | 665kB 10.3MB/s eta 0:00:01\r\u001B[K     |████████████████████████████▏   | 675kB 10.3MB/s eta 0:00:01\r\u001B[K     |████████████████████████████▌   | 686kB 10.3MB/s eta 0:00:01\r\u001B[K     |█████████████████████████████   | 696kB 10.3MB/s eta 0:00:01\r\u001B[K     |█████████████████████████████▍  | 706kB 10.3MB/s eta 0:00:01\r\u001B[K     |█████████████████████████████▉  | 716kB 10.3MB/s eta 0:00:01\r\u001B[K     |██████████████████████████████▎ | 727kB 10.3MB/s eta 0:00:01\r\u001B[K     |██████████████████████████████▊ | 737kB 10.3MB/s eta 0:00:01\r\u001B[K     |███████████████████████████████ | 747kB 10.3MB/s eta 0:00:01\r\u001B[K     |███████████████████████████████▌| 757kB 10.3MB/s eta 0:00:01\r\u001B[K     |████████████████████████████████| 768kB 10.3MB/s eta 0:00:01\r\u001B[K     |████████████████████████████████| 778kB 10.3MB/s \n",
      "\u001B[?25hCollecting fastBPE\n",
      "  Downloading https://files.pythonhosted.org/packages/e1/37/f97181428a5d151501b90b2cebedf97c81b034ace753606a3cda5ad4e6e2/fastBPE-0.1.0.tar.gz\n",
      "Collecting fairseq\n",
      "\u001B[?25l  Downloading https://files.pythonhosted.org/packages/67/bf/de299e082e7af010d35162cb9a185dc6c17db71624590f2f379aeb2519ff/fairseq-0.9.0.tar.gz (306kB)\n",
      "\u001B[K     |████████████████████████████████| 307kB 25.4MB/s \n",
      "\u001B[?25hCollecting pytorch-crf\n",
      "  Downloading https://files.pythonhosted.org/packages/96/7d/4c4688e26ea015fc118a0327e5726e6596836abce9182d3738be8ec2e32a/pytorch_crf-0.7.2-py3-none-any.whl\n",
      "Requirement already satisfied: scipy in /usr/local/lib/python3.6/dist-packages (from fastai2->-r requirements.txt (line 1)) (1.4.1)\n",
      "Requirement already satisfied: pillow in /usr/local/lib/python3.6/dist-packages (from fastai2->-r requirements.txt (line 1)) (7.0.0)\n",
      "Collecting fastcore>=0.1.29\n",
      "  Downloading https://files.pythonhosted.org/packages/aa/e3/a3cbd1428c83aaa61d2d2e9901a3ae5b0783c09c695766b70dc47cd6eab7/fastcore-0.1.30-py3-none-any.whl\n",
      "Requirement already satisfied: pyyaml in /usr/local/lib/python3.6/dist-packages (from fastai2->-r requirements.txt (line 1)) (3.13)\n",
      "Requirement already satisfied: matplotlib in /usr/local/lib/python3.6/dist-packages (from fastai2->-r requirements.txt (line 1)) (3.2.2)\n",
      "Requirement already satisfied: packaging in /usr/local/lib/python3.6/dist-packages (from fastai2->-r requirements.txt (line 1)) (20.4)\n",
      "Requirement already satisfied: requests in /usr/local/lib/python3.6/dist-packages (from fastai2->-r requirements.txt (line 1)) (2.23.0)\n",
      "Requirement already satisfied: torchvision>=0.7 in /usr/local/lib/python3.6/dist-packages (from fastai2->-r requirements.txt (line 1)) (0.7.0+cu101)\n",
      "Requirement already satisfied: pip in /usr/local/lib/python3.6/dist-packages (from fastai2->-r requirements.txt (line 1)) (19.3.1)\n",
      "Requirement already satisfied: fastprogress>=0.2.4 in /usr/local/lib/python3.6/dist-packages (from fastai2->-r requirements.txt (line 1)) (0.2.4)\n",
      "Requirement already satisfied: spacy in /usr/local/lib/python3.6/dist-packages (from fastai2->-r requirements.txt (line 1)) (2.2.4)\n",
      "Requirement already satisfied: future in /usr/local/lib/python3.6/dist-packages (from torch->-r requirements.txt (line 2)) (0.16.0)\n",
      "Requirement already satisfied: joblib>=0.11 in /usr/local/lib/python3.6/dist-packages (from scikit_learn->-r requirements.txt (line 3)) (0.16.0)\n",
      "Requirement already satisfied: pytz>=2017.2 in /usr/local/lib/python3.6/dist-packages (from pandas->-r requirements.txt (line 4)) (2018.9)\n",
      "Requirement already satisfied: python-dateutil>=2.6.1 in /usr/local/lib/python3.6/dist-packages (from pandas->-r requirements.txt (line 4)) (2.8.1)\n",
      "Collecting tokenizers==0.8.1.rc1\n",
      "\u001B[?25l  Downloading https://files.pythonhosted.org/packages/40/d0/30d5f8d221a0ed981a186c8eb986ce1c94e3a6e87f994eae9f4aa5250217/tokenizers-0.8.1rc1-cp36-cp36m-manylinux1_x86_64.whl (3.0MB)\n",
      "\u001B[K     |████████████████████████████████| 3.0MB 29.4MB/s \n",
      "\u001B[?25hRequirement already satisfied: tqdm>=4.27 in /usr/local/lib/python3.6/dist-packages (from transformers->-r requirements.txt (line 6)) (4.41.1)\n",
      "Requirement already satisfied: regex!=2019.12.17 in /usr/local/lib/python3.6/dist-packages (from transformers->-r requirements.txt (line 6)) (2019.12.20)\n",
      "Collecting sentencepiece!=0.1.92\n",
      "\u001B[?25l  Downloading https://files.pythonhosted.org/packages/d4/a4/d0a884c4300004a78cca907a6ff9a5e9fe4f090f5d95ab341c53d28cbc58/sentencepiece-0.1.91-cp36-cp36m-manylinux1_x86_64.whl (1.1MB)\n",
      "\u001B[K     |████████████████████████████████| 1.1MB 46.3MB/s \n",
      "\u001B[?25hRequirement already satisfied: dataclasses; python_version < \"3.7\" in /usr/local/lib/python3.6/dist-packages (from transformers->-r requirements.txt (line 6)) (0.7)\n",
      "Requirement already satisfied: filelock in /usr/local/lib/python3.6/dist-packages (from transformers->-r requirements.txt (line 6)) (3.0.12)\n",
      "Collecting sacremoses\n",
      "\u001B[?25l  Downloading https://files.pythonhosted.org/packages/7d/34/09d19aff26edcc8eb2a01bed8e98f13a1537005d31e95233fd48216eed10/sacremoses-0.0.43.tar.gz (883kB)\n",
      "\u001B[K     |████████████████████████████████| 890kB 56.5MB/s \n",
      "\u001B[?25hRequirement already satisfied: cffi in /usr/local/lib/python3.6/dist-packages (from fairseq->-r requirements.txt (line 8)) (1.14.1)\n",
      "Requirement already satisfied: cython in /usr/local/lib/python3.6/dist-packages (from fairseq->-r requirements.txt (line 8)) (0.29.21)\n",
      "Collecting sacrebleu\n",
      "\u001B[?25l  Downloading https://files.pythonhosted.org/packages/23/d3/be980ad7cda7c4bbfa97ee3de062fb3014fc1a34d6dd5b82d7b92f8d6522/sacrebleu-1.4.13-py3-none-any.whl (43kB)\n",
      "\u001B[K     |████████████████████████████████| 51kB 8.3MB/s \n",
      "\u001B[?25hRequirement already satisfied: pyparsing!=2.0.4,!=2.1.2,!=2.1.6,>=2.0.1 in /usr/local/lib/python3.6/dist-packages (from matplotlib->fastai2->-r requirements.txt (line 1)) (2.4.7)\n",
      "Requirement already satisfied: cycler>=0.10 in /usr/local/lib/python3.6/dist-packages (from matplotlib->fastai2->-r requirements.txt (line 1)) (0.10.0)\n",
      "Requirement already satisfied: kiwisolver>=1.0.1 in /usr/local/lib/python3.6/dist-packages (from matplotlib->fastai2->-r requirements.txt (line 1)) (1.2.0)\n",
      "Requirement already satisfied: six in /usr/local/lib/python3.6/dist-packages (from packaging->fastai2->-r requirements.txt (line 1)) (1.15.0)\n",
      "Requirement already satisfied: urllib3!=1.25.0,!=1.25.1,<1.26,>=1.21.1 in /usr/local/lib/python3.6/dist-packages (from requests->fastai2->-r requirements.txt (line 1)) (1.24.3)\n",
      "Requirement already satisfied: chardet<4,>=3.0.2 in /usr/local/lib/python3.6/dist-packages (from requests->fastai2->-r requirements.txt (line 1)) (3.0.4)\n",
      "Requirement already satisfied: certifi>=2017.4.17 in /usr/local/lib/python3.6/dist-packages (from requests->fastai2->-r requirements.txt (line 1)) (2020.6.20)\n",
      "Requirement already satisfied: idna<3,>=2.5 in /usr/local/lib/python3.6/dist-packages (from requests->fastai2->-r requirements.txt (line 1)) (2.10)\n",
      "Requirement already satisfied: cymem<2.1.0,>=2.0.2 in /usr/local/lib/python3.6/dist-packages (from spacy->fastai2->-r requirements.txt (line 1)) (2.0.3)\n",
      "Requirement already satisfied: murmurhash<1.1.0,>=0.28.0 in /usr/local/lib/python3.6/dist-packages (from spacy->fastai2->-r requirements.txt (line 1)) (1.0.2)\n",
      "Requirement already satisfied: catalogue<1.1.0,>=0.0.7 in /usr/local/lib/python3.6/dist-packages (from spacy->fastai2->-r requirements.txt (line 1)) (1.0.0)\n",
      "Requirement already satisfied: wasabi<1.1.0,>=0.4.0 in /usr/local/lib/python3.6/dist-packages (from spacy->fastai2->-r requirements.txt (line 1)) (0.7.1)\n",
      "Requirement already satisfied: setuptools in /usr/local/lib/python3.6/dist-packages (from spacy->fastai2->-r requirements.txt (line 1)) (49.2.0)\n",
      "Requirement already satisfied: plac<1.2.0,>=0.9.6 in /usr/local/lib/python3.6/dist-packages (from spacy->fastai2->-r requirements.txt (line 1)) (1.1.3)\n",
      "Requirement already satisfied: thinc==7.4.0 in /usr/local/lib/python3.6/dist-packages (from spacy->fastai2->-r requirements.txt (line 1)) (7.4.0)\n",
      "Requirement already satisfied: srsly<1.1.0,>=1.0.2 in /usr/local/lib/python3.6/dist-packages (from spacy->fastai2->-r requirements.txt (line 1)) (1.0.2)\n",
      "Requirement already satisfied: blis<0.5.0,>=0.4.0 in /usr/local/lib/python3.6/dist-packages (from spacy->fastai2->-r requirements.txt (line 1)) (0.4.1)\n",
      "Requirement already satisfied: preshed<3.1.0,>=3.0.2 in /usr/local/lib/python3.6/dist-packages (from spacy->fastai2->-r requirements.txt (line 1)) (3.0.2)\n",
      "Requirement already satisfied: click in /usr/local/lib/python3.6/dist-packages (from sacremoses->transformers->-r requirements.txt (line 6)) (7.1.2)\n",
      "Requirement already satisfied: pycparser in /usr/local/lib/python3.6/dist-packages (from cffi->fairseq->-r requirements.txt (line 8)) (2.20)\n",
      "Collecting portalocker\n",
      "  Downloading https://files.pythonhosted.org/packages/89/a6/3814b7107e0788040870e8825eebf214d72166adf656ba7d4bf14759a06a/portalocker-2.0.0-py2.py3-none-any.whl\n",
      "Requirement already satisfied: importlib-metadata>=0.20; python_version < \"3.8\" in /usr/local/lib/python3.6/dist-packages (from catalogue<1.1.0,>=0.0.7->spacy->fastai2->-r requirements.txt (line 1)) (1.7.0)\n",
      "Requirement already satisfied: zipp>=0.5 in /usr/local/lib/python3.6/dist-packages (from importlib-metadata>=0.20; python_version < \"3.8\"->catalogue<1.1.0,>=0.0.7->spacy->fastai2->-r requirements.txt (line 1)) (3.1.0)\n",
      "Building wheels for collected packages: fastBPE, fairseq, sacremoses\n",
      "  Building wheel for fastBPE (setup.py) ... \u001B[?25l\u001B[?25hdone\n",
      "  Created wheel for fastBPE: filename=fastBPE-0.1.0-cp36-cp36m-linux_x86_64.whl size=481509 sha256=0bf0f7ff6b18fb4208e3d9855335150c3b895d88940b4c328937b3c6f6a21925\n",
      "  Stored in directory: /root/.cache/pip/wheels/f3/0c/9c/fc62058b4d473a5602bcd3d3edfece796f123875379ea82d79\n",
      "  Building wheel for fairseq (setup.py) ... \u001B[?25l\u001B[?25hdone\n",
      "  Created wheel for fairseq: filename=fairseq-0.9.0-cp36-cp36m-linux_x86_64.whl size=2046463 sha256=7730e1ca9a055ef33c38c0b47370e31c95a501f514f1479367d9ed3d133c4f00\n",
      "  Stored in directory: /root/.cache/pip/wheels/37/3e/1b/0fa30695dcba41e4b0088067fa40f3328d1e8ee78c22cd4766\n",
      "  Building wheel for sacremoses (setup.py) ... \u001B[?25l\u001B[?25hdone\n",
      "  Created wheel for sacremoses: filename=sacremoses-0.0.43-cp36-none-any.whl size=893260 sha256=a80fe7d77bcf259004ee6e037b613c464f513525ece2eada5831cfd4923517d8\n",
      "  Stored in directory: /root/.cache/pip/wheels/29/3c/fd/7ce5c3f0666dab31a50123635e6fb5e19ceb42ce38d4e58f45\n",
      "Successfully built fastBPE fairseq sacremoses\n",
      "Installing collected packages: fastcore, fastai2, tokenizers, sentencepiece, sacremoses, transformers, fastBPE, portalocker, sacrebleu, fairseq, pytorch-crf\n",
      "Successfully installed fairseq-0.9.0 fastBPE-0.1.0 fastai2-0.0.25 fastcore-0.1.30 portalocker-2.0.0 pytorch-crf-0.7.2 sacrebleu-1.4.13 sacremoses-0.0.43 sentencepiece-0.1.91 tokenizers-0.8.1rc1 transformers-3.0.2\n"
     ],
     "name": "stdout"
    }
   ]
  },
  {
   "cell_type": "code",
   "metadata": {
    "id": "4hSEYMRbC5Ff",
    "colab_type": "code",
    "colab": {
     "base_uri": "https://localhost:8080/",
     "height": 126
    },
    "outputId": "4e1ca205-d82f-4a42-fa5d-61f87186ff6b"
   },
   "source": [
    "from google.colab import drive\n",
    "drive.mount('/content/drive')"
   ],
   "execution_count": null,
   "outputs": [
    {
     "output_type": "stream",
     "text": [
      "Go to this URL in a browser: https://accounts.google.com/o/oauth2/auth?client_id=947318989803-6bn6qk8qdgf4n4g3pfee6491hc0brc4i.apps.googleusercontent.com&redirect_uri=urn%3aietf%3awg%3aoauth%3a2.0%3aoob&scope=email%20https%3a%2f%2fwww.googleapis.com%2fauth%2fdocs.test%20https%3a%2f%2fwww.googleapis.com%2fauth%2fdrive%20https%3a%2f%2fwww.googleapis.com%2fauth%2fdrive.photos.readonly%20https%3a%2f%2fwww.googleapis.com%2fauth%2fpeopleapi.readonly&response_type=code\n",
      "\n",
      "Enter your authorization code:\n",
      "··········\n",
      "Mounted at /content/drive\n"
     ],
     "name": "stdout"
    }
   ]
  },
  {
   "cell_type": "code",
   "metadata": {
    "id": "MTiXZTr0mOPd",
    "colab_type": "code",
    "colab": {}
   },
   "source": [
    "import torch\n",
    "import torch.nn as nn\n",
    "from fastai.text.all import (\n",
    "    L, params, Path, partial, pad_input,\n",
    "    tensor, TitledStr, TensorCategory, Category,\n",
    "    Transform, AttrGetter, Pipeline, ItemGetter,\n",
    "    Datasets,\n",
    "    Categorize, CategoryMap,\n",
    "    RandomSplitter,\n",
    "    Learner,\n",
    "    accuracy, F1Score, Recall,\n",
    "    Adam, LabelSmoothingCrossEntropy,\n",
    "    ShowGraphCallback, Callback, Metric,\n",
    ")\n",
    "from transformers import (\n",
    "    PreTrainedTokenizer,\n",
    "    BertForSequenceClassification, BertTokenizer, BertConfig,\n",
    "    RobertaConfig, RobertaModel,\n",
    ")\n",
    "from fairseq.data.encoders.fastbpe import fastBPE\n",
    "from fairseq.data import Dictionary\n",
    "import random\n",
    "import numpy as np\n",
    "import re\n",
    "from typing import *\n",
    "from collections import defaultdict\n",
    "import logging\n",
    "from torchcrf import CRF\n",
    "from conlleval import evaluate\n",
    "import dill\n",
    "import warnings"
   ],
   "execution_count": null,
   "outputs": []
  },
  {
   "cell_type": "markdown",
   "metadata": {
    "collapsed": false,
    "pycharm": {
     "name": "#%% md\n"
    },
    "id": "G-suz99ZmOPi",
    "colab_type": "text"
   },
   "source": [
    "# Config logging"
   ]
  },
  {
   "cell_type": "code",
   "metadata": {
    "id": "vwDt_HUgm_eT",
    "colab_type": "code",
    "colab": {
     "base_uri": "https://localhost:8080/",
     "height": 35
    },
    "outputId": "2d3f0659-226d-4c89-cfd5-3387568369e2"
   },
   "source": [
    "!mkdir log"
   ],
   "execution_count": null,
   "outputs": [
    {
     "output_type": "stream",
     "text": [
      "mkdir: cannot create directory ‘log’: File exists\n"
     ],
     "name": "stdout"
    }
   ]
  },
  {
   "cell_type": "code",
   "metadata": {
    "pycharm": {
     "name": "#%%\n"
    },
    "id": "1sNAem56mOPi",
    "colab_type": "code",
    "colab": {}
   },
   "source": [
    "logging.basicConfig(\n",
    "    level=logging.DEBUG,\n",
    "    filename='log/bert_ner.log',\n",
    "    filemode='a',\n",
    "    format='%(asctime)s - %(name)s - %(levelname)s - %(message)s',\n",
    "    datefmt='%d-%b-%y %H:%M:%S',\n",
    ")\n"
   ],
   "execution_count": null,
   "outputs": []
  },
  {
   "cell_type": "markdown",
   "metadata": {
    "collapsed": false,
    "pycharm": {
     "name": "#%% md\n"
    },
    "id": "5GGjoEJimOPm",
    "colab_type": "text"
   },
   "source": [
    "# Utils"
   ]
  },
  {
   "cell_type": "markdown",
   "metadata": {
    "collapsed": false,
    "pycharm": {
     "name": "#%% md\n"
    },
    "id": "_98IL2ctmOPm",
    "colab_type": "text"
   },
   "source": [
    "## Seed all"
   ]
  },
  {
   "cell_type": "code",
   "metadata": {
    "pycharm": {
     "name": "#%%\n"
    },
    "id": "BV3ebQi_mOPo",
    "colab_type": "code",
    "colab": {}
   },
   "source": [
    "def seed_all(seed_value):\n",
    "    random.seed(seed_value)\n",
    "    np.random.seed(seed_value)\n",
    "    torch.manual_seed(seed_value)\n",
    "\n",
    "    if torch.cuda.is_available():\n",
    "        torch.cuda.manual_seed(seed_value)\n",
    "        torch.cuda.manual_seed_all(seed_value)\n",
    "        torch.backends.cudnn.deterministic = True\n",
    "        torch.backends.cudnn.benchmark = False"
   ],
   "execution_count": null,
   "outputs": []
  },
  {
   "cell_type": "code",
   "metadata": {
    "id": "PPjMOpTdnD8h",
    "colab_type": "code",
    "colab": {}
   },
   "source": [
    "seed_all(42)"
   ],
   "execution_count": null,
   "outputs": []
  },
  {
   "cell_type": "markdown",
   "metadata": {
    "collapsed": false,
    "pycharm": {
     "name": "#%% md\n"
    },
    "id": "WqWPguWDmOPr",
    "colab_type": "text"
   },
   "source": [
    "## Config class"
   ]
  },
  {
   "cell_type": "code",
   "metadata": {
    "pycharm": {
     "name": "#%%\n"
    },
    "id": "SfqiSVTBmOPr",
    "colab_type": "code",
    "colab": {}
   },
   "source": [
    "class Config:\n",
    "    def __init__(self, *args, **kwargs):\n",
    "        for k, v in kwargs.items():\n",
    "            self.__setattr__(k, v)"
   ],
   "execution_count": null,
   "outputs": []
  },
  {
   "cell_type": "markdown",
   "metadata": {
    "collapsed": false,
    "pycharm": {
     "name": "#%% md\n"
    },
    "id": "MgijwFwamOPu",
    "colab_type": "text"
   },
   "source": [
    "# Load data"
   ]
  },
  {
   "cell_type": "markdown",
   "metadata": {
    "collapsed": false,
    "pycharm": {
     "name": "#%% md\n"
    },
    "id": "Buf42Xp0mOPu",
    "colab_type": "text"
   },
   "source": [
    "## Read data from text file"
   ]
  },
  {
   "cell_type": "code",
   "metadata": {
    "pycharm": {
     "name": "#%%\n"
    },
    "id": "gvVR0WDRmOPv",
    "colab_type": "code",
    "colab": {}
   },
   "source": [
    "def read_data(fn: Union[str, Path]):\n",
    "    with open(fn, mode='r', encoding='utf8') as f:\n",
    "        txt = f.read()\n",
    "\n",
    "    results = L()\n",
    "    sentences = re.split(r'\\n\\n', txt)\n",
    "    for sentence in sentences:\n",
    "        lines = sentence.split('\\n')\n",
    "        words, pos, chunk, labels = zip(*[re.split('\\t', line.strip()) for line in lines])\n",
    "\n",
    "        words = L(re.sub(r' ', '_', w) for w in words)\n",
    "        labels = list(labels)\n",
    "\n",
    "        results.append((words, L(pos), L(chunk), L(labels)))\n",
    "\n",
    "    return results"
   ],
   "execution_count": null,
   "outputs": []
  },
  {
   "cell_type": "markdown",
   "metadata": {
    "collapsed": false,
    "pycharm": {
     "name": "#%% md\n"
    },
    "id": "QlO1F3jSmOPx",
    "colab_type": "text"
   },
   "source": [
    "### Test read data"
   ]
  },
  {
   "cell_type": "code",
   "metadata": {
    "pycharm": {
     "name": "#%%\n"
    },
    "id": "epo14IvumOPx",
    "colab_type": "code",
    "colab": {}
   },
   "source": [
    "# test_data = read_data('data/raw/test.txt')\n",
    "# test_data[0]"
   ],
   "execution_count": null,
   "outputs": []
  },
  {
   "cell_type": "markdown",
   "metadata": {
    "collapsed": false,
    "pycharm": {
     "name": "#%% md\n"
    },
    "id": "om7xw7L5mOP0",
    "colab_type": "text"
   },
   "source": [
    "## Process data"
   ]
  },
  {
   "cell_type": "markdown",
   "metadata": {
    "collapsed": false,
    "pycharm": {
     "name": "#%% md\n"
    },
    "id": "OrqaDlyQmOP1",
    "colab_type": "text"
   },
   "source": [
    "### Tokenizer"
   ]
  },
  {
   "cell_type": "code",
   "metadata": {
    "pycharm": {
     "name": "#%%\n"
    },
    "id": "27WYLS2vmOP1",
    "colab_type": "code",
    "colab": {}
   },
   "source": [
    "class RobertaBPETokenizer:\n",
    "    def __init__(self, bpe_path: Union[str, Path], vocab_path: Union[str, Path]):\n",
    "        self._bpe = fastBPE(Config(bpe_codes=bpe_path))\n",
    "        self._vocab = self._get_vocab(vocab_path)\n",
    "\n",
    "    @property\n",
    "    def cls_token(self):\n",
    "        return '<s>'\n",
    "\n",
    "    @property\n",
    "    def sep_token(self):\n",
    "        return self._vocab.eos_word\n",
    "\n",
    "    @property\n",
    "    def pad_token(self):\n",
    "        return self._vocab.pad_word\n",
    "\n",
    "    @property\n",
    "    def pad_token_id(self):\n",
    "        return self._vocab.pad_index\n",
    "\n",
    "    @property\n",
    "    def cls_token_id(self):\n",
    "        return self._vocab.bos_index\n",
    "\n",
    "    @property\n",
    "    def sep_token_id(self):\n",
    "        return self._vocab.eos_index\n",
    "\n",
    "    @property\n",
    "    def max_len(self):\n",
    "        return 512\n",
    "\n",
    "    def tokenize(self, text: str):\n",
    "        return self._bpe.encode(text).split()\n",
    "\n",
    "    @staticmethod\n",
    "    def _get_vocab(vocab_path: Union[str, Path]):\n",
    "        d = Dictionary()\n",
    "        d.add_from_file(vocab_path)\n",
    "        return d\n",
    "\n",
    "    def convert_tokens_to_ids(self, tokens: list):\n",
    "        return self._vocab.encode_line(\n",
    "            tokens,\n",
    "            line_tokenizer=lambda x: x,\n",
    "            append_eos=False,\n",
    "            add_if_not_exist=False,\n",
    "        ).long()\n",
    "\n",
    "    def decode(self, x: torch.Tensor):\n",
    "        return self._bpe.decode(self._vocab.string(x))"
   ],
   "execution_count": null,
   "outputs": []
  },
  {
   "cell_type": "markdown",
   "metadata": {
    "collapsed": false,
    "pycharm": {
     "name": "#%% md\n"
    },
    "id": "ZUifbznKmOP4",
    "colab_type": "text"
   },
   "source": [
    "#### Test tokenizer"
   ]
  },
  {
   "cell_type": "code",
   "metadata": {
    "pycharm": {
     "name": "#%%\n"
    },
    "id": "lXmaClp8mOP5",
    "colab_type": "code",
    "colab": {}
   },
   "source": [
    "# tokenizer = RobertaBPETokenizer(\n",
    "#     bpe_path='data/Pho_Bert_base/bpe.codes',\n",
    "#     vocab_path='data/Pho_Bert_base/dict.txt',\n",
    "# )\n",
    "\n",
    "# s = \"Tôi là sinh_viên trường đại_học Bách_khoa Hà_Nội .\"\n",
    "# tokens = tokenizer.tokenize(s)\n",
    "# token_ids = tokenizer.convert_tokens_to_ids(tokens)\n",
    "# tokens, token_ids"
   ],
   "execution_count": null,
   "outputs": []
  },
  {
   "cell_type": "markdown",
   "metadata": {
    "collapsed": false,
    "pycharm": {
     "name": "#%% md\n"
    },
    "id": "4wsiuBn0mOP9",
    "colab_type": "text"
   },
   "source": [
    "### Words transform"
   ]
  },
  {
   "cell_type": "code",
   "metadata": {
    "pycharm": {
     "name": "#%%\n"
    },
    "id": "6xxe1uIYmOP9",
    "colab_type": "code",
    "colab": {}
   },
   "source": [
    "class WordTransform(Transform):\n",
    "    def __init__(self, tokenizer: RobertaBPETokenizer):\n",
    "        super(WordTransform, self).__init__()\n",
    "        self.tokenizer = tokenizer\n",
    "        self._i2pos, self._i2chunk = None, None\n",
    "        self._pos2i, self._chunk2i = defaultdict(int), defaultdict(int)\n",
    "\n",
    "    def setups(self, items):\n",
    "        all_pos, all_chunk = [], []\n",
    "        for item in items:\n",
    "            all_pos.extend(list(item[0][1]))\n",
    "            all_chunk.extend(list(item[0][2]))\n",
    "\n",
    "        pos = sorted(list(set(all_pos)))\n",
    "        chunk = sorted(list(set(all_chunk)))\n",
    "\n",
    "        self._i2pos, self._i2chunk = pos, chunk\n",
    "        self._pos2i = {p: i for i, p in enumerate(pos)}\n",
    "        self._chunk2i = {c: i for i, c in enumerate(chunk)}\n",
    "\n",
    "    def encodes(self, x):\n",
    "        words, pos, chunk = x\n",
    "\n",
    "        # process word\n",
    "        tokens = []\n",
    "        len_words = []\n",
    "        for word in words:\n",
    "            w_tokens = self.tokenizer.tokenize(word)\n",
    "            tokens.append(w_tokens)\n",
    "            len_words.append(len(w_tokens))\n",
    "\n",
    "        n_words = len(np.where(np.cumsum(len_words) <= (self.tokenizer.max_len - 2))[0])\n",
    "\n",
    "        tokens = [self.tokenizer.cls_token, *(sum(tokens[:n_words], [])), self.tokenizer.sep_token]\n",
    "        token_ids = self.tokenizer.convert_tokens_to_ids(tokens)\n",
    "\n",
    "        # process pos and chunk\n",
    "        pos = [self._pos2i[p] for p in pos[:n_words]]\n",
    "        chunk = [self._chunk2i[c] for c in chunk[:n_words]]\n",
    "        return {\n",
    "            'token_ids': token_ids,\n",
    "            'n_words': n_words,\n",
    "            'len_words': tensor(len_words),\n",
    "            'pos': tensor(pos),\n",
    "            'chunk': tensor(chunk),\n",
    "        }\n",
    "\n",
    "    def decodes(self, x):\n",
    "        token_ids = x['token_ids']\n",
    "        return TitledStr(self.tokenizer.decode(token_ids))"
   ],
   "execution_count": null,
   "outputs": []
  },
  {
   "cell_type": "code",
   "metadata": {
    "pycharm": {
     "name": "#%%\n"
    },
    "id": "T6BwsZWLmOP_",
    "colab_type": "code",
    "colab": {}
   },
   "source": [
    "class WordTransformV2(Transform):\n",
    "    def __init__(self, tokenizer: RobertaBPETokenizer):\n",
    "        super(WordTransformV2, self).__init__()\n",
    "        self.tokenizer = tokenizer\n",
    "\n",
    "    def encodes(self, x):\n",
    "        words = x\n",
    "\n",
    "        # process word\n",
    "        tokens = []\n",
    "        len_words = []\n",
    "        for word in words:\n",
    "            w_tokens = self.tokenizer.tokenize(word)\n",
    "            tokens.append(w_tokens)\n",
    "            len_words.append(len(w_tokens))\n",
    "\n",
    "        n_words = len(np.where(np.cumsum(len_words) <= (self.tokenizer.max_len - 2))[0])\n",
    "\n",
    "        tokens = [self.tokenizer.cls_token, *(sum(tokens[:n_words], [])), self.tokenizer.sep_token]\n",
    "        token_ids = self.tokenizer.convert_tokens_to_ids(tokens)\n",
    "\n",
    "        return {\n",
    "            'token_ids': token_ids,\n",
    "            'n_words': n_words,\n",
    "            'len_words': tensor(len_words),\n",
    "        }\n",
    "\n",
    "    def decodes(self, x):\n",
    "        token_ids = x['token_ids']\n",
    "        return TitledStr(self.tokenizer.decode(token_ids))"
   ],
   "execution_count": null,
   "outputs": []
  },
  {
   "cell_type": "markdown",
   "metadata": {
    "collapsed": false,
    "pycharm": {
     "name": "#%% md\n"
    },
    "id": "jJxxNxH8mOQB",
    "colab_type": "text"
   },
   "source": [
    "#### Test words transform"
   ]
  },
  {
   "cell_type": "code",
   "metadata": {
    "pycharm": {
     "name": "#%%\n"
    },
    "id": "j22qMYTsmOQC",
    "colab_type": "code",
    "colab": {}
   },
   "source": [
    "# test_data = read_data('data/raw/test.txt')\n",
    "# train_data = read_data('data/raw/train.txt')\n",
    "# test_data[0][0]"
   ],
   "execution_count": null,
   "outputs": []
  },
  {
   "cell_type": "code",
   "metadata": {
    "pycharm": {
     "name": "#%%\n"
    },
    "id": "237v9jCSmOQE",
    "colab_type": "code",
    "colab": {}
   },
   "source": [
    "# tfms = Pipeline([WordTransformV2(tokenizer=tokenizer)])\n",
    "# tfms(test_data[0][0])"
   ],
   "execution_count": null,
   "outputs": []
  },
  {
   "cell_type": "markdown",
   "metadata": {
    "collapsed": false,
    "pycharm": {
     "name": "#%% md\n"
    },
    "id": "D2Bx4k3PmOQH",
    "colab_type": "text"
   },
   "source": [
    "### Categorize List"
   ]
  },
  {
   "cell_type": "code",
   "metadata": {
    "pycharm": {
     "name": "#%%\n"
    },
    "id": "f3_V-AHkmOQI",
    "colab_type": "code",
    "colab": {}
   },
   "source": [
    "class CategorizeList(Categorize):\n",
    "    def __init__(self, vocab=None, add_na=False, pad='[pad]'):\n",
    "        super(CategorizeList, self).__init__(vocab=vocab, add_na=add_na)\n",
    "        self.pad = pad\n",
    "\n",
    "    @property\n",
    "    def pad_idx(self):\n",
    "        return self.vocab.o2i[self.pad]\n",
    "\n",
    "    def setups(self, dsets):\n",
    "        dsets = sum(dsets, L())\n",
    "        dsets.append(self.pad)\n",
    "        super(CategorizeList, self).setups(dsets=dsets)\n",
    "\n",
    "    def encodes(self, os):\n",
    "        return TensorCategory([self.vocab.o2i[o] for o in os])\n",
    "\n",
    "    def decodes(self, os):\n",
    "        return Category(' '.join([self.vocab[o] for o in os]))"
   ],
   "execution_count": null,
   "outputs": []
  },
  {
   "cell_type": "markdown",
   "metadata": {
    "collapsed": false,
    "pycharm": {
     "name": "#%% md\n"
    },
    "id": "UUBZV_7lmOQN",
    "colab_type": "text"
   },
   "source": [
    "### Before batch transform"
   ]
  },
  {
   "cell_type": "code",
   "metadata": {
    "pycharm": {
     "name": "#%%\n"
    },
    "id": "MjwbxmU0mOQN",
    "colab_type": "code",
    "colab": {}
   },
   "source": [
    "class BeforeBatch(Transform):\n",
    "    \"\"\"\n",
    "    - First: alignment pos, chunk, labels with number of used words\n",
    "        -> (#6) (token_ids, pos, chunk, n_words, len_words, labels) (is aligned)\n",
    "    - Second: Pad token_ids, pos, chunk, len_words (pad=0), labels\n",
    "        => (#6) (token_ids, pos, chunk, n_words, len_words, labels) (is padded)\n",
    "    \"\"\"\n",
    "    def __init__(self, pad_idxs: list, pad_fields: list, pad_firsts: list, use_pos_chunk=True):\n",
    "        assert len(pad_idxs) == len(pad_firsts) == len(pad_fields), f'not {len(pad_idxs)} == {len(pad_firsts)} == {len(pad_fields)}'\n",
    "        super(BeforeBatch, self).__init__()\n",
    "        self._pad_funcs = [\n",
    "            partial(pad_input, pad_idx=pad_idx, pad_fields=pad_field, pad_first=pad_first)\n",
    "            for pad_idx, pad_field, pad_first in zip(pad_idxs, pad_fields, pad_firsts)\n",
    "        ]\n",
    "        self._pad_funcs.append(partial(\n",
    "            pad_input, pad_idx=0, pad_fields=4 if use_pos_chunk else 2, pad_first=False,\n",
    "        ))\n",
    "        self._use_pos_chunk = use_pos_chunk\n",
    "\n",
    "    def encodes(self, items):\n",
    "        items = self.align(items, use_pos_chunk=self._use_pos_chunk)\n",
    "        for pad_func in self._pad_funcs:\n",
    "            items = pad_func(items)\n",
    "        return items\n",
    "\n",
    "    @staticmethod\n",
    "    def align(items, use_pos_chunk):\n",
    "        new_items = L()\n",
    "        for w, *pos_chunk, labels in items:\n",
    "            token_ids = w['token_ids']\n",
    "            n_words = w['n_words']\n",
    "            len_words = w['len_words']\n",
    "            \n",
    "            if use_pos_chunk:\n",
    "                pos, chunk = pos_chunk\n",
    "                pos = pos[:n_words]\n",
    "                chunk = chunk[:n_words]\n",
    "                pos_chunk = [pos, chunk]\n",
    "\n",
    "            labels = labels[:n_words]\n",
    "            new_items.append((token_ids, *pos_chunk, n_words, len_words, labels))\n",
    "        return new_items\n"
   ],
   "execution_count": null,
   "outputs": []
  },
  {
   "cell_type": "markdown",
   "metadata": {
    "collapsed": false,
    "pycharm": {
     "name": "#%% md\n"
    },
    "id": "4M0c0wF4mOQP",
    "colab_type": "text"
   },
   "source": [
    "### Test create dataloader"
   ]
  },
  {
   "cell_type": "markdown",
   "metadata": {
    "collapsed": false,
    "pycharm": {
     "name": "#%% md\n"
    },
    "id": "ng_lgybdmOQQ",
    "colab_type": "text"
   },
   "source": [
    "#### Create datasets"
   ]
  },
  {
   "cell_type": "code",
   "metadata": {
    "pycharm": {
     "name": "#%%\n"
    },
    "id": "uNjXF6VTmOQQ",
    "colab_type": "code",
    "colab": {}
   },
   "source": [
    "# w_tfms = [ItemGetter(0), WordTransformV2(tokenizer)]\n",
    "# pos_tfms = [ItemGetter(1), CategorizeList(pad='[pad_p]')]\n",
    "# chunk_tfms = [ItemGetter(2), CategorizeList(pad='[pad_c]')]\n",
    "# y_tfms = [ItemGetter(3), CategorizeList(pad='[pad_l]')]\n",
    "# ds = Datasets(\n",
    "#     train_data,\n",
    "#     tfms=[w_tfms, pos_tfms, chunk_tfms, y_tfms],\n",
    "# )"
   ],
   "execution_count": null,
   "outputs": []
  },
  {
   "cell_type": "code",
   "metadata": {
    "pycharm": {
     "name": "#%%\n"
    },
    "id": "Jvu9XyjnmOQT",
    "colab_type": "code",
    "colab": {}
   },
   "source": [
    "# ds.show(ds[0])"
   ],
   "execution_count": null,
   "outputs": []
  },
  {
   "cell_type": "code",
   "metadata": {
    "pycharm": {
     "name": "#%%\n"
    },
    "id": "gBapOa8dmOQW",
    "colab_type": "code",
    "colab": {}
   },
   "source": [
    "# ds[0]"
   ],
   "execution_count": null,
   "outputs": []
  },
  {
   "cell_type": "code",
   "metadata": {
    "pycharm": {
     "name": "#%%\n"
    },
    "id": "Jmdbo8mhmOQZ",
    "colab_type": "code",
    "colab": {}
   },
   "source": [
    "# pos_tfms[-1].pad_idx, chunk_tfms[-1].pad_idx, y_tfms[-1].pad_idx"
   ],
   "execution_count": null,
   "outputs": []
  },
  {
   "cell_type": "markdown",
   "metadata": {
    "collapsed": false,
    "pycharm": {
     "name": "#%% md\n"
    },
    "id": "lucYx8_BmOQc",
    "colab_type": "text"
   },
   "source": [
    "#### Create dataloaders"
   ]
  },
  {
   "cell_type": "code",
   "metadata": {
    "pycharm": {
     "name": "#%%\n"
    },
    "id": "z8bcr02NmOQc",
    "colab_type": "code",
    "colab": {}
   },
   "source": [
    "# dl = ds.dataloaders(\n",
    "#     bs=10,\n",
    "#     before_batch=BeforeBatch(\n",
    "#         pad_idxs=[w_tfms[-1].tokenizer.pad_token_id, pos_tfms[-1].pad_idx, chunk_tfms[-1].pad_idx, y_tfms[-1].pad_idx],\n",
    "#         pad_fields=[0, 1, 2, 5],\n",
    "#         pad_firsts=[False] * 4,\n",
    "#     ),\n",
    "#     n_inp=5,\n",
    "#     verbose=True,\n",
    "# )"
   ],
   "execution_count": null,
   "outputs": []
  },
  {
   "cell_type": "code",
   "metadata": {
    "pycharm": {
     "name": "#%%\n"
    },
    "id": "_4DE_QRcmOQe",
    "colab_type": "code",
    "colab": {}
   },
   "source": [
    "# token_ids, pos, chunk, n_words, len_words, labels = dl.one_batch()"
   ],
   "execution_count": null,
   "outputs": []
  },
  {
   "cell_type": "code",
   "metadata": {
    "pycharm": {
     "name": "#%%\n"
    },
    "id": "4RB17YkymOQg",
    "colab_type": "code",
    "colab": {}
   },
   "source": [
    "# for t in dl.one_batch():\n",
    "#     print(t.size())"
   ],
   "execution_count": null,
   "outputs": []
  },
  {
   "cell_type": "markdown",
   "metadata": {
    "collapsed": false,
    "pycharm": {
     "name": "#%% md\n"
    },
    "id": "vZYYSocrmOQj",
    "colab_type": "text"
   },
   "source": [
    "# Models"
   ]
  },
  {
   "cell_type": "markdown",
   "metadata": {
    "collapsed": false,
    "pycharm": {
     "name": "#%% md\n"
    },
    "id": "CAqpO1GGmOQj",
    "colab_type": "text"
   },
   "source": [
    "## Head"
   ]
  },
  {
   "cell_type": "code",
   "metadata": {
    "pycharm": {
     "name": "#%%\n"
    },
    "id": "hCeX21mrmOQk",
    "colab_type": "code",
    "colab": {}
   },
   "source": [
    "class RobertaNERHead(nn.Module):\n",
    "    def __init__(self, n_labels, hidden_sizes, use_crf=True, p_dropout=0.):\n",
    "        super(RobertaNERHead, self).__init__()\n",
    "        # self.hidden2tag = self.get_linear(\n",
    "        #     in_features=hidden_size,\n",
    "        #     out_features=n_labels,\n",
    "        # )\n",
    "        self.hidden2tag = self._get_hidden2tag([*hidden_sizes, n_labels], p_dropout)\n",
    "\n",
    "        self.use_crf = use_crf\n",
    "        if use_crf:\n",
    "            self.crf = CRF(num_tags=n_labels, batch_first=True)\n",
    "            self._forward_return = self._crf_return\n",
    "        else:\n",
    "            self._forward_return = self._norm_return\n",
    "\n",
    "    def forward(self, *x):\n",
    "        toks, mask = x\n",
    "        toks = self.hidden2tag(toks)\n",
    "        return self._forward_return(toks, mask)\n",
    "\n",
    "    def _norm_return(self, toks, mask):\n",
    "        return toks\n",
    "\n",
    "    def _crf_return(self, toks, mask):\n",
    "        if self.training:\n",
    "            return toks, mask\n",
    "        return toks, mask, self.crf.decode(toks, mask)\n",
    "    \n",
    "    def _get_hidden2tag(self, hidden_sizes, p_dropout):\n",
    "        layers = []\n",
    "\n",
    "        for i in range(len(hidden_sizes) - 1):\n",
    "            if i != 0:\n",
    "                layers.append(nn.Tanh())\n",
    "                layers.append(nn.Dropout(p=p_dropout))\n",
    "            layers.append(self.get_linear(hidden_sizes[i], hidden_sizes[i + 1]))\n",
    "        \n",
    "        return nn.Sequential(*layers)\n",
    "\n",
    "    @staticmethod\n",
    "    def get_linear(in_features, out_features, init_type='xavier'):\n",
    "        l = nn.Linear(\n",
    "            in_features=in_features,\n",
    "            out_features=out_features,\n",
    "            bias=True\n",
    "        )\n",
    "        if init_type == 'xavier':\n",
    "            torch.nn.init.xavier_normal_(l.weight.data)\n",
    "            # torch.nn.init.xavier_normal_(l.bias.data)\n",
    "        elif init_type == 'kaiming':\n",
    "            torch.nn.init.kaiming_normal_(l.weight.data)\n",
    "            # torch.nn.init.kaiming_normal_(l.bias.data)\n",
    "        return l"
   ],
   "execution_count": null,
   "outputs": []
  },
  {
   "cell_type": "markdown",
   "metadata": {
    "collapsed": false,
    "pycharm": {
     "name": "#%% md\n"
    },
    "id": "cm745_tumOQn",
    "colab_type": "text"
   },
   "source": [
    "## Entire model\n"
   ]
  },
  {
   "cell_type": "code",
   "metadata": {
    "pycharm": {
     "name": "#%%\n"
    },
    "id": "MdsdXaR1mOQn",
    "colab_type": "code",
    "colab": {}
   },
   "source": [
    "class RobertaNER(nn.Module):\n",
    "    def __init__(\n",
    "            self,\n",
    "            roberta_model: RobertaModel,\n",
    "            roberta_config: RobertaConfig,\n",
    "            n_tags: int,\n",
    "            token_reduction='mean',\n",
    "            token2word_reduction='mean',\n",
    "            use_pos_chunk=True,\n",
    "            use_crf=True,\n",
    "            p_dropout=0.3,\n",
    "            head_hidden_sizes=[],\n",
    "    ):\n",
    "        assert token_reduction in ['sum', 'mean', 'concat']\n",
    "        super(RobertaNER, self).__init__()\n",
    "        self._config = roberta_config\n",
    "        self._token_reduction = token_reduction\n",
    "        self._token2word_reduction = token2word_reduction\n",
    "        self._n_last_hidden_states = getattr(self._config, 'n_last_hidden_states', 4)\n",
    "        self._n_tags = n_tags\n",
    "        self._use_crf = use_crf\n",
    "        self._use_pos_chunk = use_pos_chunk\n",
    "        self.dropout = nn.Dropout(p=p_dropout,)\n",
    "\n",
    "        self.body = roberta_model\n",
    "        if use_pos_chunk:\n",
    "            self.pos_emb, self.chunk_emb = self._get_pos_chunk_embs()\n",
    "\n",
    "        self._token_reduction_func, self._token2word_reduction_func, self.head = self._get_head(\n",
    "            n_tags=n_tags, \n",
    "            head_hidden_sizes=head_hidden_sizes,\n",
    "            p_dropout=p_dropout,\n",
    "        )\n",
    "\n",
    "    def forward(self, *x):\n",
    "        input_ids, *pos_chunk, n_words, len_words = x\n",
    "        attention_mask = input_ids != self._config.pad_token_id\n",
    "        _, _, hidden_states = self.body(input_ids=input_ids, attention_mask=attention_mask) # 13 x (batch_size, sequence_length, hidden_size)\n",
    "        reduction = self._token_reduction_func(hidden_states=hidden_states, attention_mask=attention_mask)\n",
    "        output, word_mask = self._tokens2words(reduction, n_words=n_words, len_words=len_words)\n",
    "\n",
    "        if self._use_pos_chunk:\n",
    "            pos = self.pos_emb(pos_chunk[0])\n",
    "            chunk = self.chunk_emb(pos_chunk[1])\n",
    "            output = torch.cat((output, pos, chunk), dim=-1)\n",
    "\n",
    "        output = self.dropout(output)\n",
    "        return self.head(output, word_mask)\n",
    "\n",
    "    def _get_pos_chunk_embs(self):\n",
    "        n_pos = getattr(self._config, 'n_pos', 20)\n",
    "        n_chunk = getattr(self._config, 'n_chunk', 8)\n",
    "\n",
    "        pos_emb = nn.Embedding.from_pretrained(\n",
    "            embeddings=torch.eye(n=n_pos + 1, m=n_pos),\n",
    "            padding_idx=n_pos,\n",
    "            freeze=True,\n",
    "        )\n",
    "        chunk_emb = nn.Embedding.from_pretrained(\n",
    "            embeddings=torch.eye(n=n_chunk + 1, m=n_chunk),\n",
    "            padding_idx=n_chunk,\n",
    "            freeze=True,\n",
    "        )\n",
    "        return pos_emb, chunk_emb\n",
    "\n",
    "\n",
    "    def get_loss_func(self, **kwargs):\n",
    "        if self._use_crf:\n",
    "            reduction = kwargs.get('reduction', 'token_mean')\n",
    "            def loss_func(output, tags):\n",
    "                emissions, mask, *_ = output\n",
    "                return - self.head.crf(\n",
    "                    emissions,\n",
    "                    tags,\n",
    "                    mask,\n",
    "                    reduction\n",
    "                )\n",
    "            return loss_func\n",
    "        else:\n",
    "            return LabelSmoothingCrossEntropy()\n",
    "\n",
    "    def _tokens2words(self, x: torch.Tensor, n_words: torch.Tensor, len_words: torch.Tensor):\n",
    "        bs, _, hidden_size = x.size()\n",
    "\n",
    "        output = torch.zeros(size=(bs, n_words.max().item(), hidden_size), dtype=x.dtype, device=x.device)\n",
    "        mask = torch.zeros(size=(bs, n_words.max().item()), dtype=torch.bool, device=x.device)\n",
    "        for i in range(bs):\n",
    "            output[i, :n_words[i]]  = self._reduction_stack(x[i], len_words[i], num_words=n_words[i])\n",
    "            mask[i, :n_words[i]] = 1\n",
    "        output = self._token2word_reduction_func(output, len_words, mask)\n",
    "\n",
    "        return output, mask\n",
    "\n",
    "    def _reduction_stack(self, x: torch.Tensor, len_words: torch.Tensor, num_words):\n",
    "        max_len_word = len_words.max().item()\n",
    "        hidden_size = x.size(-1)\n",
    "        if max_len_word == 1:\n",
    "            return x[:num_words]\n",
    "\n",
    "        indxs = []\n",
    "        len_words_cumsum = [0, *torch.cumsum(len_words, dim=0, dtype=torch.long).detach().cpu().tolist()]\n",
    "        num_pad_tokens = (max_len_word - len_words).detach().cpu().tolist()\n",
    "        for i in range(num_words):\n",
    "            indxs.extend(range(len_words_cumsum[i], len_words_cumsum[i + 1]))\n",
    "            indxs.extend([-1] * num_pad_tokens[i])\n",
    "\n",
    "        x = x[indxs].view(num_words, max_len_word, hidden_size).sum(dim=1)\n",
    "        return x\n",
    "\n",
    "    def _mean_token_reduction(self, hidden_states: torch.Tensor, attention_mask: torch.Tensor):\n",
    "        reduction = torch.stack(hidden_states[-self._n_last_hidden_states:], dim=-1).mean(dim=-1)\n",
    "        return self._remove_cls_sep_tokens(reduction, attention_mask)\n",
    "\n",
    "    def _sum_token_reduction(self, hidden_states: torch.Tensor, attention_mask: torch.Tensor):\n",
    "        reduction = torch.stack(hidden_states[-self._n_last_hidden_states:], dim=-1).sum(dim=-1)\n",
    "        return self._remove_cls_sep_tokens(reduction, attention_mask)\n",
    "\n",
    "    def _concat_token_reduction(self, hidden_states: torch.Tensor, attention_mask: torch.Tensor):\n",
    "        reduction = torch.cat(hidden_states[-self._n_last_hidden_states:], dim=-1)\n",
    "        return self._remove_cls_sep_tokens(reduction, attention_mask)\n",
    "\n",
    "    def _mean_token2word_reduction(self, x, len_words, word_mask):\n",
    "        len_words = len_words + (word_mask == 0)\n",
    "        return x / len_words.unsqueeze(-1).expand_as(x)\n",
    "\n",
    "    def _get_head(self, n_tags, head_hidden_sizes, p_dropout):\n",
    "        hidden_sizes = {\n",
    "            'sum': self._config.hidden_size if not self._use_pos_chunk else (\n",
    "                self._config.hidden_size + self.pos_emb.embedding_dim + self.chunk_emb.embedding_dim\n",
    "            ),\n",
    "            'mean': self._config.hidden_size if not self._use_pos_chunk else (\n",
    "                self._config.hidden_size + self.pos_emb.embedding_dim + self.chunk_emb.embedding_dim\n",
    "            ),\n",
    "            'concat': self._config.hidden_size * self._n_last_hidden_states if not self._use_pos_chunk else (\n",
    "                self._config.hidden_size * self._n_last_hidden_states\n",
    "                + self.pos_emb.embedding_dim + self.chunk_emb.embedding_dim\n",
    "            ),\n",
    "        }\n",
    "        token_reduction_func = {\n",
    "            'sum': self._sum_token_reduction,\n",
    "            'mean': self._mean_token_reduction,\n",
    "            'concat': self._concat_token_reduction,\n",
    "        }\n",
    "        token2word_reduction_func = {\n",
    "            'mean': self._mean_token2word_reduction,\n",
    "            'sum': lambda x, len_words, word_mask: x,\n",
    "        }\n",
    "        return (\n",
    "            token_reduction_func[self._token_reduction],\n",
    "            token2word_reduction_func[self._token2word_reduction],\n",
    "            RobertaNERHead(\n",
    "                n_labels=n_tags, \n",
    "                hidden_sizes=[hidden_sizes[self._token_reduction], *head_hidden_sizes], \n",
    "                use_crf=self._use_crf,\n",
    "                p_dropout=p_dropout,\n",
    "            )\n",
    "        )\n",
    "\n",
    "    @staticmethod\n",
    "    def _remove_cls_sep_tokens(reduction, attention_mask):\n",
    "        n_tokens = attention_mask.sum(dim=-1)\n",
    "        attention_mask[range(n_tokens.size(0)), n_tokens.long()] = 0\n",
    "        expand_attention_mask = attention_mask.unsqueeze(-1).expand_as(reduction)\n",
    "        return (expand_attention_mask * reduction)[:, 1:, :]\n",
    "\n",
    "    @classmethod\n",
    "    def from_pretrained(\n",
    "            cls,\n",
    "            config_path_or_pretrained_weights: Union[Path, str],\n",
    "            model_path_or_pretrained_weights: Union[Path, str],\n",
    "            n_tags: int,\n",
    "            custom_config: dict,\n",
    "            token_reduction='mean',\n",
    "            token2word_reduction='mean',\n",
    "            p_dropout=0.3,\n",
    "            use_pos_chunk=True,\n",
    "            head_hidden_sizes=[],\n",
    "    ):\n",
    "        config = RobertaConfig.from_pretrained(config_path_or_pretrained_weights)\n",
    "        for k, v in custom_config.items():\n",
    "            setattr(config, k, v)\n",
    "        model = RobertaModel.from_pretrained(\n",
    "            pretrained_model_name_or_path=model_path_or_pretrained_weights,\n",
    "            config=config,\n",
    "        )\n",
    "        return cls(\n",
    "            roberta_model=model,\n",
    "            roberta_config=config,\n",
    "            n_tags=n_tags,\n",
    "            token_reduction=token_reduction,\n",
    "            token2word_reduction=token2word_reduction,\n",
    "            p_dropout=p_dropout,\n",
    "            use_pos_chunk=use_pos_chunk,\n",
    "            head_hidden_sizes=head_hidden_sizes,\n",
    "        )"
   ],
   "execution_count": null,
   "outputs": []
  },
  {
   "cell_type": "code",
   "metadata": {
    "pycharm": {
     "name": "#%%\n"
    },
    "id": "Bf2bY8aHmOQq",
    "colab_type": "code",
    "colab": {}
   },
   "source": [
    "def splitter(m: RobertaNER):\n",
    "    groups = [\n",
    "        m.body.embeddings,\n",
    "        *[m.body.encoder.layer[i] for i in range(12)],\n",
    "        m.head,\n",
    "    ]\n",
    "    groups = L(groups)\n",
    "    return groups.map(params)\n"
   ],
   "execution_count": null,
   "outputs": []
  },
  {
   "cell_type": "markdown",
   "metadata": {
    "collapsed": false,
    "pycharm": {
     "name": "#%% md\n"
    },
    "id": "1ow61uZjmOQs",
    "colab_type": "text"
   },
   "source": [
    "### Test model"
   ]
  },
  {
   "cell_type": "markdown",
   "metadata": {
    "collapsed": false,
    "pycharm": {
     "name": "#%% md\n"
    },
    "id": "1QXsYFeUmOQs",
    "colab_type": "text"
   },
   "source": [
    "#### Config"
   ]
  },
  {
   "cell_type": "code",
   "metadata": {
    "pycharm": {
     "name": "#%%\n"
    },
    "id": "9bCaqfPOmOQt",
    "colab_type": "code",
    "colab": {}
   },
   "source": [
    "# config = Config(\n",
    "#     bpe_codes='data/Pho_Bert_base/bpe.codes',\n",
    "#     config_path_or_pretrained_weights='data/Pho_Bert_base/config.json',\n",
    "#     model_path_or_pretrained_weights='data/Pho_Bert_base/model.bin',\n",
    "#     custom_config={\n",
    "#         'output_hidden_states': True,\n",
    "#         'n_pos': 20,\n",
    "#         'n_chunk': 8,\n",
    "#     },\n",
    "#     n_tags=9,\n",
    "#     use_crf=True,\n",
    "#     token_reduction='mean',\n",
    "#     token2word_reduction='mean',\n",
    "#     n_pos=20,\n",
    "#     n_chunk=8,\n",
    "#     use_pos_chunk=True,\n",
    "# )"
   ],
   "execution_count": null,
   "outputs": []
  },
  {
   "cell_type": "code",
   "metadata": {
    "pycharm": {
     "name": "#%%\n"
    },
    "id": "YOd1W5uwmOQu",
    "colab_type": "code",
    "colab": {}
   },
   "source": [
    "# model = RobertaNER.from_pretrained(\n",
    "#     config_path_or_pretrained_weights=config.config_path_or_pretrained_weights,\n",
    "#     model_path_or_pretrained_weights=config.model_path_or_pretrained_weights,\n",
    "#     n_tags=config.n_tags,\n",
    "#     custom_config=config.custom_config,\n",
    "#     token_reduction=config.token_reduction,\n",
    "#     token2word_reduction=config.token2word_reduction,\n",
    "# )\n"
   ],
   "execution_count": null,
   "outputs": []
  },
  {
   "cell_type": "code",
   "metadata": {
    "pycharm": {
     "name": "#%%\n"
    },
    "id": "eWTomheYmOQx",
    "colab_type": "code",
    "colab": {}
   },
   "source": [
    "# token_ids, pos, chunk, n_words, len_words, labels = dl.one_batch()"
   ],
   "execution_count": null,
   "outputs": []
  },
  {
   "cell_type": "code",
   "metadata": {
    "pycharm": {
     "name": "#%%\n"
    },
    "id": "r8V-brcZmOQy",
    "colab_type": "code",
    "colab": {}
   },
   "source": [
    "# n_words, (len_words!=0).sum(dim=1)"
   ],
   "execution_count": null,
   "outputs": []
  },
  {
   "cell_type": "code",
   "metadata": {
    "pycharm": {
     "name": "#%%\n"
    },
    "id": "1UMoIE8JmOQ0",
    "colab_type": "code",
    "colab": {}
   },
   "source": [
    "# model = model.cuda()"
   ],
   "execution_count": null,
   "outputs": []
  },
  {
   "cell_type": "code",
   "metadata": {
    "pycharm": {
     "name": "#%%\n"
    },
    "id": "L8f2rdeamOQ2",
    "colab_type": "code",
    "colab": {}
   },
   "source": [
    "# with torch.no_grad():\n",
    "#     out = model(token_ids, pos, chunk, n_words, len_words)\n"
   ],
   "execution_count": null,
   "outputs": []
  },
  {
   "cell_type": "code",
   "metadata": {
    "pycharm": {
     "name": "#%%\n"
    },
    "id": "uWxe-p2zmOQ4",
    "colab_type": "code",
    "colab": {}
   },
   "source": [
    "# for i in out: print(i.size())"
   ],
   "execution_count": null,
   "outputs": []
  },
  {
   "cell_type": "code",
   "metadata": {
    "pycharm": {
     "name": "#%%\n"
    },
    "id": "_84-JsqWmOQ6",
    "colab_type": "code",
    "colab": {}
   },
   "source": [
    "# out[0]"
   ],
   "execution_count": null,
   "outputs": []
  },
  {
   "cell_type": "code",
   "metadata": {
    "pycharm": {
     "name": "#%%\n"
    },
    "id": "sp-IDyDumOQ8",
    "colab_type": "code",
    "colab": {}
   },
   "source": [
    "# loss_func = model.get_loss_func()"
   ],
   "execution_count": null,
   "outputs": []
  },
  {
   "cell_type": "code",
   "metadata": {
    "pycharm": {
     "name": "#%%\n"
    },
    "id": "xQo5SS_PmOQ-",
    "colab_type": "code",
    "colab": {}
   },
   "source": [
    "# loss_func(output=out, tags=labels)"
   ],
   "execution_count": null,
   "outputs": []
  },
  {
   "cell_type": "code",
   "metadata": {
    "pycharm": {
     "name": "#%%\n"
    },
    "id": "uTelUUhwmORA",
    "colab_type": "code",
    "colab": {}
   },
   "source": [
    "# labels.size(), out[0].size()"
   ],
   "execution_count": null,
   "outputs": []
  },
  {
   "cell_type": "markdown",
   "metadata": {
    "collapsed": false,
    "pycharm": {
     "name": "#%% md\n"
    },
    "id": "CAmZfXF_mORC",
    "colab_type": "text"
   },
   "source": [
    "## Metrics"
   ]
  },
  {
   "cell_type": "markdown",
   "metadata": {
    "collapsed": false,
    "pycharm": {
     "name": "#%% md\n"
    },
    "id": "EFdhNQiXmORC",
    "colab_type": "text"
   },
   "source": [
    "### Conlleval metrics"
   ]
  },
  {
   "cell_type": "code",
   "metadata": {
    "pycharm": {
     "name": "#%%\n"
    },
    "id": "a_Yt2JicmORD",
    "colab_type": "code",
    "colab": {}
   },
   "source": [
    "class ConllevalMetric(Metric):\n",
    "    def __init__(self, label_vocab: CategoryMap):\n",
    "        self.y_true, self.y_pred = [], []\n",
    "        self.label_vocab = label_vocab\n",
    "        # self._pad_idx = self.label_vocab.o2i[pad_label]\n",
    "    \n",
    "    def reset(self):\n",
    "        self.y_true, self.y_pred = [], []\n",
    "\n",
    "    def accumulate(self, learn):\n",
    "        *_, y_pred = learn.pred\n",
    "        *_, n_words, _ = learn.xb\n",
    "        y_true = learn.yb[0]\n",
    "\n",
    "        # append y_pred\n",
    "        y_pred_new = []\n",
    "        for y in y_pred:\n",
    "            y_pred_new.extend(y)\n",
    "\n",
    "        # append y_true\n",
    "        y_true_new = []\n",
    "        y_true = y_true.detach().cpu().tolist()\n",
    "        n_words = n_words.detach().cpu().tolist()\n",
    "        for i, y in enumerate(y_true):\n",
    "            y_true_new.extend(y[:n_words[i]])\n",
    "\n",
    "        assert len(y_pred_new) == len(y_true_new)\n",
    "        self.y_true.extend(y_true_new)\n",
    "        self.y_pred.extend(y_pred_new)\n",
    "\n",
    "    @property\n",
    "    def value(self):\n",
    "        y_true = [self.label_vocab[i] for i in self.y_true]\n",
    "        y_pred = [self.label_vocab[i] for i in self.y_pred]\n",
    "        prec, rec, f1 = evaluate(true_seqs=y_true, pred_seqs=y_pred, verbose=False)\n",
    "        return f'{prec:10.4f}  {rec:10.4f}  {f1:10.4f}'\n",
    "\n",
    "    @property\n",
    "    def name(self):\n",
    "        return f'precision     recall     f1score'"
   ],
   "execution_count": null,
   "outputs": []
  },
  {
   "cell_type": "markdown",
   "metadata": {
    "collapsed": false,
    "pycharm": {
     "name": "#%% md\n"
    },
    "id": "ZlpZ_2qVmORF",
    "colab_type": "text"
   },
   "source": [
    "# Training - Use pos chunk"
   ]
  },
  {
   "cell_type": "markdown",
   "metadata": {
    "collapsed": false,
    "pycharm": {
     "name": "#%% md\n"
    },
    "id": "umJJH_hMmORF",
    "colab_type": "text"
   },
   "source": [
    "## Config"
   ]
  },
  {
   "cell_type": "code",
   "metadata": {
    "pycharm": {
     "name": "#%%\n"
    },
    "id": "C9uBmwaQmORG",
    "colab_type": "code",
    "colab": {}
   },
   "source": [
    "config = Config(\n",
    "    bs=64,\n",
    "    bpe_codes='PhoBERT_base_transformers/bpe.codes',\n",
    "    vocab_path='PhoBERT_base_transformers/dict.txt',\n",
    "    config_path_or_pretrained_weights='PhoBERT_base_transformers/config.json',\n",
    "    model_path_or_pretrained_weights='PhoBERT_base_transformers/model.bin',\n",
    "    custom_config={\n",
    "        'output_hidden_states': True,\n",
    "        'n_pos': 20,\n",
    "        'n_chunk': 8,\n",
    "    },\n",
    "    n_tags=9,\n",
    "    use_crf=True,\n",
    "    token_reduction='mean',   # mean, concat, sum\n",
    "    token2word_reduction='mean',    # mean, sum\n",
    "    n_pos=20,\n",
    "    n_chunk=8,\n",
    "    use_pos_chunk=True,\n",
    "    model_path=Path('drive/My Drive/models/bert_ner'),\n",
    "    data_path=Path('data/raw'),\n",
    "    p_dropout=0.1,\n",
    "    head_hidden_sizes=[256,]\n",
    ")"
   ],
   "execution_count": null,
   "outputs": []
  },
  {
   "cell_type": "markdown",
   "metadata": {
    "collapsed": false,
    "pycharm": {
     "name": "#%% md\n"
    },
    "id": "Os16zeeqmORI",
    "colab_type": "text"
   },
   "source": [
    "## Data"
   ]
  },
  {
   "cell_type": "markdown",
   "metadata": {
    "id": "JOw5lzSBPKtJ",
    "colab_type": "text"
   },
   "source": [
    "### read data file"
   ]
  },
  {
   "cell_type": "code",
   "metadata": {
    "pycharm": {
     "name": "#%%\n"
    },
    "id": "aqA-qaO_mORJ",
    "colab_type": "code",
    "colab": {}
   },
   "source": [
    "train_data = read_data(config.data_path/'train.txt')\n",
    "valid_data = read_data(config.data_path/'dev.txt')\n",
    "test_data = read_data(config.data_path/'test.txt')"
   ],
   "execution_count": null,
   "outputs": []
  },
  {
   "cell_type": "markdown",
   "metadata": {
    "id": "0w8UeNjePNNo",
    "colab_type": "text"
   },
   "source": [
    "### merge train and val -> split by range index"
   ]
  },
  {
   "cell_type": "code",
   "metadata": {
    "pycharm": {
     "name": "#%%\n"
    },
    "id": "j25bs5obmORM",
    "colab_type": "code",
    "colab": {}
   },
   "source": [
    "train_val_data = train_data + valid_data\n",
    "train_len, val_len, train_val_len = len(train_data), len(valid_data), len(train_val_data)\n",
    "splits = [list(range(train_len)), list(range(train_len, train_val_len))]"
   ],
   "execution_count": null,
   "outputs": []
  },
  {
   "cell_type": "markdown",
   "metadata": {
    "id": "Vnn0ORIqPYfH",
    "colab_type": "text"
   },
   "source": [
    "### datasets"
   ]
  },
  {
   "cell_type": "code",
   "metadata": {
    "pycharm": {
     "name": "#%%\n"
    },
    "id": "vvTiJd05mORO",
    "colab_type": "code",
    "colab": {}
   },
   "source": [
    "tokenizer = RobertaBPETokenizer(\n",
    "    bpe_path=config.bpe_codes,\n",
    "    vocab_path=config.vocab_path,\n",
    ")\n",
    "\n",
    "w_tfms = [ItemGetter(0), WordTransformV2(tokenizer)]\n",
    "pos_tfms = [ItemGetter(1), CategorizeList(pad='[pad_p]')]\n",
    "chunk_tfms = [ItemGetter(2), CategorizeList(pad='[pad_c]')]\n",
    "y_tfms = [ItemGetter(3), CategorizeList(pad='[pad_l]')]\n",
    "ds = Datasets(\n",
    "    train_val_data,\n",
    "    tfms=[w_tfms, *([pos_tfms, chunk_tfms] if config.use_pos_chunk else []), y_tfms],\n",
    "    splits=splits,\n",
    "    n_inp=5 if config.use_pos_chunk else 3,\n",
    ")"
   ],
   "execution_count": null,
   "outputs": []
  },
  {
   "cell_type": "markdown",
   "metadata": {
    "id": "miGYGXSJPbLS",
    "colab_type": "text"
   },
   "source": [
    "### get dataloaders func"
   ]
  },
  {
   "cell_type": "code",
   "metadata": {
    "pycharm": {
     "name": "#%%\n"
    },
    "id": "KSrIGzBHmORR",
    "colab_type": "code",
    "colab": {}
   },
   "source": [
    "def get_dls(ds: Datasets, bs=64):\n",
    "    dls = ds.dataloaders(\n",
    "        bs=bs,\n",
    "        before_batch=BeforeBatch(\n",
    "            # pad_idxs=[w_tfms[-1].tokenizer.pad_token_id, pos_tfms[-1].pad_idx, chunk_tfms[-1].pad_idx, y_tfms[-1].pad_idx],\n",
    "            pad_idxs=[\n",
    "                w_tfms[-1].tokenizer.pad_token_id,\n",
    "                *([pos_tfms[-1].pad_idx, chunk_tfms[-1].pad_idx] if config.use_pos_chunk else []), \n",
    "                -1,\n",
    "            ],\n",
    "            pad_fields=[0, 1, 2, 5] if config.use_pos_chunk else [0, 3],\n",
    "            pad_firsts=[False] * 4 if config.use_pos_chunk else [False, False],\n",
    "        ),\n",
    "        n_inp=5 if config.use_pos_chunk else 3,\n",
    "        verbose=True,\n",
    "    )\n",
    "    return dls"
   ],
   "execution_count": null,
   "outputs": []
  },
  {
   "cell_type": "markdown",
   "metadata": {
    "id": "hInkH3Y8Pd0t",
    "colab_type": "text"
   },
   "source": [
    "### dataloaders"
   ]
  },
  {
   "cell_type": "code",
   "metadata": {
    "pycharm": {
     "name": "#%%\n"
    },
    "id": "20Ezn61imORT",
    "colab_type": "code",
    "colab": {
     "base_uri": "https://localhost:8080/",
     "height": 70
    },
    "outputId": "1a14fee9-0b24-4cbb-afa0-46464d1bed64"
   },
   "source": [
    "dls = get_dls(ds, config.bs)"
   ],
   "execution_count": null,
   "outputs": [
    {
     "output_type": "stream",
     "text": [
      "Setting up after_item: Pipeline: \n",
      "Setting up before_batch: Pipeline: BeforeBatch\n",
      "Setting up after_batch: Pipeline: \n"
     ],
     "name": "stdout"
    }
   ]
  },
  {
   "cell_type": "markdown",
   "metadata": {
    "id": "Y1xh2iQyPiVU",
    "colab_type": "text"
   },
   "source": [
    "#### test one batch"
   ]
  },
  {
   "cell_type": "code",
   "metadata": {
    "id": "tF2yKUKDvdwk",
    "colab_type": "code",
    "colab": {
     "base_uri": "https://localhost:8080/",
     "height": 123
    },
    "outputId": "5112b3bc-0bc1-4d6d-97d2-521e3ff76e0b"
   },
   "source": [
    "for i in dls.one_batch():\n",
    "    print(i.size())"
   ],
   "execution_count": null,
   "outputs": [
    {
     "output_type": "stream",
     "text": [
      "torch.Size([64, 73])\n",
      "torch.Size([64, 65])\n",
      "torch.Size([64, 65])\n",
      "torch.Size([64])\n",
      "torch.Size([64, 65])\n",
      "torch.Size([64, 65])\n"
     ],
     "name": "stdout"
    }
   ]
  },
  {
   "cell_type": "markdown",
   "metadata": {
    "id": "cSVll9SKPo-D",
    "colab_type": "text"
   },
   "source": [
    "## Create model"
   ]
  },
  {
   "cell_type": "code",
   "metadata": {
    "pycharm": {
     "name": "#%%\n"
    },
    "id": "FaMS1TpJmORV",
    "colab_type": "code",
    "colab": {}
   },
   "source": [
    "model = RobertaNER.from_pretrained(\n",
    "    config_path_or_pretrained_weights=config.config_path_or_pretrained_weights,\n",
    "    model_path_or_pretrained_weights=config.model_path_or_pretrained_weights,\n",
    "    n_tags=config.n_tags,\n",
    "    custom_config=config.custom_config,\n",
    "    token_reduction=config.token_reduction,\n",
    "    token2word_reduction=config.token2word_reduction,\n",
    "    p_dropout=config.p_dropout,\n",
    "    use_pos_chunk=config.use_pos_chunk,\n",
    "    head_hidden_sizes=config.head_hidden_sizes,\n",
    ")"
   ],
   "execution_count": null,
   "outputs": []
  },
  {
   "cell_type": "markdown",
   "metadata": {
    "id": "BCXkAvPwPuQh",
    "colab_type": "text"
   },
   "source": [
    "## Get loss function"
   ]
  },
  {
   "cell_type": "code",
   "metadata": {
    "pycharm": {
     "name": "#%%\n"
    },
    "id": "5jA6K4zxmORY",
    "colab_type": "code",
    "colab": {}
   },
   "source": [
    "loss_func = model.get_loss_func()"
   ],
   "execution_count": null,
   "outputs": []
  },
  {
   "cell_type": "markdown",
   "metadata": {
    "id": "KJ1DCirhPzGr",
    "colab_type": "text"
   },
   "source": [
    "## Create learner"
   ]
  },
  {
   "cell_type": "code",
   "metadata": {
    "pycharm": {
     "name": "#%%\n"
    },
    "id": "wX_B7WIGmORa",
    "colab_type": "code",
    "colab": {}
   },
   "source": [
    "learner = Learner(\n",
    "    dls=dls,\n",
    "    model=model,\n",
    "    loss_func=loss_func,\n",
    "    splitter=splitter,\n",
    "    cbs=[ShowGraphCallback(),],\n",
    "    metrics=[ConllevalMetric(label_vocab=y_tfms[-1].vocab),],\n",
    "    path=config.model_path,\n",
    ")"
   ],
   "execution_count": null,
   "outputs": []
  },
  {
   "cell_type": "markdown",
   "metadata": {
    "id": "EMk_1BMwP5TR",
    "colab_type": "text"
   },
   "source": [
    "## Train model"
   ]
  },
  {
   "cell_type": "markdown",
   "metadata": {
    "id": "wcaRVaEiP6nW",
    "colab_type": "text"
   },
   "source": [
    "### Stage 1: Train head only"
   ]
  },
  {
   "cell_type": "code",
   "metadata": {
    "id": "dMrGpeT9pyGT",
    "colab_type": "code",
    "colab": {}
   },
   "source": [
    "learner.freeze()"
   ],
   "execution_count": null,
   "outputs": []
  },
  {
   "cell_type": "code",
   "metadata": {
    "pycharm": {
     "name": "#%%\n"
    },
    "id": "J0t2P2sImORd",
    "colab_type": "code",
    "colab": {
     "base_uri": "https://localhost:8080/",
     "height": 305
    },
    "outputId": "3a18c464-8ceb-4a74-b9ef-c696b0b458e4"
   },
   "source": [
    "learner.lr_find()"
   ],
   "execution_count": null,
   "outputs": [
    {
     "output_type": "display_data",
     "data": {
      "text/html": [
       ""
      ],
      "text/plain": [
       "<IPython.core.display.HTML object>"
      ]
     },
     "metadata": {
      "tags": []
     }
    },
    {
     "output_type": "execute_result",
     "data": {
      "text/plain": [
       "SuggestedLRs(lr_min=0.00831763744354248, lr_steep=0.0005754399462603033)"
      ]
     },
     "metadata": {
      "tags": []
     },
     "execution_count": 56
    },
    {
     "output_type": "display_data",
     "data": {
      "image/png": "[encoded data removed]",
      "text/plain": [
       "<Figure size 432x288 with 1 Axes>"
      ]
     },
     "metadata": {
      "tags": [],
      "needs_background": "light"
     }
    }
   ]
  },
  {
   "cell_type": "code",
   "metadata": {
    "pycharm": {
     "name": "#%%\n"
    },
    "id": "p5TkUXgcmORf",
    "colab_type": "code",
    "colab": {
     "base_uri": "https://localhost:8080/",
     "height": 594
    },
    "outputId": "25829adf-01be-4fa9-f541-f67faebb941f"
   },
   "source": [
    "learner.fit_one_cycle(10, 1e-2)"
   ],
   "execution_count": null,
   "outputs": [
    {
     "output_type": "display_data",
     "data": {
      "text/html": [
       "<table border=\"1\" class=\"dataframe\">\n",
       "  <thead>\n",
       "    <tr style=\"text-align: left;\">\n",
       "      <th>epoch</th>\n",
       "      <th>train_loss</th>\n",
       "      <th>valid_loss</th>\n",
       "      <th>precision     recall     f1score</th>\n",
       "      <th>time</th>\n",
       "    </tr>\n",
       "  </thead>\n",
       "  <tbody>\n",
       "    <tr>\n",
       "      <td>0</td>\n",
       "      <td>0.043682</td>\n",
       "      <td>0.019518</td>\n",
       "      <td>   87.3486     89.8892     88.6007</td>\n",
       "      <td>02:40</td>\n",
       "    </tr>\n",
       "    <tr>\n",
       "      <td>1</td>\n",
       "      <td>0.026794</td>\n",
       "      <td>0.017992</td>\n",
       "      <td>   90.8316     88.5042     89.6528</td>\n",
       "      <td>02:39</td>\n",
       "    </tr>\n",
       "    <tr>\n",
       "      <td>2</td>\n",
       "      <td>0.019628</td>\n",
       "      <td>0.009894</td>\n",
       "      <td>   93.2923     94.3906     93.8382</td>\n",
       "      <td>02:38</td>\n",
       "    </tr>\n",
       "    <tr>\n",
       "      <td>3</td>\n",
       "      <td>0.018426</td>\n",
       "      <td>0.019245</td>\n",
       "      <td>   89.1243     87.3961     88.2517</td>\n",
       "      <td>02:40</td>\n",
       "    </tr>\n",
       "    <tr>\n",
       "      <td>4</td>\n",
       "      <td>0.021652</td>\n",
       "      <td>0.010723</td>\n",
       "      <td>   95.7746     94.1828     94.9721</td>\n",
       "      <td>02:39</td>\n",
       "    </tr>\n",
       "    <tr>\n",
       "      <td>5</td>\n",
       "      <td>0.011985</td>\n",
       "      <td>0.007536</td>\n",
       "      <td>   94.9791     94.3213     94.6491</td>\n",
       "      <td>02:40</td>\n",
       "    </tr>\n",
       "    <tr>\n",
       "      <td>6</td>\n",
       "      <td>0.008991</td>\n",
       "      <td>0.008952</td>\n",
       "      <td>   95.0350     94.1136     94.5720</td>\n",
       "      <td>02:39</td>\n",
       "    </tr>\n",
       "    <tr>\n",
       "      <td>7</td>\n",
       "      <td>0.006422</td>\n",
       "      <td>0.007498</td>\n",
       "      <td>   95.6522     94.4598     95.0523</td>\n",
       "      <td>02:39</td>\n",
       "    </tr>\n",
       "    <tr>\n",
       "      <td>8</td>\n",
       "      <td>0.006203</td>\n",
       "      <td>0.007424</td>\n",
       "      <td>   96.5638     95.3601     95.9582</td>\n",
       "      <td>02:44</td>\n",
       "    </tr>\n",
       "    <tr>\n",
       "      <td>9</td>\n",
       "      <td>0.004872</td>\n",
       "      <td>0.007342</td>\n",
       "      <td>   96.4236     95.2216     95.8188</td>\n",
       "      <td>02:40</td>\n",
       "    </tr>\n",
       "  </tbody>\n",
       "</table>"
      ],
      "text/plain": [
       "<IPython.core.display.HTML object>"
      ]
     },
     "metadata": {
      "tags": []
     }
    },
    {
     "output_type": "display_data",
     "data": {
      "image/png": "[encoded data removed]",
      "text/plain": [
       "<Figure size 432x288 with 1 Axes>"
      ]
     },
     "metadata": {
      "tags": []
     }
    }
   ]
  },
  {
   "cell_type": "code",
   "metadata": {
    "id": "TP0Amdye-bfW",
    "colab_type": "code",
    "colab": {}
   },
   "source": [
    "learner.save('token_mean_hid256_stage_1')"
   ],
   "execution_count": null,
   "outputs": []
  },
  {
   "cell_type": "markdown",
   "metadata": {
    "id": "lIGjUo0HQB3l",
    "colab_type": "text"
   },
   "source": [
    "### Stage 2: Unfreeze all and train entire model"
   ]
  },
  {
   "cell_type": "code",
   "metadata": {
    "id": "QOUXcKCLRTQh",
    "colab_type": "code",
    "colab": {
     "base_uri": "https://localhost:8080/",
     "height": 35
    },
    "outputId": "15aca7da-08fc-4337-fd15-6ec1f139067b"
   },
   "source": [
    "learner.load('token_mean_hid256_stage_1')"
   ],
   "execution_count": null,
   "outputs": [
    {
     "output_type": "execute_result",
     "data": {
      "text/plain": [
       "<fastai2.learner.Learner at 0x7f5da0516a20>"
      ]
     },
     "metadata": {
      "tags": []
     },
     "execution_count": 77
    }
   ]
  },
  {
   "cell_type": "code",
   "metadata": {
    "id": "gvuEkGtj4x4I",
    "colab_type": "code",
    "colab": {}
   },
   "source": [
    "learner.unfreeze()"
   ],
   "execution_count": null,
   "outputs": []
  },
  {
   "cell_type": "code",
   "metadata": {
    "id": "iNFJfI6R40Ni",
    "colab_type": "code",
    "colab": {
     "base_uri": "https://localhost:8080/",
     "height": 301
    },
    "outputId": "6f7e8da4-6708-4b49-992c-0c5b135ea92a"
   },
   "source": [
    "learner.lr_find()"
   ],
   "execution_count": null,
   "outputs": [
    {
     "output_type": "display_data",
     "data": {
      "text/html": [
       ""
      ],
      "text/plain": [
       "<IPython.core.display.HTML object>"
      ]
     },
     "metadata": {
      "tags": []
     }
    },
    {
     "output_type": "execute_result",
     "data": {
      "text/plain": [
       "SuggestedLRs(lr_min=4.78630090583465e-07, lr_steep=7.585775847473997e-07)"
      ]
     },
     "metadata": {
      "tags": []
     },
     "execution_count": 79
    },
    {
     "output_type": "display_data",
     "data": {
      "image/png": "[encoded data removed]",
      "text/plain": [
       "<Figure size 432x288 with 1 Axes>"
      ]
     },
     "metadata": {
      "tags": [],
      "needs_background": "light"
     }
    }
   ]
  },
  {
   "cell_type": "code",
   "metadata": {
    "id": "4_4F8f2-43o_",
    "colab_type": "code",
    "colab": {
     "base_uri": "https://localhost:8080/",
     "height": 197
    },
    "outputId": "4a6a46c3-706d-454e-8569-46c148da8610"
   },
   "source": [
    "lr = 1e-3\n",
    "learner.fit_one_cycle(5, slice(lr / (2.6 **4), lr))"
   ],
   "execution_count": null,
   "outputs": [
    {
     "output_type": "display_data",
     "data": {
      "text/html": [
       "<table border=\"1\" class=\"dataframe\">\n",
       "  <thead>\n",
       "    <tr style=\"text-align: left;\">\n",
       "      <th>epoch</th>\n",
       "      <th>train_loss</th>\n",
       "      <th>valid_loss</th>\n",
       "      <th>precision     recall     f1score</th>\n",
       "      <th>time</th>\n",
       "    </tr>\n",
       "  </thead>\n",
       "  <tbody>\n",
       "    <tr>\n",
       "      <td>0</td>\n",
       "      <td>0.006648</td>\n",
       "      <td>0.009646</td>\n",
       "      <td>   94.0642     93.2825     93.6718</td>\n",
       "      <td>03:41</td>\n",
       "    </tr>\n",
       "    <tr>\n",
       "      <td>1</td>\n",
       "      <td>0.006357</td>\n",
       "      <td>0.007090</td>\n",
       "      <td>   96.0702     94.8061     95.4339</td>\n",
       "      <td>03:49</td>\n",
       "    </tr>\n",
       "    <tr>\n",
       "      <td>2</td>\n",
       "      <td>0.004452</td>\n",
       "      <td>0.008106</td>\n",
       "      <td>   96.0196     95.2216     95.6189</td>\n",
       "      <td>03:46</td>\n",
       "    </tr>\n",
       "    <tr>\n",
       "      <td>3</td>\n",
       "      <td>0.002411</td>\n",
       "      <td>0.008092</td>\n",
       "      <td>   96.7018     95.4294     96.0613</td>\n",
       "      <td>03:46</td>\n",
       "    </tr>\n",
       "    <tr>\n",
       "      <td>4</td>\n",
       "      <td>0.001892</td>\n",
       "      <td>0.007519</td>\n",
       "      <td>   96.8553     95.9834     96.4174</td>\n",
       "      <td>03:45</td>\n",
       "    </tr>\n",
       "  </tbody>\n",
       "</table>"
      ],
      "text/plain": [
       "<IPython.core.display.HTML object>"
      ]
     },
     "metadata": {
      "tags": []
     }
    }
   ]
  },
  {
   "cell_type": "code",
   "metadata": {
    "id": "4VTBvf2pGMbG",
    "colab_type": "code",
    "colab": {}
   },
   "source": [
    "learner.save('token_mean_hid256_stage_2')"
   ],
   "execution_count": null,
   "outputs": []
  },
  {
   "cell_type": "code",
   "metadata": {
    "id": "Zi3PAsjYUT-K",
    "colab_type": "code",
    "colab": {}
   },
   "source": [
    "# learner.export('roberta_ner_token_mean_hid256_9753_9743_9748.pkl', pickle_protocol=4)"
   ],
   "execution_count": null,
   "outputs": []
  },
  {
   "cell_type": "markdown",
   "metadata": {
    "id": "FkV6V6QfQK_K",
    "colab_type": "text"
   },
   "source": [
    "## Evaluate model"
   ]
  },
  {
   "cell_type": "markdown",
   "metadata": {
    "id": "-ohBVd7mQSI-",
    "colab_type": "text"
   },
   "source": [
    "### Create test dataloaders"
   ]
  },
  {
   "cell_type": "code",
   "metadata": {
    "id": "IwAZfcpvT850",
    "colab_type": "code",
    "colab": {
     "base_uri": "https://localhost:8080/",
     "height": 35
    },
    "outputId": "9be72215-137c-4378-c782-e5d17c18ca37"
   },
   "source": [
    "learner.load('token_mean_hid256_stage_2')"
   ],
   "execution_count": null,
   "outputs": [
    {
     "output_type": "execute_result",
     "data": {
      "text/plain": [
       "<fastai2.learner.Learner at 0x7f5da0516a20>"
      ]
     },
     "metadata": {
      "tags": []
     },
     "execution_count": 85
    }
   ]
  },
  {
   "cell_type": "code",
   "metadata": {
    "id": "t1uw07zwEolS",
    "colab_type": "code",
    "colab": {}
   },
   "source": [
    "test_dl = learner.dls.test_dl(test_data)"
   ],
   "execution_count": null,
   "outputs": []
  },
  {
   "cell_type": "code",
   "metadata": {
    "id": "uGAA6D-wGRab",
    "colab_type": "code",
    "colab": {
     "base_uri": "https://localhost:8080/",
     "height": 123
    },
    "outputId": "c3f952ed-fc4a-4640-feb2-a323e6bbc559"
   },
   "source": [
    "for i in test_dl.one_batch():\n",
    "    print(i.size())"
   ],
   "execution_count": null,
   "outputs": [
    {
     "output_type": "stream",
     "text": [
      "torch.Size([64, 57])\n",
      "torch.Size([64, 55])\n",
      "torch.Size([64, 55])\n",
      "torch.Size([64])\n",
      "torch.Size([64, 55])\n",
      "torch.Size([64, 55])\n"
     ],
     "name": "stdout"
    }
   ]
  },
  {
   "cell_type": "markdown",
   "metadata": {
    "id": "BE7f_8yjQb6P",
    "colab_type": "text"
   },
   "source": [
    "### Validate test_dl:\n",
    "```\n",
    "Precision: 97.53\n",
    "Recall:    97.43\n",
    "F1Score:   97.48\n",
    "```"
   ]
  },
  {
   "cell_type": "code",
   "metadata": {
    "id": "hTtPn4G8bYKg",
    "colab_type": "code",
    "colab": {}
   },
   "source": [
    "learner.remove_cbs(ShowGraphCallback)"
   ],
   "execution_count": null,
   "outputs": []
  },
  {
   "cell_type": "code",
   "metadata": {
    "id": "e_lSsywBbLAm",
    "colab_type": "code",
    "colab": {
     "base_uri": "https://localhost:8080/",
     "height": 35
    },
    "outputId": "5b94aa3e-18e9-44a0-dde2-ef428b8b07e7"
   },
   "source": [
    "learner.validate(dl=test_dl)"
   ],
   "execution_count": null,
   "outputs": [
    {
     "output_type": "display_data",
     "data": {
      "text/html": [
       ""
      ],
      "text/plain": [
       "<IPython.core.display.HTML object>"
      ]
     },
     "metadata": {
      "tags": []
     }
    },
    {
     "output_type": "execute_result",
     "data": {
      "text/plain": [
       "(#2) [0.006548610515892506,'   97.5276     97.4299     97.4787']"
      ]
     },
     "metadata": {
      "tags": []
     },
     "execution_count": 88
    }
   ]
  },
  {
   "cell_type": "markdown",
   "metadata": {
    "id": "Dp4UWiZRQzpw",
    "colab_type": "text"
   },
   "source": [
    "### Get result file"
   ]
  },
  {
   "cell_type": "code",
   "metadata": {
    "id": "aa-6Lp6_HnLg",
    "colab_type": "code",
    "colab": {}
   },
   "source": [
    "test_pred = learner.metrics[0].y_pred"
   ],
   "execution_count": null,
   "outputs": []
  },
  {
   "cell_type": "code",
   "metadata": {
    "id": "62mygBXKH1VP",
    "colab_type": "code",
    "colab": {}
   },
   "source": [
    "test_true = learner.metrics[0].y_true"
   ],
   "execution_count": null,
   "outputs": []
  },
  {
   "cell_type": "code",
   "metadata": {
    "id": "Cr5MSKcmIBI5",
    "colab_type": "code",
    "colab": {}
   },
   "source": [
    "y_pred = [learner.metrics[0].label_vocab[i] for i in test_pred]\n",
    "y_true = [learner.metrics[0].label_vocab[i] for i in test_true]"
   ],
   "execution_count": null,
   "outputs": []
  },
  {
   "cell_type": "code",
   "metadata": {
    "id": "wWnXSdpPIOI4",
    "colab_type": "code",
    "colab": {}
   },
   "source": [
    "with open('token_mean_hid256_result.txt', mode='w', encoding='utf8') as f:\n",
    "    for t, p in zip(y_true, y_pred):\n",
    "        f.write(f'w1\\tw2\\t{t}\\t{p}\\n')\n",
    "        # f.write(f'{t}\\t{p}\\n')"
   ],
   "execution_count": null,
   "outputs": []
  },
  {
   "cell_type": "code",
   "metadata": {
    "id": "hcBe4-sNNCrx",
    "colab_type": "code",
    "colab": {
     "base_uri": "https://localhost:8080/",
     "height": 35
    },
    "outputId": "aed0f2a9-07d3-4874-dc17-450bfc4b9eb4"
   },
   "source": [
    "!./conlleval.pl -l -d \\\\t < token_mean_hid256_result.txt"
   ],
   "execution_count": null,
   "outputs": [
    {
     "output_type": "stream",
     "text": [
      "/bin/bash: ./conlleval.pl: Permission denied\n"
     ],
     "name": "stdout"
    }
   ]
  },
  {
   "cell_type": "markdown",
   "metadata": {
    "id": "G_uiw9ODRCSc",
    "colab_type": "text"
   },
   "source": [
    "### Save result"
   ]
  },
  {
   "cell_type": "code",
   "metadata": {
    "id": "8GAkrt-bOUEm",
    "colab_type": "code",
    "colab": {}
   },
   "source": [
    "!mkdir drive/My\\ Drive/models/bert_ner"
   ],
   "execution_count": null,
   "outputs": []
  },
  {
   "cell_type": "code",
   "metadata": {
    "id": "5jBTz4QkJU3X",
    "colab_type": "code",
    "colab": {}
   },
   "source": [
    "!cp -r models drive/My\\ Drive/models/bert_ner"
   ],
   "execution_count": null,
   "outputs": []
  },
  {
   "cell_type": "code",
   "metadata": {
    "id": "Yz3LB3UxOaYa",
    "colab_type": "code",
    "colab": {}
   },
   "source": [
    "!cp -r result.txt drive/My\\ Drive/models/bert_ner"
   ],
   "execution_count": null,
   "outputs": []
  },
  {
   "cell_type": "markdown",
   "metadata": {
    "id": "9Ptbs276Rnlv",
    "colab_type": "text"
   },
   "source": [
    "# Final result:\n",
    "```\n",
    "        & Precision &  Recall  & F$_{\\beta=1} \\\\\\hline\n",
    "LOC     &   97.42\\% &  98.48\\% &  97.94 \\\\\n",
    "MISC    &  100.00\\% &  87.76\\% &  93.48 \\\\\n",
    "ORG     &   94.19\\% &  88.69\\% &  91.35 \\\\\n",
    "PER     &   98.23\\% &  98.53\\% &  98.38 \\\\\\hline\n",
    "Overall &   97.53\\% &  97.43\\% &  97.48 \\\\\\hline\n",
    "\n",
    "\n",
    "        & Precision &  Recall  & F$_{\\beta=1} \\\\\\hline\n",
    "B-LOC   &   97.49\\% &  98.62\\% &  98.05 \\\\\n",
    "B-MISC  &  100.00\\% &  87.76\\% &  93.48 \\\\\n",
    "B-ORG   &   94.57\\% &  89.05\\% &  91.73 \\\\\n",
    "B-PER   &   98.31\\% &  98.61\\% &  98.46 \\\\\n",
    "I-LOC   &   96.57\\% &  97.19\\% &  96.88 \\\\\n",
    "I-MISC  &  100.00\\% &  87.76\\% &  93.48 \\\\\n",
    "I-ORG   &   97.19\\% &  95.97\\% &  96.58 \\\\\n",
    "I-PER   &   98.69\\% &  99.69\\% &  99.19 \\\\\\hline\n",
    "Overall &   97.73\\% &  97.73\\% &  97.73 \\\\\\hline\n",
    "\n",
    "```\n",
    "\n",
    "\n"
   ]
  },
  {
   "cell_type": "markdown",
   "metadata": {
    "id": "4YnB3fLZY8CK",
    "colab_type": "text"
   },
   "source": [
    "# Training - Without pos chunk"
   ]
  },
  {
   "cell_type": "markdown",
   "metadata": {
    "id": "ttqTL173ZA-N",
    "colab_type": "text"
   },
   "source": [
    "## Config"
   ]
  },
  {
   "cell_type": "code",
   "metadata": {
    "id": "IXg3x4igZAip",
    "colab_type": "code",
    "colab": {}
   },
   "source": [
    "config = Config(\n",
    "    bs=64,\n",
    "    bpe_codes='PhoBERT_base_transformers/bpe.codes',\n",
    "    vocab_path='PhoBERT_base_transformers/dict.txt',\n",
    "    config_path_or_pretrained_weights='PhoBERT_base_transformers/config.json',\n",
    "    model_path_or_pretrained_weights='PhoBERT_base_transformers/model.bin',\n",
    "    custom_config={\n",
    "        'output_hidden_states': True,\n",
    "        'n_pos': 20,\n",
    "        'n_chunk': 8,\n",
    "    },\n",
    "    n_tags=9,\n",
    "    use_crf=True,\n",
    "    token_reduction='mean',\n",
    "    token2word_reduction='mean',\n",
    "    n_pos=20,\n",
    "    n_chunk=8,\n",
    "    use_pos_chunk=False,\n",
    "    model_path=Path('drive/My Drive/models/bert_ner'),\n",
    "    data_path=Path('data/raw'),\n",
    "    p_dropout=0.1,\n",
    ")"
   ],
   "execution_count": null,
   "outputs": []
  },
  {
   "cell_type": "markdown",
   "metadata": {
    "collapsed": false,
    "pycharm": {
     "name": "#%% md\n"
    },
    "colab_type": "text",
    "id": "7EdHvpVeZiGH"
   },
   "source": [
    "## Data"
   ]
  },
  {
   "cell_type": "markdown",
   "metadata": {
    "colab_type": "text",
    "id": "UVaYy-aOZiGH"
   },
   "source": [
    "### read data file"
   ]
  },
  {
   "cell_type": "code",
   "metadata": {
    "pycharm": {
     "name": "#%%\n"
    },
    "colab_type": "code",
    "id": "tszuLpMwZiGI",
    "colab": {}
   },
   "source": [
    "train_data = read_data(config.data_path/'train.txt')\n",
    "valid_data = read_data(config.data_path/'dev.txt')\n",
    "test_data = read_data(config.data_path/'test.txt')"
   ],
   "execution_count": null,
   "outputs": []
  },
  {
   "cell_type": "markdown",
   "metadata": {
    "colab_type": "text",
    "id": "rpyGEuc9ZTvA"
   },
   "source": [
    "### merge train and val -> split by range index"
   ]
  },
  {
   "cell_type": "code",
   "metadata": {
    "pycharm": {
     "name": "#%%\n"
    },
    "colab_type": "code",
    "id": "H7sO_SAMZTvG",
    "colab": {}
   },
   "source": [
    "train_val_data = train_data + valid_data\n",
    "train_len, val_len, train_val_len = len(train_data), len(valid_data), len(train_val_data)\n",
    "splits = [list(range(train_len)), list(range(train_len, train_val_len))]"
   ],
   "execution_count": null,
   "outputs": []
  },
  {
   "cell_type": "markdown",
   "metadata": {
    "colab_type": "text",
    "id": "rldMa85iZTvQ"
   },
   "source": [
    "### datasets"
   ]
  },
  {
   "cell_type": "code",
   "metadata": {
    "pycharm": {
     "name": "#%%\n"
    },
    "colab_type": "code",
    "id": "1clGkz-ZZTvR",
    "colab": {}
   },
   "source": [
    "tokenizer = RobertaBPETokenizer(\n",
    "    bpe_path=config.bpe_codes,\n",
    "    vocab_path=config.vocab_path,\n",
    ")\n",
    "\n",
    "w_tfms = [ItemGetter(0), WordTransformV2(tokenizer)]\n",
    "pos_tfms = [ItemGetter(1), CategorizeList(pad='[pad_p]')]\n",
    "chunk_tfms = [ItemGetter(2), CategorizeList(pad='[pad_c]')]\n",
    "y_tfms = [ItemGetter(3), CategorizeList(pad='[pad_l]')]\n",
    "ds = Datasets(\n",
    "    train_val_data,\n",
    "    tfms=[w_tfms, *([pos_tfms, chunk_tfms] if config.use_pos_chunk else []), y_tfms],\n",
    "    splits=splits,\n",
    "    n_inp=5 if config.use_pos_chunk else 3,\n",
    ")"
   ],
   "execution_count": null,
   "outputs": []
  },
  {
   "cell_type": "markdown",
   "metadata": {
    "colab_type": "text",
    "id": "gATcp_BrZTvY"
   },
   "source": [
    "### get dataloaders func"
   ]
  },
  {
   "cell_type": "code",
   "metadata": {
    "pycharm": {
     "name": "#%%\n"
    },
    "colab_type": "code",
    "id": "C8foKFGLZTvZ",
    "colab": {}
   },
   "source": [
    "def get_dls(ds: Datasets, bs=64):\n",
    "    dls = ds.dataloaders(\n",
    "        bs=bs,\n",
    "        before_batch=BeforeBatch(\n",
    "            # pad_idxs=[w_tfms[-1].tokenizer.pad_token_id, pos_tfms[-1].pad_idx, chunk_tfms[-1].pad_idx, y_tfms[-1].pad_idx],\n",
    "            pad_idxs=[\n",
    "                w_tfms[-1].tokenizer.pad_token_id,\n",
    "                *([pos_tfms[-1].pad_idx, chunk_tfms[-1].pad_idx] if config.use_pos_chunk else []), \n",
    "                -1,\n",
    "            ],\n",
    "            pad_fields=[0, 1, 2, 5] if config.use_pos_chunk else [0, 3],\n",
    "            pad_firsts=[False] * 4 if config.use_pos_chunk else [False, False],\n",
    "            use_pos_chunk=config.use_pos_chunk,\n",
    "        ),\n",
    "        n_inp=5 if config.use_pos_chunk else 3,\n",
    "        verbose=True,\n",
    "    )\n",
    "    return dls"
   ],
   "execution_count": null,
   "outputs": []
  },
  {
   "cell_type": "markdown",
   "metadata": {
    "colab_type": "text",
    "id": "qZrCrFQLZTve"
   },
   "source": [
    "### dataloaders"
   ]
  },
  {
   "cell_type": "code",
   "metadata": {
    "pycharm": {
     "name": "#%%\n"
    },
    "colab_type": "code",
    "id": "xl15cMUnZTvf",
    "colab": {
     "base_uri": "https://localhost:8080/",
     "height": 70
    },
    "outputId": "96ea479e-c880-407a-e2d5-b5da1c81cfe5"
   },
   "source": [
    "dls = get_dls(ds, config.bs)"
   ],
   "execution_count": null,
   "outputs": [
    {
     "output_type": "stream",
     "text": [
      "Setting up after_item: Pipeline: \n",
      "Setting up before_batch: Pipeline: BeforeBatch\n",
      "Setting up after_batch: Pipeline: \n"
     ],
     "name": "stdout"
    }
   ]
  },
  {
   "cell_type": "markdown",
   "metadata": {
    "colab_type": "text",
    "id": "-DZkaMcgZTvj"
   },
   "source": [
    "#### test one batch"
   ]
  },
  {
   "cell_type": "code",
   "metadata": {
    "colab_type": "code",
    "id": "P6nyEUBlZTvl",
    "colab": {
     "base_uri": "https://localhost:8080/",
     "height": 88
    },
    "outputId": "d66babf2-becc-425f-c570-512fb0b01872"
   },
   "source": [
    "for i in dls.one_batch():\n",
    "    print(i.size())"
   ],
   "execution_count": null,
   "outputs": [
    {
     "output_type": "stream",
     "text": [
      "torch.Size([64, 64])\n",
      "torch.Size([64])\n",
      "torch.Size([64, 60])\n",
      "torch.Size([64, 60])\n"
     ],
     "name": "stdout"
    }
   ]
  },
  {
   "cell_type": "markdown",
   "metadata": {
    "colab_type": "text",
    "id": "2Bu7soRHZTvo"
   },
   "source": [
    "## Create model"
   ]
  },
  {
   "cell_type": "code",
   "metadata": {
    "pycharm": {
     "name": "#%%\n"
    },
    "colab_type": "code",
    "id": "Yel-yXHfZTvo",
    "colab": {
     "base_uri": "https://localhost:8080/",
     "height": 1000
    },
    "outputId": "1a39a7d9-e904-44b3-deb9-f428e41172fb"
   },
   "source": [
    "model = RobertaNER.from_pretrained(\n",
    "    config_path_or_pretrained_weights=config.config_path_or_pretrained_weights,\n",
    "    model_path_or_pretrained_weights=config.model_path_or_pretrained_weights,\n",
    "    n_tags=config.n_tags,\n",
    "    custom_config=config.custom_config,\n",
    "    token_reduction=config.token_reduction,\n",
    "    token2word_reduction=config.token2word_reduction,\n",
    "    p_dropout=config.p_dropout,\n",
    "    use_pos_chunk=config.use_pos_chunk,\n",
    ")"
   ],
   "execution_count": null,
   "outputs": [
    {
     "output_type": "error",
     "ename": "ModuleAttributeError",
     "evalue": "ignored",
     "traceback": [
      "\u001B[0;31m---------------------------------------------------------------------------\u001B[0m",
      "\u001B[0;31mModuleAttributeError\u001B[0m                      Traceback (most recent call last)",
      "\u001B[0;32m<ipython-input-27-5d3cdfdaeed3>\u001B[0m in \u001B[0;36m<module>\u001B[0;34m()\u001B[0m\n\u001B[1;32m      7\u001B[0m     \u001B[0mtoken2word_reduction\u001B[0m\u001B[0;34m=\u001B[0m\u001B[0mconfig\u001B[0m\u001B[0;34m.\u001B[0m\u001B[0mtoken2word_reduction\u001B[0m\u001B[0;34m,\u001B[0m\u001B[0;34m\u001B[0m\u001B[0;34m\u001B[0m\u001B[0m\n\u001B[1;32m      8\u001B[0m     \u001B[0mp_dropout\u001B[0m\u001B[0;34m=\u001B[0m\u001B[0mconfig\u001B[0m\u001B[0;34m.\u001B[0m\u001B[0mp_dropout\u001B[0m\u001B[0;34m,\u001B[0m\u001B[0;34m\u001B[0m\u001B[0;34m\u001B[0m\u001B[0m\n\u001B[0;32m----> 9\u001B[0;31m     \u001B[0muse_pos_chunk\u001B[0m\u001B[0;34m=\u001B[0m\u001B[0mconfig\u001B[0m\u001B[0;34m.\u001B[0m\u001B[0muse_pos_chunk\u001B[0m\u001B[0;34m,\u001B[0m\u001B[0;34m\u001B[0m\u001B[0;34m\u001B[0m\u001B[0m\n\u001B[0m\u001B[1;32m     10\u001B[0m )\n",
      "\u001B[0;32m<ipython-input-26-c1dfb2340647>\u001B[0m in \u001B[0;36mfrom_pretrained\u001B[0;34m(cls, config_path_or_pretrained_weights, model_path_or_pretrained_weights, n_tags, custom_config, token_reduction, token2word_reduction, p_dropout, use_pos_chunk, head_hidden_sizes)\u001B[0m\n\u001B[1;32m    192\u001B[0m             \u001B[0mp_dropout\u001B[0m\u001B[0;34m=\u001B[0m\u001B[0mp_dropout\u001B[0m\u001B[0;34m,\u001B[0m\u001B[0;34m\u001B[0m\u001B[0;34m\u001B[0m\u001B[0m\n\u001B[1;32m    193\u001B[0m             \u001B[0muse_pos_chunk\u001B[0m\u001B[0;34m=\u001B[0m\u001B[0muse_pos_chunk\u001B[0m\u001B[0;34m,\u001B[0m\u001B[0;34m\u001B[0m\u001B[0;34m\u001B[0m\u001B[0m\n\u001B[0;32m--> 194\u001B[0;31m             \u001B[0mhead_hidden_sizes\u001B[0m\u001B[0;34m=\u001B[0m\u001B[0mhead_hidden_sizes\u001B[0m\u001B[0;34m,\u001B[0m\u001B[0;34m\u001B[0m\u001B[0;34m\u001B[0m\u001B[0m\n\u001B[0m\u001B[1;32m    195\u001B[0m         )\n",
      "\u001B[0;32m<ipython-input-26-c1dfb2340647>\u001B[0m in \u001B[0;36m__init__\u001B[0;34m(self, roberta_model, roberta_config, n_tags, token_reduction, token2word_reduction, use_pos_chunk, use_crf, p_dropout, head_hidden_sizes)\u001B[0m\n\u001B[1;32m     30\u001B[0m             \u001B[0mn_tags\u001B[0m\u001B[0;34m=\u001B[0m\u001B[0mn_tags\u001B[0m\u001B[0;34m,\u001B[0m\u001B[0;34m\u001B[0m\u001B[0;34m\u001B[0m\u001B[0m\n\u001B[1;32m     31\u001B[0m             \u001B[0mhead_hidden_sizes\u001B[0m\u001B[0;34m=\u001B[0m\u001B[0mhead_hidden_sizes\u001B[0m\u001B[0;34m,\u001B[0m\u001B[0;34m\u001B[0m\u001B[0;34m\u001B[0m\u001B[0m\n\u001B[0;32m---> 32\u001B[0;31m             \u001B[0mp_dropout\u001B[0m\u001B[0;34m=\u001B[0m\u001B[0mp_dropout\u001B[0m\u001B[0;34m,\u001B[0m\u001B[0;34m\u001B[0m\u001B[0;34m\u001B[0m\u001B[0m\n\u001B[0m\u001B[1;32m     33\u001B[0m         )\n\u001B[1;32m     34\u001B[0m \u001B[0;34m\u001B[0m\u001B[0m\n",
      "\u001B[0;32m<ipython-input-26-c1dfb2340647>\u001B[0m in \u001B[0;36m_get_head\u001B[0;34m(self, n_tags, head_hidden_sizes, p_dropout)\u001B[0m\n\u001B[1;32m    153\u001B[0m                 \u001B[0mhidden_sizes\u001B[0m\u001B[0;34m=\u001B[0m\u001B[0;34m[\u001B[0m\u001B[0mhidden_sizes\u001B[0m\u001B[0;34m[\u001B[0m\u001B[0mself\u001B[0m\u001B[0;34m.\u001B[0m\u001B[0m_token_reduction\u001B[0m\u001B[0;34m]\u001B[0m\u001B[0;34m,\u001B[0m \u001B[0;34m*\u001B[0m\u001B[0mhead_hidden_sizes\u001B[0m\u001B[0;34m]\u001B[0m\u001B[0;34m,\u001B[0m\u001B[0;34m\u001B[0m\u001B[0;34m\u001B[0m\u001B[0m\n\u001B[1;32m    154\u001B[0m                 \u001B[0muse_crf\u001B[0m\u001B[0;34m=\u001B[0m\u001B[0mself\u001B[0m\u001B[0;34m.\u001B[0m\u001B[0m_use_crf\u001B[0m\u001B[0;34m,\u001B[0m\u001B[0;34m\u001B[0m\u001B[0;34m\u001B[0m\u001B[0m\n\u001B[0;32m--> 155\u001B[0;31m                 \u001B[0mp_dropout\u001B[0m\u001B[0;34m=\u001B[0m\u001B[0mp_dropout\u001B[0m\u001B[0;34m,\u001B[0m\u001B[0;34m\u001B[0m\u001B[0;34m\u001B[0m\u001B[0m\n\u001B[0m\u001B[1;32m    156\u001B[0m             )\n\u001B[1;32m    157\u001B[0m         )\n",
      "\u001B[0;32m<ipython-input-13-a129430f4ab6>\u001B[0m in \u001B[0;36m__init__\u001B[0;34m(self, n_labels, hidden_sizes, use_crf, p_dropout)\u001B[0m\n\u001B[1;32m      6\u001B[0m         \u001B[0;31m#     out_features=n_labels,\u001B[0m\u001B[0;34m\u001B[0m\u001B[0;34m\u001B[0m\u001B[0;34m\u001B[0m\u001B[0m\n\u001B[1;32m      7\u001B[0m         \u001B[0;31m# )\u001B[0m\u001B[0;34m\u001B[0m\u001B[0;34m\u001B[0m\u001B[0;34m\u001B[0m\u001B[0m\n\u001B[0;32m----> 8\u001B[0;31m         \u001B[0mself\u001B[0m\u001B[0;34m.\u001B[0m\u001B[0mhidden2tag\u001B[0m \u001B[0;34m=\u001B[0m \u001B[0mself\u001B[0m\u001B[0;34m.\u001B[0m\u001B[0m_get_hidden2tag\u001B[0m\u001B[0;34m(\u001B[0m\u001B[0;34m[\u001B[0m\u001B[0;34m*\u001B[0m\u001B[0mhidden_sizes\u001B[0m\u001B[0;34m,\u001B[0m \u001B[0mn_labels\u001B[0m\u001B[0;34m]\u001B[0m\u001B[0;34m,\u001B[0m \u001B[0mp_dropout\u001B[0m\u001B[0;34m)\u001B[0m\u001B[0;34m\u001B[0m\u001B[0;34m\u001B[0m\u001B[0m\n\u001B[0m\u001B[1;32m      9\u001B[0m \u001B[0;34m\u001B[0m\u001B[0m\n\u001B[1;32m     10\u001B[0m         \u001B[0mself\u001B[0m\u001B[0;34m.\u001B[0m\u001B[0muse_crf\u001B[0m \u001B[0;34m=\u001B[0m \u001B[0muse_crf\u001B[0m\u001B[0;34m\u001B[0m\u001B[0;34m\u001B[0m\u001B[0m\n",
      "\u001B[0;32m<ipython-input-13-a129430f4ab6>\u001B[0m in \u001B[0;36m_get_hidden2tag\u001B[0;34m(self, hidden_sizes, p_dropout)\u001B[0m\n\u001B[1;32m     35\u001B[0m                 \u001B[0mlayers\u001B[0m\u001B[0;34m.\u001B[0m\u001B[0mappend\u001B[0m\u001B[0;34m(\u001B[0m\u001B[0mnn\u001B[0m\u001B[0;34m.\u001B[0m\u001B[0mTanh\u001B[0m\u001B[0;34m(\u001B[0m\u001B[0;34m)\u001B[0m\u001B[0;34m)\u001B[0m\u001B[0;34m\u001B[0m\u001B[0;34m\u001B[0m\u001B[0m\n\u001B[1;32m     36\u001B[0m                 \u001B[0mlayers\u001B[0m\u001B[0;34m.\u001B[0m\u001B[0mappend\u001B[0m\u001B[0;34m(\u001B[0m\u001B[0mnn\u001B[0m\u001B[0;34m.\u001B[0m\u001B[0mDropout\u001B[0m\u001B[0;34m(\u001B[0m\u001B[0mp\u001B[0m\u001B[0;34m=\u001B[0m\u001B[0mp_dropout\u001B[0m\u001B[0;34m)\u001B[0m\u001B[0;34m)\u001B[0m\u001B[0;34m\u001B[0m\u001B[0;34m\u001B[0m\u001B[0m\n\u001B[0;32m---> 37\u001B[0;31m             \u001B[0mlayers\u001B[0m\u001B[0;34m.\u001B[0m\u001B[0mappend\u001B[0m\u001B[0;34m(\u001B[0m\u001B[0mself\u001B[0m\u001B[0;34m.\u001B[0m\u001B[0m_get_linear\u001B[0m\u001B[0;34m(\u001B[0m\u001B[0mhidden_sizes\u001B[0m\u001B[0;34m[\u001B[0m\u001B[0mi\u001B[0m\u001B[0;34m]\u001B[0m\u001B[0;34m,\u001B[0m \u001B[0mhidden_sizes\u001B[0m\u001B[0;34m[\u001B[0m\u001B[0mi\u001B[0m \u001B[0;34m+\u001B[0m \u001B[0;36m1\u001B[0m\u001B[0;34m]\u001B[0m\u001B[0;34m)\u001B[0m\u001B[0;34m)\u001B[0m\u001B[0;34m\u001B[0m\u001B[0;34m\u001B[0m\u001B[0m\n\u001B[0m\u001B[1;32m     38\u001B[0m \u001B[0;34m\u001B[0m\u001B[0m\n\u001B[1;32m     39\u001B[0m         \u001B[0;32mreturn\u001B[0m \u001B[0mnn\u001B[0m\u001B[0;34m.\u001B[0m\u001B[0mSequential\u001B[0m\u001B[0;34m(\u001B[0m\u001B[0;34m*\u001B[0m\u001B[0mlayers\u001B[0m\u001B[0;34m)\u001B[0m\u001B[0;34m\u001B[0m\u001B[0;34m\u001B[0m\u001B[0m\n",
      "\u001B[0;32m/usr/local/lib/python3.6/dist-packages/torch/nn/modules/module.py\u001B[0m in \u001B[0;36m__getattr__\u001B[0;34m(self, name)\u001B[0m\n\u001B[1;32m    770\u001B[0m                 \u001B[0;32mreturn\u001B[0m \u001B[0mmodules\u001B[0m\u001B[0;34m[\u001B[0m\u001B[0mname\u001B[0m\u001B[0;34m]\u001B[0m\u001B[0;34m\u001B[0m\u001B[0;34m\u001B[0m\u001B[0m\n\u001B[1;32m    771\u001B[0m         raise ModuleAttributeError(\"'{}' object has no attribute '{}'\".format(\n\u001B[0;32m--> 772\u001B[0;31m             type(self).__name__, name))\n\u001B[0m\u001B[1;32m    773\u001B[0m \u001B[0;34m\u001B[0m\u001B[0m\n\u001B[1;32m    774\u001B[0m     \u001B[0;32mdef\u001B[0m \u001B[0m__setattr__\u001B[0m\u001B[0;34m(\u001B[0m\u001B[0mself\u001B[0m\u001B[0;34m,\u001B[0m \u001B[0mname\u001B[0m\u001B[0;34m:\u001B[0m \u001B[0mstr\u001B[0m\u001B[0;34m,\u001B[0m \u001B[0mvalue\u001B[0m\u001B[0;34m:\u001B[0m \u001B[0mUnion\u001B[0m\u001B[0;34m[\u001B[0m\u001B[0mTensor\u001B[0m\u001B[0;34m,\u001B[0m \u001B[0;34m'Module'\u001B[0m\u001B[0;34m]\u001B[0m\u001B[0;34m)\u001B[0m \u001B[0;34m->\u001B[0m \u001B[0;32mNone\u001B[0m\u001B[0;34m:\u001B[0m\u001B[0;34m\u001B[0m\u001B[0;34m\u001B[0m\u001B[0m\n",
      "\u001B[0;31mModuleAttributeError\u001B[0m: 'RobertaNERHead' object has no attribute '_get_linear'"
     ]
    }
   ]
  },
  {
   "cell_type": "markdown",
   "metadata": {
    "colab_type": "text",
    "id": "jrO2OH8OZTvq"
   },
   "source": [
    "## Get loss function"
   ]
  },
  {
   "cell_type": "code",
   "metadata": {
    "pycharm": {
     "name": "#%%\n"
    },
    "colab_type": "code",
    "id": "lItG3T1bZTvr",
    "colab": {}
   },
   "source": [
    "loss_func = model.get_loss_func()"
   ],
   "execution_count": null,
   "outputs": []
  },
  {
   "cell_type": "markdown",
   "metadata": {
    "colab_type": "text",
    "id": "zmxANYf4ZTvt"
   },
   "source": [
    "## Create learner"
   ]
  },
  {
   "cell_type": "code",
   "metadata": {
    "pycharm": {
     "name": "#%%\n"
    },
    "colab_type": "code",
    "id": "1BR4a4CwZTvu",
    "colab": {}
   },
   "source": [
    "learner = Learner(\n",
    "    dls=dls,\n",
    "    model=model,\n",
    "    loss_func=loss_func,\n",
    "    splitter=splitter,\n",
    "    cbs=[ShowGraphCallback(),],\n",
    "    metrics=[ConllevalMetric(label_vocab=y_tfms[-1].vocab),],\n",
    "    path=config.model_path,\n",
    ")"
   ],
   "execution_count": null,
   "outputs": []
  },
  {
   "cell_type": "markdown",
   "metadata": {
    "id": "XJUeyaEHfR7h",
    "colab_type": "text"
   },
   "source": [
    "## Train model"
   ]
  },
  {
   "cell_type": "markdown",
   "metadata": {
    "id": "FvvCVrR5fVye",
    "colab_type": "text"
   },
   "source": [
    "### Stage 1: Freeze model and train only head"
   ]
  },
  {
   "cell_type": "code",
   "metadata": {
    "id": "JWfXwDvrfsnn",
    "colab_type": "code",
    "colab": {}
   },
   "source": [
    "learner.freeze()"
   ],
   "execution_count": null,
   "outputs": []
  },
  {
   "cell_type": "code",
   "metadata": {
    "id": "tJwv9AFWfOLT",
    "colab_type": "code",
    "colab": {
     "base_uri": "https://localhost:8080/",
     "height": 301
    },
    "outputId": "b14f6706-6795-4ce5-e56c-280e5461dea3"
   },
   "source": [
    "learner.lr_find()"
   ],
   "execution_count": null,
   "outputs": [
    {
     "output_type": "display_data",
     "data": {
      "text/html": [
       ""
      ],
      "text/plain": [
       "<IPython.core.display.HTML object>"
      ]
     },
     "metadata": {
      "tags": []
     }
    },
    {
     "output_type": "execute_result",
     "data": {
      "text/plain": [
       "SuggestedLRs(lr_min=0.33113112449646, lr_steep=0.007585775572806597)"
      ]
     },
     "metadata": {
      "tags": []
     },
     "execution_count": 149
    },
    {
     "output_type": "display_data",
     "data": {
      "image/png": "[encoded data removed]",
      "text/plain": [
       "<Figure size 432x288 with 1 Axes>"
      ]
     },
     "metadata": {
      "tags": [],
      "needs_background": "light"
     }
    }
   ]
  },
  {
   "cell_type": "code",
   "metadata": {
    "id": "sF_Q4KsmfgVQ",
    "colab_type": "code",
    "colab": {
     "base_uri": "https://localhost:8080/",
     "height": 594
    },
    "outputId": "0d1e0cc2-a8e4-468b-9b75-8b092537db44"
   },
   "source": [
    "learner.fit_one_cycle(10, 1e-2)"
   ],
   "execution_count": null,
   "outputs": [
    {
     "output_type": "display_data",
     "data": {
      "text/html": [
       "<table border=\"1\" class=\"dataframe\">\n",
       "  <thead>\n",
       "    <tr style=\"text-align: left;\">\n",
       "      <th>epoch</th>\n",
       "      <th>train_loss</th>\n",
       "      <th>valid_loss</th>\n",
       "      <th>precision     recall     f1score</th>\n",
       "      <th>time</th>\n",
       "    </tr>\n",
       "  </thead>\n",
       "  <tbody>\n",
       "    <tr>\n",
       "      <td>0</td>\n",
       "      <td>0.165758</td>\n",
       "      <td>0.076320</td>\n",
       "      <td>   73.8426     66.2742     69.8540</td>\n",
       "      <td>01:27</td>\n",
       "    </tr>\n",
       "    <tr>\n",
       "      <td>1</td>\n",
       "      <td>0.057611</td>\n",
       "      <td>0.039057</td>\n",
       "      <td>   86.7378     78.8089     82.5835</td>\n",
       "      <td>01:27</td>\n",
       "    </tr>\n",
       "    <tr>\n",
       "      <td>2</td>\n",
       "      <td>0.041660</td>\n",
       "      <td>0.033413</td>\n",
       "      <td>   87.2578     81.0942     84.0632</td>\n",
       "      <td>01:27</td>\n",
       "    </tr>\n",
       "    <tr>\n",
       "      <td>3</td>\n",
       "      <td>0.039218</td>\n",
       "      <td>0.031376</td>\n",
       "      <td>   88.5991     82.3407     85.3553</td>\n",
       "      <td>01:28</td>\n",
       "    </tr>\n",
       "    <tr>\n",
       "      <td>4</td>\n",
       "      <td>0.036982</td>\n",
       "      <td>0.030506</td>\n",
       "      <td>   89.7203     82.2022     85.7969</td>\n",
       "      <td>01:28</td>\n",
       "    </tr>\n",
       "    <tr>\n",
       "      <td>5</td>\n",
       "      <td>0.033366</td>\n",
       "      <td>0.029217</td>\n",
       "      <td>   89.9467     81.7867     85.6728</td>\n",
       "      <td>01:27</td>\n",
       "    </tr>\n",
       "    <tr>\n",
       "      <td>6</td>\n",
       "      <td>0.032109</td>\n",
       "      <td>0.028603</td>\n",
       "      <td>   91.3609     82.7562     86.8459</td>\n",
       "      <td>01:28</td>\n",
       "    </tr>\n",
       "    <tr>\n",
       "      <td>7</td>\n",
       "      <td>0.031123</td>\n",
       "      <td>0.028101</td>\n",
       "      <td>   91.0823     82.7562     86.7199</td>\n",
       "      <td>01:29</td>\n",
       "    </tr>\n",
       "    <tr>\n",
       "      <td>8</td>\n",
       "      <td>0.029546</td>\n",
       "      <td>0.027744</td>\n",
       "      <td>   90.0602     82.8255     86.2915</td>\n",
       "      <td>01:27</td>\n",
       "    </tr>\n",
       "    <tr>\n",
       "      <td>9</td>\n",
       "      <td>0.028905</td>\n",
       "      <td>0.027850</td>\n",
       "      <td>   90.3104     82.6177     86.2929</td>\n",
       "      <td>01:28</td>\n",
       "    </tr>\n",
       "  </tbody>\n",
       "</table>"
      ],
      "text/plain": [
       "<IPython.core.display.HTML object>"
      ]
     },
     "metadata": {
      "tags": []
     }
    },
    {
     "output_type": "display_data",
     "data": {
      "image/png": "[encoded data removed]",
      "text/plain": [
       "<Figure size 432x288 with 1 Axes>"
      ]
     },
     "metadata": {
      "tags": []
     }
    }
   ]
  },
  {
   "cell_type": "code",
   "metadata": {
    "id": "3zv51U0wgC45",
    "colab_type": "code",
    "colab": {}
   },
   "source": [
    "learner.save('no_pc_stage1')"
   ],
   "execution_count": null,
   "outputs": []
  },
  {
   "cell_type": "code",
   "metadata": {
    "id": "G-jcE3DZhIcP",
    "colab_type": "code",
    "colab": {}
   },
   "source": [
    "!cp models/no_pc_stage1.pth drive/My\\ Drive/models/bert_ner/models"
   ],
   "execution_count": null,
   "outputs": []
  },
  {
   "cell_type": "markdown",
   "metadata": {
    "id": "BIgWH42ah2H7",
    "colab_type": "text"
   },
   "source": [
    "### Stage 2: Unfreeze and train all"
   ]
  },
  {
   "cell_type": "code",
   "metadata": {
    "id": "hry00AOqmTIF",
    "colab_type": "code",
    "colab": {
     "base_uri": "https://localhost:8080/",
     "height": 35
    },
    "outputId": "7a093a2b-c325-4ecd-d384-4fd8087335f7"
   },
   "source": [
    "learner.load('no_pc_stage1')"
   ],
   "execution_count": null,
   "outputs": [
    {
     "output_type": "execute_result",
     "data": {
      "text/plain": [
       "<fastai2.learner.Learner at 0x7f2799417198>"
      ]
     },
     "metadata": {
      "tags": []
     },
     "execution_count": 169
    }
   ]
  },
  {
   "cell_type": "code",
   "metadata": {
    "id": "pgOOBgv_h7Wr",
    "colab_type": "code",
    "colab": {}
   },
   "source": [
    "learner.unfreeze()"
   ],
   "execution_count": null,
   "outputs": []
  },
  {
   "cell_type": "code",
   "metadata": {
    "id": "w-enY1hZh-XK",
    "colab_type": "code",
    "colab": {
     "base_uri": "https://localhost:8080/",
     "height": 301
    },
    "outputId": "aa74ace6-e08b-4a11-fba7-821b503fe70a"
   },
   "source": [
    "learner.lr_find()"
   ],
   "execution_count": null,
   "outputs": [
    {
     "output_type": "display_data",
     "data": {
      "text/html": [
       ""
      ],
      "text/plain": [
       "<IPython.core.display.HTML object>"
      ]
     },
     "metadata": {
      "tags": []
     }
    },
    {
     "output_type": "execute_result",
     "data": {
      "text/plain": [
       "SuggestedLRs(lr_min=1.584893179824576e-05, lr_steep=3.0199516913853586e-05)"
      ]
     },
     "metadata": {
      "tags": []
     },
     "execution_count": 171
    },
    {
     "output_type": "display_data",
     "data": {
      "image/png": "[encoded data removed]",
      "text/plain": [
       "<Figure size 432x288 with 1 Axes>"
      ]
     },
     "metadata": {
      "tags": [],
      "needs_background": "light"
     }
    }
   ]
  },
  {
   "cell_type": "code",
   "metadata": {
    "id": "D422y3LOiBBq",
    "colab_type": "code",
    "colab": {
     "base_uri": "https://localhost:8080/",
     "height": 356
    },
    "outputId": "bb4157f8-c317-4ca2-8b59-1e03191acf21"
   },
   "source": [
    "lr = 1e-3\n",
    "learner.fit_one_cycle(2, slice(lr / (2.6 ** 4), lr))"
   ],
   "execution_count": null,
   "outputs": [
    {
     "output_type": "display_data",
     "data": {
      "text/html": [
       "<table border=\"1\" class=\"dataframe\">\n",
       "  <thead>\n",
       "    <tr style=\"text-align: left;\">\n",
       "      <th>epoch</th>\n",
       "      <th>train_loss</th>\n",
       "      <th>valid_loss</th>\n",
       "      <th>precision     recall     f1score</th>\n",
       "      <th>time</th>\n",
       "    </tr>\n",
       "  </thead>\n",
       "  <tbody>\n",
       "    <tr>\n",
       "      <td>0</td>\n",
       "      <td>0.027203</td>\n",
       "      <td>0.020452</td>\n",
       "      <td>   91.4878     88.5734     90.0070</td>\n",
       "      <td>03:31</td>\n",
       "    </tr>\n",
       "    <tr>\n",
       "      <td>1</td>\n",
       "      <td>0.011363</td>\n",
       "      <td>0.018321</td>\n",
       "      <td>   90.2643     89.8892     90.0763</td>\n",
       "      <td>03:31</td>\n",
       "    </tr>\n",
       "  </tbody>\n",
       "</table>"
      ],
      "text/plain": [
       "<IPython.core.display.HTML object>"
      ]
     },
     "metadata": {
      "tags": []
     }
    },
    {
     "output_type": "display_data",
     "data": {
      "image/png": "[encoded data removed]",
      "text/plain": [
       "<Figure size 432x288 with 1 Axes>"
      ]
     },
     "metadata": {
      "tags": []
     }
    }
   ]
  },
  {
   "cell_type": "code",
   "metadata": {
    "id": "O0pFUjl3pRvf",
    "colab_type": "code",
    "colab": {
     "base_uri": "https://localhost:8080/",
     "height": 137
    },
    "outputId": "b3977b4d-2bb6-410f-9be5-92211504c309"
   },
   "source": [
    "lr = 5e-4\n",
    "learner.fit_one_cycle(3, slice(lr / (2.6 ** 4), lr))"
   ],
   "execution_count": null,
   "outputs": [
    {
     "output_type": "display_data",
     "data": {
      "text/html": [
       "<table border=\"1\" class=\"dataframe\">\n",
       "  <thead>\n",
       "    <tr style=\"text-align: left;\">\n",
       "      <th>epoch</th>\n",
       "      <th>train_loss</th>\n",
       "      <th>valid_loss</th>\n",
       "      <th>precision     recall     f1score</th>\n",
       "      <th>time</th>\n",
       "    </tr>\n",
       "  </thead>\n",
       "  <tbody>\n",
       "    <tr>\n",
       "      <td>0</td>\n",
       "      <td>0.027209</td>\n",
       "      <td>0.023493</td>\n",
       "      <td>   87.3181     87.2576     87.2878</td>\n",
       "      <td>03:32</td>\n",
       "    </tr>\n",
       "    <tr>\n",
       "      <td>1</td>\n",
       "      <td>0.014714</td>\n",
       "      <td>0.018861</td>\n",
       "      <td>   90.8386     89.2659     90.0454</td>\n",
       "      <td>03:31</td>\n",
       "    </tr>\n",
       "    <tr>\n",
       "      <td>2</td>\n",
       "      <td>0.007230</td>\n",
       "      <td>0.017600</td>\n",
       "      <td>   90.6768     90.9280     90.8022</td>\n",
       "      <td>03:32</td>\n",
       "    </tr>\n",
       "  </tbody>\n",
       "</table>"
      ],
      "text/plain": [
       "<IPython.core.display.HTML object>"
      ]
     },
     "metadata": {
      "tags": []
     }
    }
   ]
  },
  {
   "cell_type": "code",
   "metadata": {
    "id": "2zUt_D-9ovLo",
    "colab_type": "code",
    "colab": {}
   },
   "source": [
    "learner.save('no_pc_stage2')"
   ],
   "execution_count": null,
   "outputs": []
  },
  {
   "cell_type": "code",
   "metadata": {
    "id": "WwOkp_8voy_X",
    "colab_type": "code",
    "colab": {}
   },
   "source": [
    "!cp models/no_pc_stage2.pth drive/My\\ Drive/models/bert_ner/models"
   ],
   "execution_count": null,
   "outputs": []
  },
  {
   "cell_type": "markdown",
   "metadata": {
    "colab_type": "text",
    "id": "LH8mq3wlmEV-"
   },
   "source": [
    "## Evaluate model"
   ]
  },
  {
   "cell_type": "markdown",
   "metadata": {
    "colab_type": "text",
    "id": "S4IFfqYhmEV_"
   },
   "source": [
    "### Create test dataloaders"
   ]
  },
  {
   "cell_type": "code",
   "metadata": {
    "colab_type": "code",
    "id": "Do1OxZY8mEV_",
    "colab": {}
   },
   "source": [
    "test_dl = learner.dls.test_dl(test_data)"
   ],
   "execution_count": null,
   "outputs": []
  },
  {
   "cell_type": "code",
   "metadata": {
    "colab_type": "code",
    "id": "N0-cx5aGmEWC",
    "colab": {
     "base_uri": "https://localhost:8080/",
     "height": 88
    },
    "outputId": "50b2d196-6e86-4c63-a15f-3f28fc3f4f46"
   },
   "source": [
    "for i in test_dl.one_batch():\n",
    "    print(i.size())"
   ],
   "execution_count": null,
   "outputs": [
    {
     "output_type": "stream",
     "text": [
      "torch.Size([64, 57])\n",
      "torch.Size([64])\n",
      "torch.Size([64, 55])\n",
      "torch.Size([64, 55])\n"
     ],
     "name": "stdout"
    }
   ]
  },
  {
   "cell_type": "markdown",
   "metadata": {
    "colab_type": "text",
    "id": "r9EUzeLVmEWG"
   },
   "source": [
    "### Validate test_dl:\n",
    "```\n",
    "Precision: 91.8469\n",
    "Recall:    92.1228\n",
    "F1Score:   91.9847\n",
    "```"
   ]
  },
  {
   "cell_type": "code",
   "metadata": {
    "colab_type": "code",
    "id": "7ilLBTCqmEWG",
    "colab": {}
   },
   "source": [
    "learner.remove_cbs(ShowGraphCallback)"
   ],
   "execution_count": null,
   "outputs": []
  },
  {
   "cell_type": "code",
   "metadata": {
    "colab_type": "code",
    "id": "Gc-sY6MzmEWJ",
    "colab": {
     "base_uri": "https://localhost:8080/",
     "height": 35
    },
    "outputId": "c1e5b60b-65e9-4a2e-b421-b96110e4a6ab"
   },
   "source": [
    "learner.validate(dl=test_dl)"
   ],
   "execution_count": null,
   "outputs": [
    {
     "output_type": "display_data",
     "data": {
      "text/html": [
       ""
      ],
      "text/plain": [
       "<IPython.core.display.HTML object>"
      ]
     },
     "metadata": {
      "tags": []
     }
    },
    {
     "output_type": "execute_result",
     "data": {
      "text/plain": [
       "(#2) [0.01843765191733837,'   91.3748     92.2897     91.8300']"
      ]
     },
     "metadata": {
      "tags": []
     },
     "execution_count": 176
    }
   ]
  },
  {
   "cell_type": "markdown",
   "metadata": {
    "colab_type": "text",
    "id": "wYhvDEt7mEWN"
   },
   "source": [
    "### Get result file"
   ]
  },
  {
   "cell_type": "code",
   "metadata": {
    "colab_type": "code",
    "id": "sPcLWdgRmEWN",
    "colab": {}
   },
   "source": [
    "test_pred = learner.metrics[0].y_pred"
   ],
   "execution_count": null,
   "outputs": []
  },
  {
   "cell_type": "code",
   "metadata": {
    "colab_type": "code",
    "id": "O3wBsKqBmEWQ",
    "colab": {}
   },
   "source": [
    "test_true = learner.metrics[0].y_true"
   ],
   "execution_count": null,
   "outputs": []
  },
  {
   "cell_type": "code",
   "metadata": {
    "colab_type": "code",
    "id": "n-r7fcxlmEWS",
    "colab": {}
   },
   "source": [
    "y_pred = [learner.metrics[0].label_vocab[i] for i in test_pred]\n",
    "y_true = [learner.metrics[0].label_vocab[i] for i in test_true]"
   ],
   "execution_count": null,
   "outputs": []
  },
  {
   "cell_type": "code",
   "metadata": {
    "colab_type": "code",
    "id": "8qGR6snZmEWT",
    "colab": {}
   },
   "source": [
    "with open('result_no_pc.txt', mode='w', encoding='utf8') as f:\n",
    "    for t, p in zip(y_true, y_pred):\n",
    "        f.write(f'w1\\tw2\\t{t}\\t{p}\\n')"
   ],
   "execution_count": null,
   "outputs": []
  }
 ]
}