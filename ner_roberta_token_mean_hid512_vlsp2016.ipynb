{
 "nbformat": 4,
 "nbformat_minor": 0,
 "metadata": {
  "kernelspec": {
   "display_name": "Python 3",
   "language": "python",
   "name": "python3"
  },
  "language_info": {
   "codemirror_mode": {
    "name": "ipython",
    "version": 2
   },
   "file_extension": ".py",
   "mimetype": "text/x-python",
   "name": "python",
   "nbconvert_exporter": "python",
   "pygments_lexer": "ipython2",
   "version": "2.7.6"
  },
  "colab": {
   "name": "ner_roberta_token_mean_hid256_vlsp2016_update.ipynb",
   "provenance": [],
   "collapsed_sections": [
    "QlO1F3jSmOPx",
    "jJxxNxH8mOQB",
    "4M0c0wF4mOQP",
    "1ow61uZjmOQs",
    "Y1xh2iQyPiVU"
   ],
   "toc_visible": true
  },
  "accelerator": "GPU",
  "widgets": {
   "application/vnd.jupyter.widget-state+json": {
    "8b50392d7069424c98bee0f6b47280c4": {
     "model_module": "@jupyter-widgets/controls",
     "model_name": "HBoxModel",
     "state": {
      "_view_name": "HBoxView",
      "_dom_classes": [],
      "_model_name": "HBoxModel",
      "_view_module": "@jupyter-widgets/controls",
      "_model_module_version": "1.5.0",
      "_view_count": null,
      "_view_module_version": "1.5.0",
      "box_style": "",
      "layout": "IPY_MODEL_30687f261ccd47138f46b68c4cbee29c",
      "_model_module": "@jupyter-widgets/controls",
      "children": [
       "IPY_MODEL_085f8235468342bfb55c3664b95019b5",
       "IPY_MODEL_bb33c493ba69463ab3498d200834b702"
      ]
     }
    },
    "30687f261ccd47138f46b68c4cbee29c": {
     "model_module": "@jupyter-widgets/base",
     "model_name": "LayoutModel",
     "state": {
      "_view_name": "LayoutView",
      "grid_template_rows": null,
      "right": null,
      "justify_content": null,
      "_view_module": "@jupyter-widgets/base",
      "overflow": null,
      "_model_module_version": "1.2.0",
      "_view_count": null,
      "flex_flow": null,
      "width": null,
      "min_width": null,
      "border": null,
      "align_items": null,
      "bottom": null,
      "_model_module": "@jupyter-widgets/base",
      "top": null,
      "grid_column": null,
      "overflow_y": null,
      "overflow_x": null,
      "grid_auto_flow": null,
      "grid_area": null,
      "grid_template_columns": null,
      "flex": null,
      "_model_name": "LayoutModel",
      "justify_items": null,
      "grid_row": null,
      "max_height": null,
      "align_content": null,
      "visibility": null,
      "align_self": null,
      "height": null,
      "min_height": null,
      "padding": null,
      "grid_auto_rows": null,
      "grid_gap": null,
      "max_width": null,
      "order": null,
      "_view_module_version": "1.2.0",
      "grid_template_areas": null,
      "object_position": null,
      "object_fit": null,
      "grid_auto_columns": null,
      "margin": null,
      "display": null,
      "left": null
     }
    },
    "085f8235468342bfb55c3664b95019b5": {
     "model_module": "@jupyter-widgets/controls",
     "model_name": "FloatProgressModel",
     "state": {
      "_view_name": "ProgressView",
      "style": "IPY_MODEL_193dae1a1aa744f6b49830de3c8b34a8",
      "_dom_classes": [],
      "description": "Downloading: 100%",
      "_model_name": "FloatProgressModel",
      "bar_style": "success",
      "max": 895321,
      "_view_module": "@jupyter-widgets/controls",
      "_model_module_version": "1.5.0",
      "value": 895321,
      "_view_count": null,
      "_view_module_version": "1.5.0",
      "orientation": "horizontal",
      "min": 0,
      "description_tooltip": null,
      "_model_module": "@jupyter-widgets/controls",
      "layout": "IPY_MODEL_49b78a53244448d4b609238e86f576eb"
     }
    },
    "bb33c493ba69463ab3498d200834b702": {
     "model_module": "@jupyter-widgets/controls",
     "model_name": "HTMLModel",
     "state": {
      "_view_name": "HTMLView",
      "style": "IPY_MODEL_92506e3949d247b7a8e0a74459daf0ba",
      "_dom_classes": [],
      "description": "",
      "_model_name": "HTMLModel",
      "placeholder": "​",
      "_view_module": "@jupyter-widgets/controls",
      "_model_module_version": "1.5.0",
      "value": " 895k/895k [00:01&lt;00:00, 535kB/s]",
      "_view_count": null,
      "_view_module_version": "1.5.0",
      "description_tooltip": null,
      "_model_module": "@jupyter-widgets/controls",
      "layout": "IPY_MODEL_bca6fa8380a3415f9b3f497bf32cd1d1"
     }
    },
    "193dae1a1aa744f6b49830de3c8b34a8": {
     "model_module": "@jupyter-widgets/controls",
     "model_name": "ProgressStyleModel",
     "state": {
      "_view_name": "StyleView",
      "_model_name": "ProgressStyleModel",
      "description_width": "initial",
      "_view_module": "@jupyter-widgets/base",
      "_model_module_version": "1.5.0",
      "_view_count": null,
      "_view_module_version": "1.2.0",
      "bar_color": null,
      "_model_module": "@jupyter-widgets/controls"
     }
    },
    "49b78a53244448d4b609238e86f576eb": {
     "model_module": "@jupyter-widgets/base",
     "model_name": "LayoutModel",
     "state": {
      "_view_name": "LayoutView",
      "grid_template_rows": null,
      "right": null,
      "justify_content": null,
      "_view_module": "@jupyter-widgets/base",
      "overflow": null,
      "_model_module_version": "1.2.0",
      "_view_count": null,
      "flex_flow": null,
      "width": null,
      "min_width": null,
      "border": null,
      "align_items": null,
      "bottom": null,
      "_model_module": "@jupyter-widgets/base",
      "top": null,
      "grid_column": null,
      "overflow_y": null,
      "overflow_x": null,
      "grid_auto_flow": null,
      "grid_area": null,
      "grid_template_columns": null,
      "flex": null,
      "_model_name": "LayoutModel",
      "justify_items": null,
      "grid_row": null,
      "max_height": null,
      "align_content": null,
      "visibility": null,
      "align_self": null,
      "height": null,
      "min_height": null,
      "padding": null,
      "grid_auto_rows": null,
      "grid_gap": null,
      "max_width": null,
      "order": null,
      "_view_module_version": "1.2.0",
      "grid_template_areas": null,
      "object_position": null,
      "object_fit": null,
      "grid_auto_columns": null,
      "margin": null,
      "display": null,
      "left": null
     }
    },
    "92506e3949d247b7a8e0a74459daf0ba": {
     "model_module": "@jupyter-widgets/controls",
     "model_name": "DescriptionStyleModel",
     "state": {
      "_view_name": "StyleView",
      "_model_name": "DescriptionStyleModel",
      "description_width": "",
      "_view_module": "@jupyter-widgets/base",
      "_model_module_version": "1.5.0",
      "_view_count": null,
      "_view_module_version": "1.2.0",
      "_model_module": "@jupyter-widgets/controls"
     }
    },
    "bca6fa8380a3415f9b3f497bf32cd1d1": {
     "model_module": "@jupyter-widgets/base",
     "model_name": "LayoutModel",
     "state": {
      "_view_name": "LayoutView",
      "grid_template_rows": null,
      "right": null,
      "justify_content": null,
      "_view_module": "@jupyter-widgets/base",
      "overflow": null,
      "_model_module_version": "1.2.0",
      "_view_count": null,
      "flex_flow": null,
      "width": null,
      "min_width": null,
      "border": null,
      "align_items": null,
      "bottom": null,
      "_model_module": "@jupyter-widgets/base",
      "top": null,
      "grid_column": null,
      "overflow_y": null,
      "overflow_x": null,
      "grid_auto_flow": null,
      "grid_area": null,
      "grid_template_columns": null,
      "flex": null,
      "_model_name": "LayoutModel",
      "justify_items": null,
      "grid_row": null,
      "max_height": null,
      "align_content": null,
      "visibility": null,
      "align_self": null,
      "height": null,
      "min_height": null,
      "padding": null,
      "grid_auto_rows": null,
      "grid_gap": null,
      "max_width": null,
      "order": null,
      "_view_module_version": "1.2.0",
      "grid_template_areas": null,
      "object_position": null,
      "object_fit": null,
      "grid_auto_columns": null,
      "margin": null,
      "display": null,
      "left": null
     }
    },
    "0b7f83d4068d4d6c8751a668577971e7": {
     "model_module": "@jupyter-widgets/controls",
     "model_name": "HBoxModel",
     "state": {
      "_view_name": "HBoxView",
      "_dom_classes": [],
      "_model_name": "HBoxModel",
      "_view_module": "@jupyter-widgets/controls",
      "_model_module_version": "1.5.0",
      "_view_count": null,
      "_view_module_version": "1.5.0",
      "box_style": "",
      "layout": "IPY_MODEL_b735ed1de46a493e8aea35f38965f64f",
      "_model_module": "@jupyter-widgets/controls",
      "children": [
       "IPY_MODEL_dab16eeaa3b34b8a98d60a2c236c2d83",
       "IPY_MODEL_7d3b44ff8a954df983dce5be933ba922"
      ]
     }
    },
    "b735ed1de46a493e8aea35f38965f64f": {
     "model_module": "@jupyter-widgets/base",
     "model_name": "LayoutModel",
     "state": {
      "_view_name": "LayoutView",
      "grid_template_rows": null,
      "right": null,
      "justify_content": null,
      "_view_module": "@jupyter-widgets/base",
      "overflow": null,
      "_model_module_version": "1.2.0",
      "_view_count": null,
      "flex_flow": null,
      "width": null,
      "min_width": null,
      "border": null,
      "align_items": null,
      "bottom": null,
      "_model_module": "@jupyter-widgets/base",
      "top": null,
      "grid_column": null,
      "overflow_y": null,
      "overflow_x": null,
      "grid_auto_flow": null,
      "grid_area": null,
      "grid_template_columns": null,
      "flex": null,
      "_model_name": "LayoutModel",
      "justify_items": null,
      "grid_row": null,
      "max_height": null,
      "align_content": null,
      "visibility": null,
      "align_self": null,
      "height": null,
      "min_height": null,
      "padding": null,
      "grid_auto_rows": null,
      "grid_gap": null,
      "max_width": null,
      "order": null,
      "_view_module_version": "1.2.0",
      "grid_template_areas": null,
      "object_position": null,
      "object_fit": null,
      "grid_auto_columns": null,
      "margin": null,
      "display": null,
      "left": null
     }
    },
    "dab16eeaa3b34b8a98d60a2c236c2d83": {
     "model_module": "@jupyter-widgets/controls",
     "model_name": "FloatProgressModel",
     "state": {
      "_view_name": "ProgressView",
      "style": "IPY_MODEL_f1c82714d2484e3396837bf10f4d12c1",
      "_dom_classes": [],
      "description": "Downloading: 100%",
      "_model_name": "FloatProgressModel",
      "bar_style": "success",
      "max": 1135173,
      "_view_module": "@jupyter-widgets/controls",
      "_model_module_version": "1.5.0",
      "value": 1135173,
      "_view_count": null,
      "_view_module_version": "1.5.0",
      "orientation": "horizontal",
      "min": 0,
      "description_tooltip": null,
      "_model_module": "@jupyter-widgets/controls",
      "layout": "IPY_MODEL_b6ddab2f5605453782ff7fd03e7d1bd7"
     }
    },
    "7d3b44ff8a954df983dce5be933ba922": {
     "model_module": "@jupyter-widgets/controls",
     "model_name": "HTMLModel",
     "state": {
      "_view_name": "HTMLView",
      "style": "IPY_MODEL_60541dc7510c46259df85b69ba9c60de",
      "_dom_classes": [],
      "description": "",
      "_model_name": "HTMLModel",
      "placeholder": "​",
      "_view_module": "@jupyter-widgets/controls",
      "_model_module_version": "1.5.0",
      "value": " 1.14M/1.14M [00:00&lt;00:00, 1.88MB/s]",
      "_view_count": null,
      "_view_module_version": "1.5.0",
      "description_tooltip": null,
      "_model_module": "@jupyter-widgets/controls",
      "layout": "IPY_MODEL_8286b4dbfa96424398f10d0f62f9f63f"
     }
    },
    "f1c82714d2484e3396837bf10f4d12c1": {
     "model_module": "@jupyter-widgets/controls",
     "model_name": "ProgressStyleModel",
     "state": {
      "_view_name": "StyleView",
      "_model_name": "ProgressStyleModel",
      "description_width": "initial",
      "_view_module": "@jupyter-widgets/base",
      "_model_module_version": "1.5.0",
      "_view_count": null,
      "_view_module_version": "1.2.0",
      "bar_color": null,
      "_model_module": "@jupyter-widgets/controls"
     }
    },
    "b6ddab2f5605453782ff7fd03e7d1bd7": {
     "model_module": "@jupyter-widgets/base",
     "model_name": "LayoutModel",
     "state": {
      "_view_name": "LayoutView",
      "grid_template_rows": null,
      "right": null,
      "justify_content": null,
      "_view_module": "@jupyter-widgets/base",
      "overflow": null,
      "_model_module_version": "1.2.0",
      "_view_count": null,
      "flex_flow": null,
      "width": null,
      "min_width": null,
      "border": null,
      "align_items": null,
      "bottom": null,
      "_model_module": "@jupyter-widgets/base",
      "top": null,
      "grid_column": null,
      "overflow_y": null,
      "overflow_x": null,
      "grid_auto_flow": null,
      "grid_area": null,
      "grid_template_columns": null,
      "flex": null,
      "_model_name": "LayoutModel",
      "justify_items": null,
      "grid_row": null,
      "max_height": null,
      "align_content": null,
      "visibility": null,
      "align_self": null,
      "height": null,
      "min_height": null,
      "padding": null,
      "grid_auto_rows": null,
      "grid_gap": null,
      "max_width": null,
      "order": null,
      "_view_module_version": "1.2.0",
      "grid_template_areas": null,
      "object_position": null,
      "object_fit": null,
      "grid_auto_columns": null,
      "margin": null,
      "display": null,
      "left": null
     }
    },
    "60541dc7510c46259df85b69ba9c60de": {
     "model_module": "@jupyter-widgets/controls",
     "model_name": "DescriptionStyleModel",
     "state": {
      "_view_name": "StyleView",
      "_model_name": "DescriptionStyleModel",
      "description_width": "",
      "_view_module": "@jupyter-widgets/base",
      "_model_module_version": "1.5.0",
      "_view_count": null,
      "_view_module_version": "1.2.0",
      "_model_module": "@jupyter-widgets/controls"
     }
    },
    "8286b4dbfa96424398f10d0f62f9f63f": {
     "model_module": "@jupyter-widgets/base",
     "model_name": "LayoutModel",
     "state": {
      "_view_name": "LayoutView",
      "grid_template_rows": null,
      "right": null,
      "justify_content": null,
      "_view_module": "@jupyter-widgets/base",
      "overflow": null,
      "_model_module_version": "1.2.0",
      "_view_count": null,
      "flex_flow": null,
      "width": null,
      "min_width": null,
      "border": null,
      "align_items": null,
      "bottom": null,
      "_model_module": "@jupyter-widgets/base",
      "top": null,
      "grid_column": null,
      "overflow_y": null,
      "overflow_x": null,
      "grid_auto_flow": null,
      "grid_area": null,
      "grid_template_columns": null,
      "flex": null,
      "_model_name": "LayoutModel",
      "justify_items": null,
      "grid_row": null,
      "max_height": null,
      "align_content": null,
      "visibility": null,
      "align_self": null,
      "height": null,
      "min_height": null,
      "padding": null,
      "grid_auto_rows": null,
      "grid_gap": null,
      "max_width": null,
      "order": null,
      "_view_module_version": "1.2.0",
      "grid_template_areas": null,
      "object_position": null,
      "object_fit": null,
      "grid_auto_columns": null,
      "margin": null,
      "display": null,
      "left": null
     }
    },
    "ba017bca88ce4d14954b170550eb333a": {
     "model_module": "@jupyter-widgets/controls",
     "model_name": "HBoxModel",
     "state": {
      "_view_name": "HBoxView",
      "_dom_classes": [],
      "_model_name": "HBoxModel",
      "_view_module": "@jupyter-widgets/controls",
      "_model_module_version": "1.5.0",
      "_view_count": null,
      "_view_module_version": "1.5.0",
      "box_style": "",
      "layout": "IPY_MODEL_e6523ce3110042919d283baecbac89a1",
      "_model_module": "@jupyter-widgets/controls",
      "children": [
       "IPY_MODEL_f2ce31863b7548f885fed6e041277eee",
       "IPY_MODEL_23c9795d0d744ee996678e4cf871b0cb"
      ]
     }
    },
    "e6523ce3110042919d283baecbac89a1": {
     "model_module": "@jupyter-widgets/base",
     "model_name": "LayoutModel",
     "state": {
      "_view_name": "LayoutView",
      "grid_template_rows": null,
      "right": null,
      "justify_content": null,
      "_view_module": "@jupyter-widgets/base",
      "overflow": null,
      "_model_module_version": "1.2.0",
      "_view_count": null,
      "flex_flow": null,
      "width": null,
      "min_width": null,
      "border": null,
      "align_items": null,
      "bottom": null,
      "_model_module": "@jupyter-widgets/base",
      "top": null,
      "grid_column": null,
      "overflow_y": null,
      "overflow_x": null,
      "grid_auto_flow": null,
      "grid_area": null,
      "grid_template_columns": null,
      "flex": null,
      "_model_name": "LayoutModel",
      "justify_items": null,
      "grid_row": null,
      "max_height": null,
      "align_content": null,
      "visibility": null,
      "align_self": null,
      "height": null,
      "min_height": null,
      "padding": null,
      "grid_auto_rows": null,
      "grid_gap": null,
      "max_width": null,
      "order": null,
      "_view_module_version": "1.2.0",
      "grid_template_areas": null,
      "object_position": null,
      "object_fit": null,
      "grid_auto_columns": null,
      "margin": null,
      "display": null,
      "left": null
     }
    },
    "f2ce31863b7548f885fed6e041277eee": {
     "model_module": "@jupyter-widgets/controls",
     "model_name": "FloatProgressModel",
     "state": {
      "_view_name": "ProgressView",
      "style": "IPY_MODEL_af97ebd3e761492eb6d97ead244d100b",
      "_dom_classes": [],
      "description": "Downloading: 100%",
      "_model_name": "FloatProgressModel",
      "bar_style": "success",
      "max": 557,
      "_view_module": "@jupyter-widgets/controls",
      "_model_module_version": "1.5.0",
      "value": 557,
      "_view_count": null,
      "_view_module_version": "1.5.0",
      "orientation": "horizontal",
      "min": 0,
      "description_tooltip": null,
      "_model_module": "@jupyter-widgets/controls",
      "layout": "IPY_MODEL_2a463fc84abc4d319ae6cc33be8ee1c6"
     }
    },
    "23c9795d0d744ee996678e4cf871b0cb": {
     "model_module": "@jupyter-widgets/controls",
     "model_name": "HTMLModel",
     "state": {
      "_view_name": "HTMLView",
      "style": "IPY_MODEL_5fa4650a0f8043698d0086dc8d50b423",
      "_dom_classes": [],
      "description": "",
      "_model_name": "HTMLModel",
      "placeholder": "​",
      "_view_module": "@jupyter-widgets/controls",
      "_model_module_version": "1.5.0",
      "value": " 557/557 [00:00&lt;00:00, 1.44kB/s]",
      "_view_count": null,
      "_view_module_version": "1.5.0",
      "description_tooltip": null,
      "_model_module": "@jupyter-widgets/controls",
      "layout": "IPY_MODEL_2e846b33dc344d7dbb78a7027532454d"
     }
    },
    "af97ebd3e761492eb6d97ead244d100b": {
     "model_module": "@jupyter-widgets/controls",
     "model_name": "ProgressStyleModel",
     "state": {
      "_view_name": "StyleView",
      "_model_name": "ProgressStyleModel",
      "description_width": "initial",
      "_view_module": "@jupyter-widgets/base",
      "_model_module_version": "1.5.0",
      "_view_count": null,
      "_view_module_version": "1.2.0",
      "bar_color": null,
      "_model_module": "@jupyter-widgets/controls"
     }
    },
    "2a463fc84abc4d319ae6cc33be8ee1c6": {
     "model_module": "@jupyter-widgets/base",
     "model_name": "LayoutModel",
     "state": {
      "_view_name": "LayoutView",
      "grid_template_rows": null,
      "right": null,
      "justify_content": null,
      "_view_module": "@jupyter-widgets/base",
      "overflow": null,
      "_model_module_version": "1.2.0",
      "_view_count": null,
      "flex_flow": null,
      "width": null,
      "min_width": null,
      "border": null,
      "align_items": null,
      "bottom": null,
      "_model_module": "@jupyter-widgets/base",
      "top": null,
      "grid_column": null,
      "overflow_y": null,
      "overflow_x": null,
      "grid_auto_flow": null,
      "grid_area": null,
      "grid_template_columns": null,
      "flex": null,
      "_model_name": "LayoutModel",
      "justify_items": null,
      "grid_row": null,
      "max_height": null,
      "align_content": null,
      "visibility": null,
      "align_self": null,
      "height": null,
      "min_height": null,
      "padding": null,
      "grid_auto_rows": null,
      "grid_gap": null,
      "max_width": null,
      "order": null,
      "_view_module_version": "1.2.0",
      "grid_template_areas": null,
      "object_position": null,
      "object_fit": null,
      "grid_auto_columns": null,
      "margin": null,
      "display": null,
      "left": null
     }
    },
    "5fa4650a0f8043698d0086dc8d50b423": {
     "model_module": "@jupyter-widgets/controls",
     "model_name": "DescriptionStyleModel",
     "state": {
      "_view_name": "StyleView",
      "_model_name": "DescriptionStyleModel",
      "description_width": "",
      "_view_module": "@jupyter-widgets/base",
      "_model_module_version": "1.5.0",
      "_view_count": null,
      "_view_module_version": "1.2.0",
      "_model_module": "@jupyter-widgets/controls"
     }
    },
    "2e846b33dc344d7dbb78a7027532454d": {
     "model_module": "@jupyter-widgets/base",
     "model_name": "LayoutModel",
     "state": {
      "_view_name": "LayoutView",
      "grid_template_rows": null,
      "right": null,
      "justify_content": null,
      "_view_module": "@jupyter-widgets/base",
      "overflow": null,
      "_model_module_version": "1.2.0",
      "_view_count": null,
      "flex_flow": null,
      "width": null,
      "min_width": null,
      "border": null,
      "align_items": null,
      "bottom": null,
      "_model_module": "@jupyter-widgets/base",
      "top": null,
      "grid_column": null,
      "overflow_y": null,
      "overflow_x": null,
      "grid_auto_flow": null,
      "grid_area": null,
      "grid_template_columns": null,
      "flex": null,
      "_model_name": "LayoutModel",
      "justify_items": null,
      "grid_row": null,
      "max_height": null,
      "align_content": null,
      "visibility": null,
      "align_self": null,
      "height": null,
      "min_height": null,
      "padding": null,
      "grid_auto_rows": null,
      "grid_gap": null,
      "max_width": null,
      "order": null,
      "_view_module_version": "1.2.0",
      "grid_template_areas": null,
      "object_position": null,
      "object_fit": null,
      "grid_auto_columns": null,
      "margin": null,
      "display": null,
      "left": null
     }
    },
    "8d31f2f1116749a881a1ffa5c757adbb": {
     "model_module": "@jupyter-widgets/controls",
     "model_name": "HBoxModel",
     "state": {
      "_view_name": "HBoxView",
      "_dom_classes": [],
      "_model_name": "HBoxModel",
      "_view_module": "@jupyter-widgets/controls",
      "_model_module_version": "1.5.0",
      "_view_count": null,
      "_view_module_version": "1.5.0",
      "box_style": "",
      "layout": "IPY_MODEL_431fde05a37f4f9694cdf8671f73b956",
      "_model_module": "@jupyter-widgets/controls",
      "children": [
       "IPY_MODEL_5bef06a28529425d97e879a2e4768364",
       "IPY_MODEL_51e27d00d294427b9c666d5a8b6edd1a"
      ]
     }
    },
    "431fde05a37f4f9694cdf8671f73b956": {
     "model_module": "@jupyter-widgets/base",
     "model_name": "LayoutModel",
     "state": {
      "_view_name": "LayoutView",
      "grid_template_rows": null,
      "right": null,
      "justify_content": null,
      "_view_module": "@jupyter-widgets/base",
      "overflow": null,
      "_model_module_version": "1.2.0",
      "_view_count": null,
      "flex_flow": null,
      "width": null,
      "min_width": null,
      "border": null,
      "align_items": null,
      "bottom": null,
      "_model_module": "@jupyter-widgets/base",
      "top": null,
      "grid_column": null,
      "overflow_y": null,
      "overflow_x": null,
      "grid_auto_flow": null,
      "grid_area": null,
      "grid_template_columns": null,
      "flex": null,
      "_model_name": "LayoutModel",
      "justify_items": null,
      "grid_row": null,
      "max_height": null,
      "align_content": null,
      "visibility": null,
      "align_self": null,
      "height": null,
      "min_height": null,
      "padding": null,
      "grid_auto_rows": null,
      "grid_gap": null,
      "max_width": null,
      "order": null,
      "_view_module_version": "1.2.0",
      "grid_template_areas": null,
      "object_position": null,
      "object_fit": null,
      "grid_auto_columns": null,
      "margin": null,
      "display": null,
      "left": null
     }
    },
    "5bef06a28529425d97e879a2e4768364": {
     "model_module": "@jupyter-widgets/controls",
     "model_name": "FloatProgressModel",
     "state": {
      "_view_name": "ProgressView",
      "style": "IPY_MODEL_5a4bcf7a44f048629c8f13f5bb528a27",
      "_dom_classes": [],
      "description": "Downloading: 100%",
      "_model_name": "FloatProgressModel",
      "bar_style": "success",
      "max": 542923308,
      "_view_module": "@jupyter-widgets/controls",
      "_model_module_version": "1.5.0",
      "value": 542923308,
      "_view_count": null,
      "_view_module_version": "1.5.0",
      "orientation": "horizontal",
      "min": 0,
      "description_tooltip": null,
      "_model_module": "@jupyter-widgets/controls",
      "layout": "IPY_MODEL_35bf54ba34544860a6f85653a6485e62"
     }
    },
    "51e27d00d294427b9c666d5a8b6edd1a": {
     "model_module": "@jupyter-widgets/controls",
     "model_name": "HTMLModel",
     "state": {
      "_view_name": "HTMLView",
      "style": "IPY_MODEL_de0bd5c3d7664aa781096c06db6f63ff",
      "_dom_classes": [],
      "description": "",
      "_model_name": "HTMLModel",
      "placeholder": "​",
      "_view_module": "@jupyter-widgets/controls",
      "_model_module_version": "1.5.0",
      "value": " 543M/543M [00:39&lt;00:00, 13.7MB/s]",
      "_view_count": null,
      "_view_module_version": "1.5.0",
      "description_tooltip": null,
      "_model_module": "@jupyter-widgets/controls",
      "layout": "IPY_MODEL_a7a52d9a628a4e4c82d9a127d4202a81"
     }
    },
    "5a4bcf7a44f048629c8f13f5bb528a27": {
     "model_module": "@jupyter-widgets/controls",
     "model_name": "ProgressStyleModel",
     "state": {
      "_view_name": "StyleView",
      "_model_name": "ProgressStyleModel",
      "description_width": "initial",
      "_view_module": "@jupyter-widgets/base",
      "_model_module_version": "1.5.0",
      "_view_count": null,
      "_view_module_version": "1.2.0",
      "bar_color": null,
      "_model_module": "@jupyter-widgets/controls"
     }
    },
    "35bf54ba34544860a6f85653a6485e62": {
     "model_module": "@jupyter-widgets/base",
     "model_name": "LayoutModel",
     "state": {
      "_view_name": "LayoutView",
      "grid_template_rows": null,
      "right": null,
      "justify_content": null,
      "_view_module": "@jupyter-widgets/base",
      "overflow": null,
      "_model_module_version": "1.2.0",
      "_view_count": null,
      "flex_flow": null,
      "width": null,
      "min_width": null,
      "border": null,
      "align_items": null,
      "bottom": null,
      "_model_module": "@jupyter-widgets/base",
      "top": null,
      "grid_column": null,
      "overflow_y": null,
      "overflow_x": null,
      "grid_auto_flow": null,
      "grid_area": null,
      "grid_template_columns": null,
      "flex": null,
      "_model_name": "LayoutModel",
      "justify_items": null,
      "grid_row": null,
      "max_height": null,
      "align_content": null,
      "visibility": null,
      "align_self": null,
      "height": null,
      "min_height": null,
      "padding": null,
      "grid_auto_rows": null,
      "grid_gap": null,
      "max_width": null,
      "order": null,
      "_view_module_version": "1.2.0",
      "grid_template_areas": null,
      "object_position": null,
      "object_fit": null,
      "grid_auto_columns": null,
      "margin": null,
      "display": null,
      "left": null
     }
    },
    "de0bd5c3d7664aa781096c06db6f63ff": {
     "model_module": "@jupyter-widgets/controls",
     "model_name": "DescriptionStyleModel",
     "state": {
      "_view_name": "StyleView",
      "_model_name": "DescriptionStyleModel",
      "description_width": "",
      "_view_module": "@jupyter-widgets/base",
      "_model_module_version": "1.5.0",
      "_view_count": null,
      "_view_module_version": "1.2.0",
      "_model_module": "@jupyter-widgets/controls"
     }
    },
    "a7a52d9a628a4e4c82d9a127d4202a81": {
     "model_module": "@jupyter-widgets/base",
     "model_name": "LayoutModel",
     "state": {
      "_view_name": "LayoutView",
      "grid_template_rows": null,
      "right": null,
      "justify_content": null,
      "_view_module": "@jupyter-widgets/base",
      "overflow": null,
      "_model_module_version": "1.2.0",
      "_view_count": null,
      "flex_flow": null,
      "width": null,
      "min_width": null,
      "border": null,
      "align_items": null,
      "bottom": null,
      "_model_module": "@jupyter-widgets/base",
      "top": null,
      "grid_column": null,
      "overflow_y": null,
      "overflow_x": null,
      "grid_auto_flow": null,
      "grid_area": null,
      "grid_template_columns": null,
      "flex": null,
      "_model_name": "LayoutModel",
      "justify_items": null,
      "grid_row": null,
      "max_height": null,
      "align_content": null,
      "visibility": null,
      "align_self": null,
      "height": null,
      "min_height": null,
      "padding": null,
      "grid_auto_rows": null,
      "grid_gap": null,
      "max_width": null,
      "order": null,
      "_view_module_version": "1.2.0",
      "grid_template_areas": null,
      "object_position": null,
      "object_fit": null,
      "grid_auto_columns": null,
      "margin": null,
      "display": null,
      "left": null
     }
    }
   }
  }
 },
 "cells": [
  {
   "cell_type": "code",
   "metadata": {
    "id": "HrDda5BlmYDu",
    "colab": {
     "base_uri": "https://localhost:8080/"
    },
    "outputId": "7d7c4c43-02cb-4316-c1b1-45ff95492257"
   },
   "source": [
    "!nvidia-smi"
   ],
   "execution_count": 1,
   "outputs": [
    {
     "output_type": "stream",
     "text": [
      "Tue Dec 29 02:20:20 2020       \n",
      "+-----------------------------------------------------------------------------+\n",
      "| NVIDIA-SMI 460.27.04    Driver Version: 418.67       CUDA Version: 10.1     |\n",
      "|-------------------------------+----------------------+----------------------+\n",
      "| GPU  Name        Persistence-M| Bus-Id        Disp.A | Volatile Uncorr. ECC |\n",
      "| Fan  Temp  Perf  Pwr:Usage/Cap|         Memory-Usage | GPU-Util  Compute M. |\n",
      "|                               |                      |               MIG M. |\n",
      "|===============================+======================+======================|\n",
      "|   0  Tesla V100-SXM2...  Off  | 00000000:00:04.0 Off |                    0 |\n",
      "| N/A   36C    P0    25W / 300W |      0MiB / 16130MiB |      0%      Default |\n",
      "|                               |                      |                 ERR! |\n",
      "+-------------------------------+----------------------+----------------------+\n",
      "                                                                               \n",
      "+-----------------------------------------------------------------------------+\n",
      "| Processes:                                                                  |\n",
      "|  GPU   GI   CI        PID   Type   Process name                  GPU Memory |\n",
      "|        ID   ID                                                   Usage      |\n",
      "|=============================================================================|\n",
      "|  No running processes found                                                 |\n",
      "+-----------------------------------------------------------------------------+\n"
     ],
     "name": "stdout"
    }
   ]
  },
  {
   "cell_type": "code",
   "metadata": {
    "id": "ICOZTHPfmRSb"
   },
   "source": [
    "!wget -O data.zip https://husteduvn-my.sharepoint.com/:u:/g/personal/thanh_lt163705_sis_hust_edu_vn/EfZ-d1e94lJIu95YakpVO8gBBtQ5r77m16bNkzcI0lUI_g?download=1\n",
    "!unzip data.zip"
   ],
   "execution_count": null,
   "outputs": []
  },
  {
   "cell_type": "code",
   "metadata": {
    "id": "c151E_k2mhV5"
   },
   "source": [
    "!pip install -r requirements.txt"
   ],
   "execution_count": null,
   "outputs": []
  },
  {
   "cell_type": "code",
   "metadata": {
    "id": "dqoEgRJVtwkj"
   },
   "source": [
    "!pip install fastai --upgrade"
   ],
   "execution_count": null,
   "outputs": []
  },
  {
   "cell_type": "code",
   "metadata": {
    "id": "4hSEYMRbC5Ff",
    "colab": {
     "base_uri": "https://localhost:8080/"
    },
    "outputId": "a9974f90-e76d-44c3-e874-55ee292ca9f6"
   },
   "source": [
    "from google.colab import drive\n",
    "drive.mount('/content/drive')"
   ],
   "execution_count": 36,
   "outputs": [
    {
     "output_type": "stream",
     "text": [
      "Mounted at /content/drive\n"
     ],
     "name": "stdout"
    }
   ]
  },
  {
   "cell_type": "code",
   "metadata": {
    "id": "MTiXZTr0mOPd",
    "pycharm": {
     "name": "#%%\n"
    }
   },
   "source": [
    "import torch\n",
    "import torch.nn as nn\n",
    "from fastai.text.all import (\n",
    "    L, params, Path, partial, pad_input,\n",
    "    tensor, TitledStr, TensorCategory, Category,\n",
    "    Transform, AttrGetter, Pipeline, ItemGetter,\n",
    "    Datasets,\n",
    "    Categorize, CategoryMap,\n",
    "    RandomSplitter,\n",
    "    Learner,\n",
    "    accuracy, F1Score, Recall,\n",
    "    Adam, LabelSmoothingCrossEntropy,\n",
    "    ShowGraphCallback, Callback, Metric,\n",
    ")\n",
    "from transformers import (\n",
    "    PhobertTokenizer, RobertaModel, RobertaConfig,\n",
    "    AutoModel, AutoConfig, AutoTokenizer,\n",
    ")\n",
    "import random\n",
    "import numpy as np\n",
    "import re\n",
    "from typing import *\n",
    "from collections import defaultdict\n",
    "import logging\n",
    "from torchcrf import CRF\n",
    "from conlleval import evaluate\n",
    "import warnings\n",
    "warnings.filterwarnings(\"ignore\")"
   ],
   "execution_count": 5,
   "outputs": []
  },
  {
   "cell_type": "markdown",
   "metadata": {
    "collapsed": false,
    "pycharm": {
     "name": "#%% md\n"
    },
    "id": "G-suz99ZmOPi"
   },
   "source": [
    "# Config logging"
   ]
  },
  {
   "cell_type": "code",
   "metadata": {
    "id": "vwDt_HUgm_eT"
   },
   "source": [
    "!mkdir log"
   ],
   "execution_count": 8,
   "outputs": []
  },
  {
   "cell_type": "code",
   "metadata": {
    "pycharm": {
     "name": "#%%\n"
    },
    "id": "1sNAem56mOPi"
   },
   "source": [
    "logging.basicConfig(\n",
    "    level=logging.DEBUG,\n",
    "    filename='log/bert_ner.log',\n",
    "    filemode='a',\n",
    "    format='%(asctime)s - %(name)s - %(levelname)s - %(message)s',\n",
    "    datefmt='%d-%b-%y %H:%M:%S',\n",
    ")\n"
   ],
   "execution_count": 9,
   "outputs": []
  },
  {
   "cell_type": "markdown",
   "metadata": {
    "collapsed": false,
    "pycharm": {
     "name": "#%% md\n"
    },
    "id": "5GGjoEJimOPm"
   },
   "source": [
    "# Utils"
   ]
  },
  {
   "cell_type": "markdown",
   "metadata": {
    "collapsed": false,
    "pycharm": {
     "name": "#%% md\n"
    },
    "id": "_98IL2ctmOPm"
   },
   "source": [
    "## Seed all"
   ]
  },
  {
   "cell_type": "code",
   "metadata": {
    "pycharm": {
     "name": "#%%\n"
    },
    "id": "BV3ebQi_mOPo"
   },
   "source": [
    "def seed_all(seed_value):\n",
    "    random.seed(seed_value)\n",
    "    np.random.seed(seed_value)\n",
    "    torch.manual_seed(seed_value)\n",
    "\n",
    "    if torch.cuda.is_available():\n",
    "        torch.cuda.manual_seed(seed_value)\n",
    "        torch.cuda.manual_seed_all(seed_value)\n",
    "        torch.backends.cudnn.deterministic = True\n",
    "        torch.backends.cudnn.benchmark = False"
   ],
   "execution_count": 10,
   "outputs": []
  },
  {
   "cell_type": "code",
   "metadata": {
    "id": "PPjMOpTdnD8h",
    "pycharm": {
     "name": "#%%\n"
    }
   },
   "source": [
    "seed_all(42)"
   ],
   "execution_count": 11,
   "outputs": []
  },
  {
   "cell_type": "markdown",
   "metadata": {
    "collapsed": false,
    "pycharm": {
     "name": "#%% md\n"
    },
    "id": "WqWPguWDmOPr"
   },
   "source": [
    "## Config class"
   ]
  },
  {
   "cell_type": "code",
   "metadata": {
    "pycharm": {
     "name": "#%%\n"
    },
    "id": "SfqiSVTBmOPr"
   },
   "source": [
    "class Config:\n",
    "    def __init__(self, *args, **kwargs):\n",
    "        for k, v in kwargs.items():\n",
    "            self.__setattr__(k, v)"
   ],
   "execution_count": 12,
   "outputs": []
  },
  {
   "cell_type": "markdown",
   "metadata": {
    "collapsed": false,
    "pycharm": {
     "name": "#%% md\n"
    },
    "id": "MgijwFwamOPu"
   },
   "source": [
    "# Load data"
   ]
  },
  {
   "cell_type": "markdown",
   "metadata": {
    "collapsed": false,
    "pycharm": {
     "name": "#%% md\n"
    },
    "id": "Buf42Xp0mOPu"
   },
   "source": [
    "## Read data from text file"
   ]
  },
  {
   "cell_type": "code",
   "metadata": {
    "pycharm": {
     "name": "#%%\n"
    },
    "id": "gvVR0WDRmOPv"
   },
   "source": [
    "def read_data(fn: Union[str, Path]):\n",
    "    with open(fn, mode='r', encoding='utf8') as f:\n",
    "        txt = f.read()\n",
    "\n",
    "    results = L()\n",
    "    sentences = re.split(r'\\n\\n', txt)\n",
    "    for sentence in sentences:\n",
    "        lines = sentence.split('\\n')\n",
    "        words, pos, chunk, labels = zip(*[re.split('\\t', line.strip()) for line in lines])\n",
    "\n",
    "        words = L(re.sub(r' ', '_', w) for w in words)\n",
    "        labels = list(labels)\n",
    "\n",
    "        results.append((words, L(pos), L(chunk), L(labels)))\n",
    "\n",
    "    return results"
   ],
   "execution_count": 13,
   "outputs": []
  },
  {
   "cell_type": "markdown",
   "metadata": {
    "collapsed": false,
    "pycharm": {
     "name": "#%% md\n"
    },
    "id": "QlO1F3jSmOPx"
   },
   "source": [
    "### Test read data"
   ]
  },
  {
   "cell_type": "code",
   "metadata": {
    "pycharm": {
     "name": "#%%\n"
    },
    "id": "epo14IvumOPx",
    "colab": {
     "base_uri": "https://localhost:8080/"
    },
    "outputId": "7f45a511-f8c6-4acb-a824-c4029bfaeb9e"
   },
   "source": [
    "# test_data = read_data('data/raw/test.txt')\n",
    "# test_data[0]"
   ],
   "execution_count": null,
   "outputs": [
    {
     "output_type": "execute_result",
     "data": {
      "text/plain": [
       "((#28) ['Chị','Minh','ôm','đứa','con_gái','mới','hơn','hai','tháng','rưỡi'...],\n",
       " (#28) ['Nc','Np','V','Nc','N','R','A','M','N','M'...],\n",
       " (#28) ['B-NP','B-NP','B-VP','B-NP','B-NP','O','B-AP','B-NP','B-NP','B-NP'...],\n",
       " (#28) ['O','B-PER','O','O','O','O','O','O','O','O'...])"
      ]
     },
     "metadata": {
      "tags": []
     },
     "execution_count": 29
    }
   ]
  },
  {
   "cell_type": "markdown",
   "metadata": {
    "collapsed": false,
    "pycharm": {
     "name": "#%% md\n"
    },
    "id": "om7xw7L5mOP0"
   },
   "source": [
    "## Process data"
   ]
  },
  {
   "cell_type": "markdown",
   "metadata": {
    "collapsed": false,
    "pycharm": {
     "name": "#%% md\n"
    },
    "id": "4wsiuBn0mOP9"
   },
   "source": [
    "### Words transform"
   ]
  },
  {
   "cell_type": "code",
   "metadata": {
    "pycharm": {
     "name": "#%%\n"
    },
    "id": "6xxe1uIYmOP9"
   },
   "source": [
    "class WordTransform(Transform):\n",
    "    def __init__(self, tokenizer: PhobertTokenizer):\n",
    "        super(WordTransform, self).__init__()\n",
    "        self.tokenizer = tokenizer\n",
    "        self._i2pos, self._i2chunk = None, None\n",
    "        self._pos2i, self._chunk2i = defaultdict(int), defaultdict(int)\n",
    "\n",
    "    def setups(self, items):\n",
    "        all_pos, all_chunk = [], []\n",
    "        for item in items:\n",
    "            all_pos.extend(list(item[0][1]))\n",
    "            all_chunk.extend(list(item[0][2]))\n",
    "\n",
    "        pos = sorted(list(set(all_pos)))\n",
    "        chunk = sorted(list(set(all_chunk)))\n",
    "\n",
    "        self._i2pos, self._i2chunk = pos, chunk\n",
    "        self._pos2i = {p: i for i, p in enumerate(pos)}\n",
    "        self._chunk2i = {c: i for i, c in enumerate(chunk)}\n",
    "\n",
    "    def encodes(self, x):\n",
    "        words, pos, chunk = x\n",
    "\n",
    "        # process word\n",
    "        tokens = []\n",
    "        len_words = []\n",
    "        for word in words:\n",
    "            w_tokens = self.tokenizer.tokenize(word)\n",
    "            tokens.append(w_tokens)\n",
    "            len_words.append(len(w_tokens))\n",
    "\n",
    "        n_words = len(np.where(np.cumsum(len_words) <= (self.tokenizer.max_len_single_sentence - 2))[0])\n",
    "\n",
    "        tokens = [self.tokenizer.cls_token, *(sum(tokens[:n_words], [])), self.tokenizer.sep_token]\n",
    "        token_ids = self.tokenizer.convert_tokens_to_ids(tokens)\n",
    "\n",
    "        # process pos and chunk\n",
    "        pos = [self._pos2i[p] for p in pos[:n_words]]\n",
    "        chunk = [self._chunk2i[c] for c in chunk[:n_words]]\n",
    "        return {\n",
    "            'token_ids': token_ids,\n",
    "            'n_words': n_words,\n",
    "            'len_words': tensor(len_words),\n",
    "            'pos': tensor(pos),\n",
    "            'chunk': tensor(chunk),\n",
    "        }\n",
    "\n",
    "    def decodes(self, x):\n",
    "        token_ids = x['token_ids']\n",
    "        return TitledStr(self.tokenizer.decode(token_ids))"
   ],
   "execution_count": 14,
   "outputs": []
  },
  {
   "cell_type": "code",
   "metadata": {
    "pycharm": {
     "name": "#%%\n"
    },
    "id": "T6BwsZWLmOP_"
   },
   "source": [
    "class WordTransformV2(Transform):\n",
    "    def __init__(self, tokenizer: PhobertTokenizer):\n",
    "        super(WordTransformV2, self).__init__()\n",
    "        self.tokenizer = tokenizer\n",
    "\n",
    "    def encodes(self, x):\n",
    "        words = x\n",
    "\n",
    "        # process word\n",
    "        tokens = []\n",
    "        len_words = []\n",
    "        for word in words:\n",
    "            w_tokens = self.tokenizer.tokenize(word)\n",
    "            tokens.append(w_tokens)\n",
    "            len_words.append(len(w_tokens))\n",
    "\n",
    "        n_words = len(np.where(np.cumsum(len_words) <= (self.tokenizer.max_len_single_sentence - 2))[0])\n",
    "\n",
    "        tokens = [self.tokenizer.cls_token, *(sum(tokens[:n_words], [])), self.tokenizer.sep_token]\n",
    "        token_ids = self.tokenizer.convert_tokens_to_ids(tokens)\n",
    "\n",
    "        return {\n",
    "            'token_ids': torch.tensor(token_ids, dtype=torch.long),\n",
    "            'n_words': n_words,\n",
    "            'len_words': tensor(len_words),\n",
    "        }\n",
    "\n",
    "    def decodes(self, x):\n",
    "        token_ids = x['token_ids']\n",
    "        return TitledStr(self.tokenizer.decode(token_ids))"
   ],
   "execution_count": 15,
   "outputs": []
  },
  {
   "cell_type": "markdown",
   "metadata": {
    "collapsed": false,
    "pycharm": {
     "name": "#%% md\n"
    },
    "id": "jJxxNxH8mOQB"
   },
   "source": [
    "#### Test words transform"
   ]
  },
  {
   "cell_type": "code",
   "metadata": {
    "pycharm": {
     "name": "#%%\n"
    },
    "id": "j22qMYTsmOQC",
    "colab": {
     "base_uri": "https://localhost:8080/"
    },
    "outputId": "14ed7790-3b39-43cd-ed9b-fcba0c9b0a92"
   },
   "source": [
    "test_data = read_data('data/raw/test.txt')\n",
    "train_data = read_data('data/raw/train.txt')\n",
    "test_data[0][0]"
   ],
   "execution_count": null,
   "outputs": [
    {
     "output_type": "execute_result",
     "data": {
      "text/plain": [
       "(#28) ['Chị','Minh','ôm','đứa','con_gái','mới','hơn','hai','tháng','rưỡi'...]"
      ]
     },
     "metadata": {
      "tags": []
     },
     "execution_count": 9
    }
   ]
  },
  {
   "cell_type": "code",
   "metadata": {
    "pycharm": {
     "name": "#%%\n"
    },
    "id": "237v9jCSmOQE",
    "colab": {
     "base_uri": "https://localhost:8080/"
    },
    "outputId": "8fc28a80-396f-4914-adc8-5e742c97a0ce"
   },
   "source": [
    "tokenizer = PhobertTokenizer.from_pretrained('vinai/phobert-base')\n",
    "tfms = Pipeline([WordTransformV2(tokenizer=tokenizer)])\n",
    "tfms(test_data[0][0])"
   ],
   "execution_count": null,
   "outputs": [
    {
     "output_type": "stream",
     "text": [
      "Special tokens have been added in the vocabulary, make sure the associated word embedding are fine-tuned or trained.\n"
     ],
     "name": "stderr"
    },
    {
     "output_type": "execute_result",
     "data": {
      "text/plain": [
       "{'len_words': tensor([1, 1, 1, 1, 2, 1, 1, 1, 1, 1, 1, 1, 1, 1, 1, 1, 1, 1, 1, 1, 1, 1, 1, 1,\n",
       "         1, 1, 1, 1]),\n",
       " 'n_words': 28,\n",
       " 'token_ids': tensor([    0,  1108,  1612,  1896,   802,  9443,   238,    60,    48,    82,\n",
       "            78,  7164,   126, 13098,    72,   150,   355, 29618,    26,   337,\n",
       "            44,    13,   283,   523,    28,   224,   366,     7,   327,     5,\n",
       "             2])}"
      ]
     },
     "metadata": {
      "tags": []
     },
     "execution_count": 10
    }
   ]
  },
  {
   "cell_type": "markdown",
   "metadata": {
    "collapsed": false,
    "pycharm": {
     "name": "#%% md\n"
    },
    "id": "D2Bx4k3PmOQH"
   },
   "source": [
    "### Categorize List"
   ]
  },
  {
   "cell_type": "code",
   "metadata": {
    "pycharm": {
     "name": "#%%\n"
    },
    "id": "f3_V-AHkmOQI"
   },
   "source": [
    "class CategorizeList(Categorize):\n",
    "    def __init__(self, vocab=None, add_na=False, pad='[pad]'):\n",
    "        super(CategorizeList, self).__init__(vocab=vocab, add_na=add_na)\n",
    "        self.pad = pad\n",
    "\n",
    "    @property\n",
    "    def pad_idx(self):\n",
    "        return self.vocab.o2i[self.pad]\n",
    "\n",
    "    def setups(self, dsets):\n",
    "        dsets = sum(dsets, L())\n",
    "        dsets.append(self.pad)\n",
    "        super(CategorizeList, self).setups(dsets=dsets)\n",
    "\n",
    "    def encodes(self, os):\n",
    "        return TensorCategory([self.vocab.o2i[o] for o in os])\n",
    "\n",
    "    def decodes(self, os):\n",
    "        return Category(' '.join([self.vocab[o] for o in os]))"
   ],
   "execution_count": 16,
   "outputs": []
  },
  {
   "cell_type": "markdown",
   "metadata": {
    "collapsed": false,
    "pycharm": {
     "name": "#%% md\n"
    },
    "id": "UUBZV_7lmOQN"
   },
   "source": [
    "### Before batch transform"
   ]
  },
  {
   "cell_type": "code",
   "metadata": {
    "pycharm": {
     "name": "#%%\n"
    },
    "id": "MjwbxmU0mOQN"
   },
   "source": [
    "class BeforeBatch(Transform):\n",
    "    \"\"\"\n",
    "    - First: alignment pos, chunk, labels with number of used words\n",
    "        -> (#6) (token_ids, pos, chunk, n_words, len_words, labels) (is aligned)\n",
    "    - Second: Pad token_ids, pos, chunk, len_words (pad=0), labels\n",
    "        => (#6) (token_ids, pos, chunk, n_words, len_words, labels) (is padded)\n",
    "    \"\"\"\n",
    "    def __init__(self, pad_idxs: list, pad_fields: list, pad_firsts: list, use_pos_chunk=True):\n",
    "        assert len(pad_idxs) == len(pad_firsts) == len(pad_fields), f'not {len(pad_idxs)} == {len(pad_firsts)} == {len(pad_fields)}'\n",
    "        super(BeforeBatch, self).__init__()\n",
    "        self._pad_funcs = [\n",
    "            partial(pad_input, pad_idx=pad_idx, pad_fields=pad_field, pad_first=pad_first)\n",
    "            for pad_idx, pad_field, pad_first in zip(pad_idxs, pad_fields, pad_firsts)\n",
    "        ]\n",
    "        self._pad_funcs.append(partial(\n",
    "            pad_input, pad_idx=0, pad_fields=4 if use_pos_chunk else 2, pad_first=False,\n",
    "        ))\n",
    "        self._use_pos_chunk = use_pos_chunk\n",
    "\n",
    "    def encodes(self, items):\n",
    "        items = self.align(items, use_pos_chunk=self._use_pos_chunk)\n",
    "        for pad_func in self._pad_funcs:\n",
    "            items = pad_func(items)\n",
    "            \n",
    "        return items\n",
    "\n",
    "    @staticmethod\n",
    "    def align(items, use_pos_chunk):\n",
    "        new_items = L()\n",
    "        for w, *pos_chunk, labels in items:\n",
    "            token_ids = w['token_ids']\n",
    "            n_words = w['n_words']\n",
    "            len_words = w['len_words']\n",
    "            \n",
    "            if use_pos_chunk:\n",
    "                pos, chunk = pos_chunk\n",
    "                pos = pos[:n_words]\n",
    "                chunk = chunk[:n_words]\n",
    "                pos_chunk = [pos, chunk]\n",
    "\n",
    "            labels = labels[:n_words]\n",
    "            new_items.append((torch.tensor(token_ids, dtype=torch.long), *pos_chunk, n_words, len_words, labels))\n",
    "        return new_items\n"
   ],
   "execution_count": 17,
   "outputs": []
  },
  {
   "cell_type": "markdown",
   "metadata": {
    "collapsed": false,
    "pycharm": {
     "name": "#%% md\n"
    },
    "id": "4M0c0wF4mOQP"
   },
   "source": [
    "### Test create dataloader"
   ]
  },
  {
   "cell_type": "markdown",
   "metadata": {
    "collapsed": false,
    "pycharm": {
     "name": "#%% md\n"
    },
    "id": "ng_lgybdmOQQ"
   },
   "source": [
    "#### Create datasets"
   ]
  },
  {
   "cell_type": "code",
   "metadata": {
    "pycharm": {
     "name": "#%%\n"
    },
    "id": "uNjXF6VTmOQQ"
   },
   "source": [
    "w_tfms = [ItemGetter(0), WordTransformV2(tokenizer)]\n",
    "pos_tfms = [ItemGetter(1), CategorizeList(pad='[pad_p]')]\n",
    "chunk_tfms = [ItemGetter(2), CategorizeList(pad='[pad_c]')]\n",
    "y_tfms = [ItemGetter(3), CategorizeList(pad='[pad_l]')]\n",
    "ds = Datasets(\n",
    "    train_data,\n",
    "    tfms=[w_tfms, pos_tfms, chunk_tfms, y_tfms],\n",
    ")"
   ],
   "execution_count": null,
   "outputs": []
  },
  {
   "cell_type": "code",
   "metadata": {
    "pycharm": {
     "name": "#%%\n"
    },
    "id": "Jvu9XyjnmOQT",
    "colab": {
     "base_uri": "https://localhost:8080/"
    },
    "outputId": "19695474-454f-407e-9758-8989804b0777"
   },
   "source": [
    "ds.show(ds[0])"
   ],
   "execution_count": null,
   "outputs": [
    {
     "output_type": "stream",
     "text": [
      "<s> Đó là con đường biển ngắn nhất để đi từ Ấn_Độ_Dương sang Thái_Bình_Dương, chiếm đến lượng hàng_hoá lưu_thông đường_biển của thế_giới, đó là hải_trình lớn nhất từ tây sang đông với 50.000 lượt tàu_bè qua_lại mỗi năm... </s>\n",
      "P V Nc N N A A E V E Np V Np CH V E N N V N E N CH P V N A R E N V N E M Nc N V L N CH\n",
      "B-NP B-VP B-NP B-NP B-NP B-AP B-AP B-PP B-VP B-PP B-NP B-VP B-NP O B-VP B-PP B-NP B-NP B-VP B-NP B-PP B-NP O B-NP B-VP B-NP B-AP O B-PP B-NP B-VP B-NP B-PP B-NP B-NP B-NP B-VP B-NP B-NP O\n",
      "O O O O O O O O O O B-LOC O B-LOC O O O O O O O O O O O O O O O O O O O O O O O O O O O\n"
     ],
     "name": "stdout"
    }
   ]
  },
  {
   "cell_type": "code",
   "metadata": {
    "pycharm": {
     "name": "#%%\n"
    },
    "id": "gBapOa8dmOQW",
    "colab": {
     "base_uri": "https://localhost:8080/"
    },
    "outputId": "8ce9ea12-285e-47a9-b458-0391f9dd4a9c"
   },
   "source": [
    "ds[0]"
   ],
   "execution_count": null,
   "outputs": [
    {
     "output_type": "execute_result",
     "data": {
      "text/plain": [
       "({'len_words': tensor([1, 1, 1, 1, 1, 1, 1, 1, 1, 1, 1, 1, 1, 1, 1, 1, 1, 1, 1, 1, 1, 1, 1, 1,\n",
       "          1, 1, 1, 1, 1, 1, 1, 1, 1, 1, 1, 1, 1, 1, 1, 1]),\n",
       "  'n_words': 40,\n",
       "  'token_ids': tensor([    0,   669,     8,    73,   109,   262,  1131,    67,    24,    57,\n",
       "             39, 10148,   295,  2832,     4,   724,    30,   525,  1075,  2227,\n",
       "          12033,     7,   198,     4,    37,     8, 31425,   103,    67,    39,\n",
       "           2615,   295,   553,    15,  3976,  1030, 30254,  4457,   205,    29,\n",
       "            135,     2])},\n",
       " TensorCategory([13, 16,  9,  8,  8,  0,  0,  3, 16,  3, 10, 16, 10,  2, 16,  3,  8,  8,\n",
       "         16,  8,  3,  8,  2, 13, 16,  8,  0, 14,  3,  8, 16,  8,  3,  7,  9,  8,\n",
       "         16,  6,  8,  2]),\n",
       " TensorCategory([1, 3, 1, 1, 1, 0, 0, 2, 3, 2, 1, 3, 1, 7, 3, 2, 1, 1, 3, 1, 2, 1, 7, 1,\n",
       "         3, 1, 0, 7, 2, 1, 3, 1, 2, 1, 1, 1, 3, 1, 1, 7]),\n",
       " TensorCategory([8, 8, 8, 8, 8, 8, 8, 8, 8, 8, 0, 8, 0, 8, 8, 8, 8, 8, 8, 8, 8, 8, 8, 8,\n",
       "         8, 8, 8, 8, 8, 8, 8, 8, 8, 8, 8, 8, 8, 8, 8, 8]))"
      ]
     },
     "metadata": {
      "tags": []
     },
     "execution_count": 15
    }
   ]
  },
  {
   "cell_type": "code",
   "metadata": {
    "pycharm": {
     "name": "#%%\n"
    },
    "id": "Jmdbo8mhmOQZ"
   },
   "source": [
    "# pos_tfms[-1].pad_idx, chunk_tfms[-1].pad_idx, y_tfms[-1].pad_idx"
   ],
   "execution_count": null,
   "outputs": []
  },
  {
   "cell_type": "markdown",
   "metadata": {
    "collapsed": false,
    "pycharm": {
     "name": "#%% md\n"
    },
    "id": "lucYx8_BmOQc"
   },
   "source": [
    "#### Create dataloaders"
   ]
  },
  {
   "cell_type": "code",
   "metadata": {
    "pycharm": {
     "name": "#%%\n"
    },
    "id": "z8bcr02NmOQc",
    "colab": {
     "base_uri": "https://localhost:8080/"
    },
    "outputId": "adbeedf3-1907-491c-fe5c-d879dc347fc9"
   },
   "source": [
    "dl = ds.dataloaders(\n",
    "    bs=10,\n",
    "    before_batch=BeforeBatch(\n",
    "        pad_idxs=[w_tfms[-1].tokenizer.pad_token_id, pos_tfms[-1].pad_idx, chunk_tfms[-1].pad_idx, y_tfms[-1].pad_idx],\n",
    "        pad_fields=[0, 1, 2, 5],\n",
    "        pad_firsts=[False] * 4,\n",
    "    ),\n",
    "    n_inp=5,\n",
    "    verbose=True,\n",
    ")"
   ],
   "execution_count": null,
   "outputs": [
    {
     "output_type": "stream",
     "text": [
      "Setting up after_item: Pipeline: \n",
      "Setting up before_batch: Pipeline: BeforeBatch\n",
      "Setting up after_batch: Pipeline: \n"
     ],
     "name": "stdout"
    },
    {
     "output_type": "stream",
     "text": [
      "/usr/local/lib/python3.6/dist-packages/ipykernel_launcher.py:42: UserWarning: To copy construct from a tensor, it is recommended to use sourceTensor.clone().detach() or sourceTensor.clone().detach().requires_grad_(True), rather than torch.tensor(sourceTensor).\n"
     ],
     "name": "stderr"
    }
   ]
  },
  {
   "cell_type": "code",
   "metadata": {
    "pycharm": {
     "name": "#%%\n"
    },
    "id": "_4DE_QRcmOQe",
    "colab": {
     "base_uri": "https://localhost:8080/"
    },
    "outputId": "fe2ece29-0de3-4677-9369-b040cc6da656"
   },
   "source": [
    "token_ids, pos, chunk, n_words, len_words, labels = dl.one_batch()"
   ],
   "execution_count": null,
   "outputs": [
    {
     "output_type": "stream",
     "text": [
      "/usr/local/lib/python3.6/dist-packages/ipykernel_launcher.py:42: UserWarning: To copy construct from a tensor, it is recommended to use sourceTensor.clone().detach() or sourceTensor.clone().detach().requires_grad_(True), rather than torch.tensor(sourceTensor).\n"
     ],
     "name": "stderr"
    }
   ]
  },
  {
   "cell_type": "code",
   "metadata": {
    "pycharm": {
     "name": "#%%\n"
    },
    "id": "4RB17YkymOQg",
    "colab": {
     "base_uri": "https://localhost:8080/"
    },
    "outputId": "55a52ad3-88c6-45f7-8e02-120b81dc4a3a"
   },
   "source": [
    "for t in dl.one_batch():\n",
    "    print(t.size())"
   ],
   "execution_count": null,
   "outputs": [
    {
     "output_type": "stream",
     "text": [
      "torch.Size([10, 88])\n",
      "(10, 85)\n",
      "(10, 85)\n",
      "(10,)\n",
      "torch.Size([10, 85])\n",
      "(10, 85)\n"
     ],
     "name": "stdout"
    },
    {
     "output_type": "stream",
     "text": [
      "/usr/local/lib/python3.6/dist-packages/ipykernel_launcher.py:42: UserWarning: To copy construct from a tensor, it is recommended to use sourceTensor.clone().detach() or sourceTensor.clone().detach().requires_grad_(True), rather than torch.tensor(sourceTensor).\n"
     ],
     "name": "stderr"
    }
   ]
  },
  {
   "cell_type": "markdown",
   "metadata": {
    "collapsed": false,
    "pycharm": {
     "name": "#%% md\n"
    },
    "id": "vZYYSocrmOQj"
   },
   "source": [
    "# Models"
   ]
  },
  {
   "cell_type": "markdown",
   "metadata": {
    "collapsed": false,
    "pycharm": {
     "name": "#%% md\n"
    },
    "id": "CAqpO1GGmOQj"
   },
   "source": [
    "## Head"
   ]
  },
  {
   "cell_type": "code",
   "metadata": {
    "pycharm": {
     "name": "#%%\n"
    },
    "id": "hCeX21mrmOQk"
   },
   "source": [
    "class RobertaNERHead(nn.Module):\n",
    "    def __init__(self, n_labels, input_size, hidden_size, use_crf=True, p_dropout=0.):\n",
    "        super(RobertaNERHead, self).__init__()\n",
    "        self.lstm = nn.LSTM(\n",
    "            input_size=input_size,\n",
    "            hidden_size=hidden_size,\n",
    "            bidirectional=True,\n",
    "            batch_first=True,\n",
    "        )\n",
    "        # self.hidden2tag = self._get_hidden2tag([*hidden_sizes, n_labels], p_dropout)\n",
    "        self.hidden2tag = self.get_linear(in_features=hidden_size * 2, out_features=n_labels)\n",
    "\n",
    "        self.use_crf = use_crf\n",
    "        if use_crf:\n",
    "            self.crf = CRF(num_tags=n_labels, batch_first=True)\n",
    "            self._forward_return = self._crf_return\n",
    "        else:\n",
    "            self._forward_return = self._norm_return\n",
    "\n",
    "    def forward(self, *x):\n",
    "        toks, mask = x\n",
    "        toks, _ = self.lstm(toks)\n",
    "        toks = self.hidden2tag(toks)\n",
    "        return self._forward_return(toks, mask)\n",
    "\n",
    "    def _norm_return(self, toks, mask):\n",
    "        return toks\n",
    "\n",
    "    def _crf_return(self, toks, mask):\n",
    "        if self.training:\n",
    "            return toks, mask\n",
    "        return toks, mask, self.crf.decode(toks, mask)\n",
    "    \n",
    "    def _get_hidden2tag(self, hidden_sizes, p_dropout):\n",
    "        layers = []\n",
    "\n",
    "        for i in range(len(hidden_sizes) - 1):\n",
    "            if i != 0:\n",
    "                layers.append(nn.Tanh())\n",
    "                layers.append(nn.Dropout(p=p_dropout))\n",
    "            layers.append(self.get_linear(hidden_sizes[i], hidden_sizes[i + 1]))\n",
    "        \n",
    "        return nn.Sequential(*layers)\n",
    "\n",
    "    @staticmethod\n",
    "    def get_linear(in_features, out_features, init_type='xavier'):\n",
    "        l = nn.Linear(\n",
    "            in_features=in_features,\n",
    "            out_features=out_features,\n",
    "            bias=True\n",
    "        )\n",
    "        if init_type == 'xavier':\n",
    "            torch.nn.init.xavier_normal_(l.weight.data)\n",
    "            # torch.nn.init.xavier_normal_(l.bias.data)\n",
    "        elif init_type == 'kaiming':\n",
    "            torch.nn.init.kaiming_normal_(l.weight.data)\n",
    "            # torch.nn.init.kaiming_normal_(l.bias.data)\n",
    "        return l"
   ],
   "execution_count": 18,
   "outputs": []
  },
  {
   "cell_type": "markdown",
   "metadata": {
    "collapsed": false,
    "pycharm": {
     "name": "#%% md\n"
    },
    "id": "cm745_tumOQn"
   },
   "source": [
    "## Entire model\n"
   ]
  },
  {
   "cell_type": "code",
   "metadata": {
    "pycharm": {
     "name": "#%%\n"
    },
    "id": "MdsdXaR1mOQn"
   },
   "source": [
    "class RobertaNER(nn.Module):\n",
    "    def __init__(\n",
    "            self,\n",
    "            roberta_model: RobertaModel,\n",
    "            roberta_config: RobertaConfig,\n",
    "            n_tags: int,\n",
    "            token_reduction='mean',\n",
    "            token2word_reduction='mean',\n",
    "            use_pos_chunk=True,\n",
    "            use_crf=True,\n",
    "            p_dropout=0.3,\n",
    "            head_hidden_size=300,\n",
    "    ):\n",
    "        assert token_reduction in ['sum', 'mean', 'concat']\n",
    "        super(RobertaNER, self).__init__()\n",
    "        self._config = roberta_config\n",
    "        self._token_reduction = token_reduction\n",
    "        self._token2word_reduction = token2word_reduction\n",
    "        self._n_last_hidden_states = getattr(self._config, 'n_last_hidden_states', 4)\n",
    "        self._n_tags = n_tags\n",
    "        self._use_crf = use_crf\n",
    "        self._use_pos_chunk = use_pos_chunk\n",
    "        self.dropout = nn.Dropout(p=p_dropout,)\n",
    "\n",
    "        self.body = roberta_model\n",
    "        if use_pos_chunk:\n",
    "            self.pos_emb, self.chunk_emb = self._get_pos_chunk_embs()\n",
    "\n",
    "        self._token_reduction_func, self._token2word_reduction_func, self.head = self._get_head(\n",
    "            n_tags=n_tags, \n",
    "            head_hidden_size=head_hidden_size,\n",
    "            p_dropout=p_dropout,\n",
    "        )\n",
    "\n",
    "    def forward(self, *x):\n",
    "        input_ids, *pos_chunk, n_words, len_words = x\n",
    "        attention_mask = input_ids != self._config.pad_token_id\n",
    "        hidden_states = self.body(input_ids=input_ids, attention_mask=attention_mask)[2]\n",
    "        reduction = self._token_reduction_func(hidden_states=hidden_states, attention_mask=attention_mask)\n",
    "        output, word_mask = self._tokens2words(reduction, n_words=n_words, len_words=len_words)\n",
    "\n",
    "        if self._use_pos_chunk:\n",
    "            pos = self.pos_emb(pos_chunk[0])\n",
    "            chunk = self.chunk_emb(pos_chunk[1])\n",
    "            output = torch.cat((output, pos, chunk), dim=-1)\n",
    "\n",
    "        output = self.dropout(output)\n",
    "        return self.head(output, word_mask)\n",
    "\n",
    "    def _get_pos_chunk_embs(self):\n",
    "        n_pos = getattr(self._config, 'n_pos', 20)\n",
    "        n_chunk = getattr(self._config, 'n_chunk', 8)\n",
    "\n",
    "        pos_emb = nn.Embedding.from_pretrained(\n",
    "            embeddings=torch.eye(n=n_pos + 1, m=n_pos),\n",
    "            padding_idx=n_pos,\n",
    "            freeze=True,\n",
    "        )\n",
    "        chunk_emb = nn.Embedding.from_pretrained(\n",
    "            embeddings=torch.eye(n=n_chunk + 1, m=n_chunk),\n",
    "            padding_idx=n_chunk,\n",
    "            freeze=True,\n",
    "        )\n",
    "        return pos_emb, chunk_emb\n",
    "\n",
    "\n",
    "    def get_loss_func(self, **kwargs):\n",
    "        if self._use_crf:\n",
    "            reduction = kwargs.get('reduction', 'token_mean')\n",
    "            def loss_func(output, tags):\n",
    "                emissions, mask, *_ = output\n",
    "                return - self.head.crf(\n",
    "                    emissions,\n",
    "                    tags,\n",
    "                    mask,\n",
    "                    reduction\n",
    "                )\n",
    "            return loss_func\n",
    "        else:\n",
    "            return LabelSmoothingCrossEntropy()\n",
    "\n",
    "    def _tokens2words(self, x: torch.Tensor, n_words: torch.Tensor, len_words: torch.Tensor):\n",
    "        bs, _, hidden_size = x.size()\n",
    "\n",
    "        output = x.new_zeros((bs, n_words.max().item(), hidden_size))\n",
    "        mask = x.new_zeros((bs, n_words.max().item()), dtype=torch.bool)\n",
    "        for i in range(bs):\n",
    "            output[i, :n_words[i]]  = self._reduction_stack(x[i], len_words[i], num_words=n_words[i])\n",
    "            mask[i, :n_words[i]] = 1\n",
    "        output = self._token2word_reduction_func(output, len_words, mask)\n",
    "\n",
    "        return output, mask\n",
    "\n",
    "    def _reduction_stack(self, x: torch.Tensor, len_words: torch.Tensor, num_words):\n",
    "        max_len_word = len_words.max().item()\n",
    "        hidden_size = x.size(-1)\n",
    "        if max_len_word == 1:\n",
    "            return x[:num_words]\n",
    "\n",
    "        indxs = []\n",
    "        len_words_cumsum = [0, *torch.cumsum(len_words, dim=0, dtype=torch.long).detach().cpu().tolist()]\n",
    "        num_pad_tokens = (max_len_word - len_words).detach().cpu().tolist()\n",
    "        for i in range(num_words):\n",
    "            indxs.extend(range(len_words_cumsum[i], len_words_cumsum[i + 1]))\n",
    "            indxs.extend([-1] * num_pad_tokens[i])\n",
    "\n",
    "        x = x[indxs].view(num_words, max_len_word, hidden_size).sum(dim=1)\n",
    "        return x\n",
    "\n",
    "    def _mean_token_reduction(self, hidden_states: torch.Tensor, attention_mask: torch.Tensor):\n",
    "        reduction = torch.stack(hidden_states[-self._n_last_hidden_states:], dim=-1).mean(dim=-1)\n",
    "        return self._remove_cls_sep_tokens(reduction, attention_mask)\n",
    "\n",
    "    def _sum_token_reduction(self, hidden_states: torch.Tensor, attention_mask: torch.Tensor):\n",
    "        reduction = torch.stack(hidden_states[-self._n_last_hidden_states:], dim=-1).sum(dim=-1)\n",
    "        return self._remove_cls_sep_tokens(reduction, attention_mask)\n",
    "\n",
    "    def _concat_token_reduction(self, hidden_states: torch.Tensor, attention_mask: torch.Tensor):\n",
    "        reduction = torch.cat(hidden_states[-self._n_last_hidden_states:], dim=-1)\n",
    "        return self._remove_cls_sep_tokens(reduction, attention_mask)\n",
    "\n",
    "    def _mean_token2word_reduction(self, x, len_words, word_mask):\n",
    "        len_words = len_words + (word_mask == 0)\n",
    "        return x / len_words.unsqueeze(-1).expand_as(x)\n",
    "\n",
    "    def _get_head(self, n_tags, head_hidden_size, p_dropout):\n",
    "        hidden_sizes = {\n",
    "            'sum': self._config.hidden_size if not self._use_pos_chunk else (\n",
    "                self._config.hidden_size + self.pos_emb.embedding_dim + self.chunk_emb.embedding_dim\n",
    "            ),\n",
    "            'mean': self._config.hidden_size if not self._use_pos_chunk else (\n",
    "                self._config.hidden_size + self.pos_emb.embedding_dim + self.chunk_emb.embedding_dim\n",
    "            ),\n",
    "            'concat': self._config.hidden_size * self._n_last_hidden_states if not self._use_pos_chunk else (\n",
    "                self._config.hidden_size * self._n_last_hidden_states\n",
    "                + self.pos_emb.embedding_dim + self.chunk_emb.embedding_dim\n",
    "            ),\n",
    "        }\n",
    "        token_reduction_func = {\n",
    "            'sum': self._sum_token_reduction,\n",
    "            'mean': self._mean_token_reduction,\n",
    "            'concat': self._concat_token_reduction,\n",
    "        }\n",
    "        token2word_reduction_func = {\n",
    "            'mean': self._mean_token2word_reduction,\n",
    "            'sum': lambda x, len_words, word_mask: x,\n",
    "        }\n",
    "        return (\n",
    "            token_reduction_func[self._token_reduction],\n",
    "            token2word_reduction_func[self._token2word_reduction],\n",
    "            RobertaNERHead(\n",
    "                n_labels=n_tags, \n",
    "                input_size=hidden_sizes[self._token_reduction],\n",
    "                hidden_size=head_hidden_size,\n",
    "                use_crf=self._use_crf,\n",
    "                p_dropout=p_dropout,\n",
    "            )\n",
    "        )\n",
    "\n",
    "    @staticmethod\n",
    "    def _remove_cls_sep_tokens(reduction, attention_mask):\n",
    "        n_tokens = attention_mask.sum(dim=-1)\n",
    "        attention_mask[range(n_tokens.size(0)), n_tokens.long() - 1] = 0\n",
    "        expand_attention_mask = attention_mask.unsqueeze(-1).expand_as(reduction)\n",
    "        return (expand_attention_mask * reduction)[:, 1:, :]\n",
    "\n",
    "    @classmethod\n",
    "    def from_pretrained(\n",
    "            cls,\n",
    "            config_path_or_pretrained_weights: Union[Path, str],\n",
    "            model_path_or_pretrained_weights: Union[Path, str],\n",
    "            n_tags: int,\n",
    "            custom_config: dict,\n",
    "            token_reduction='mean',\n",
    "            token2word_reduction='mean',\n",
    "            p_dropout=0.3,\n",
    "            use_pos_chunk=True,\n",
    "            head_hidden_size=300,\n",
    "    ):\n",
    "        config = RobertaConfig.from_pretrained(config_path_or_pretrained_weights)\n",
    "        for k, v in custom_config.items():\n",
    "            setattr(config, k, v)\n",
    "        model = RobertaModel.from_pretrained(\n",
    "            pretrained_model_name_or_path=model_path_or_pretrained_weights,\n",
    "            config=config,\n",
    "        )\n",
    "        return cls(\n",
    "            roberta_model=model,\n",
    "            roberta_config=config,\n",
    "            n_tags=n_tags,\n",
    "            token_reduction=token_reduction,\n",
    "            token2word_reduction=token2word_reduction,\n",
    "            p_dropout=p_dropout,\n",
    "            use_pos_chunk=use_pos_chunk,\n",
    "            head_hidden_size=head_hidden_size,\n",
    "        )"
   ],
   "execution_count": 19,
   "outputs": []
  },
  {
   "cell_type": "code",
   "metadata": {
    "pycharm": {
     "name": "#%%\n"
    },
    "id": "Bf2bY8aHmOQq"
   },
   "source": [
    "def splitter(m: RobertaNER):\n",
    "    groups = [\n",
    "        m.body.embeddings,\n",
    "        *[m.body.encoder.layer[i] for i in range(12)],\n",
    "        m.head,\n",
    "    ]\n",
    "    groups = L(groups)\n",
    "    return groups.map(params)\n"
   ],
   "execution_count": 20,
   "outputs": []
  },
  {
   "cell_type": "markdown",
   "metadata": {
    "collapsed": false,
    "pycharm": {
     "name": "#%% md\n"
    },
    "id": "1ow61uZjmOQs"
   },
   "source": [
    "### Test model"
   ]
  },
  {
   "cell_type": "markdown",
   "metadata": {
    "collapsed": false,
    "pycharm": {
     "name": "#%% md\n"
    },
    "id": "1QXsYFeUmOQs"
   },
   "source": [
    "#### Config"
   ]
  },
  {
   "cell_type": "code",
   "metadata": {
    "pycharm": {
     "name": "#%%\n"
    },
    "id": "9bCaqfPOmOQt"
   },
   "source": [
    "config = Config(\n",
    "    config_path_or_pretrained_weights='vinai/phobert-base',\n",
    "    model_path_or_pretrained_weights='vinai/phobert-base',\n",
    "    custom_config={\n",
    "        'output_hidden_states': True,\n",
    "        'n_pos': 20,\n",
    "        'n_chunk': 8,\n",
    "    },\n",
    "    n_tags=9,\n",
    "    use_crf=True,\n",
    "    token_reduction='mean',\n",
    "    token2word_reduction='mean',\n",
    "    n_pos=20,\n",
    "    n_chunk=8,\n",
    "    use_pos_chunk=True,\n",
    "    head_hidden_size=256,\n",
    ")"
   ],
   "execution_count": null,
   "outputs": []
  },
  {
   "cell_type": "code",
   "metadata": {
    "pycharm": {
     "name": "#%%\n"
    },
    "id": "YOd1W5uwmOQu"
   },
   "source": [
    "model = RobertaNER.from_pretrained(\n",
    "    config_path_or_pretrained_weights=config.config_path_or_pretrained_weights,\n",
    "    model_path_or_pretrained_weights=config.model_path_or_pretrained_weights,\n",
    "    n_tags=config.n_tags,\n",
    "    custom_config=config.custom_config,\n",
    "    token_reduction=config.token_reduction,\n",
    "    token2word_reduction=config.token2word_reduction,\n",
    "    head_hidden_size=config.head_hidden_size,\n",
    ")\n"
   ],
   "execution_count": null,
   "outputs": []
  },
  {
   "cell_type": "code",
   "metadata": {
    "pycharm": {
     "name": "#%%\n"
    },
    "id": "eWTomheYmOQx",
    "colab": {
     "base_uri": "https://localhost:8080/"
    },
    "outputId": "47788544-078c-431a-f0bf-d1256f1eaf41"
   },
   "source": [
    "token_ids, pos, chunk, n_words, len_words, labels = dl.one_batch()"
   ],
   "execution_count": null,
   "outputs": [
    {
     "output_type": "stream",
     "text": [
      "/usr/local/lib/python3.6/dist-packages/ipykernel_launcher.py:42: UserWarning: To copy construct from a tensor, it is recommended to use sourceTensor.clone().detach() or sourceTensor.clone().detach().requires_grad_(True), rather than torch.tensor(sourceTensor).\n"
     ],
     "name": "stderr"
    }
   ]
  },
  {
   "cell_type": "code",
   "metadata": {
    "id": "_k8QVZRtiyE_"
   },
   "source": [],
   "execution_count": null,
   "outputs": []
  },
  {
   "cell_type": "code",
   "metadata": {
    "id": "IBvXo4JSCxcK"
   },
   "source": [
    "# token_ids, pos, chunk, n_words, len_words, labels"
   ],
   "execution_count": null,
   "outputs": []
  },
  {
   "cell_type": "code",
   "metadata": {
    "pycharm": {
     "name": "#%%\n"
    },
    "id": "r8V-brcZmOQy",
    "colab": {
     "base_uri": "https://localhost:8080/"
    },
    "outputId": "860c5afa-727c-4e66-efeb-1cede63ea865"
   },
   "source": [
    "n_words, (len_words!=0).sum(dim=1)"
   ],
   "execution_count": null,
   "outputs": [
    {
     "output_type": "execute_result",
     "data": {
      "text/plain": [
       "(TensorCategory([11, 15, 17, 12, 26, 11, 16, 26, 16, 16], device='cuda:0'),\n",
       " tensor([11, 15, 17, 12, 26, 11, 16, 26, 16, 16], device='cuda:0'))"
      ]
     },
     "metadata": {
      "tags": []
     },
     "execution_count": 27
    }
   ]
  },
  {
   "cell_type": "code",
   "metadata": {
    "pycharm": {
     "name": "#%%\n"
    },
    "id": "1UMoIE8JmOQ0"
   },
   "source": [
    "model = model.cuda()"
   ],
   "execution_count": null,
   "outputs": []
  },
  {
   "cell_type": "code",
   "metadata": {
    "pycharm": {
     "name": "#%%\n"
    },
    "id": "L8f2rdeamOQ2"
   },
   "source": [
    "with torch.no_grad():\n",
    "    out = model(token_ids, pos, chunk, n_words, len_words)\n",
    "    print(out)"
   ],
   "execution_count": null,
   "outputs": []
  },
  {
   "cell_type": "code",
   "metadata": {
    "pycharm": {
     "name": "#%%\n"
    },
    "id": "uWxe-p2zmOQ4"
   },
   "source": [
    "# for i in out: print(i.size())"
   ],
   "execution_count": null,
   "outputs": []
  },
  {
   "cell_type": "code",
   "metadata": {
    "pycharm": {
     "name": "#%%\n"
    },
    "id": "_84-JsqWmOQ6"
   },
   "source": [
    "out[0]"
   ],
   "execution_count": null,
   "outputs": []
  },
  {
   "cell_type": "code",
   "metadata": {
    "pycharm": {
     "name": "#%%\n"
    },
    "id": "sp-IDyDumOQ8"
   },
   "source": [
    "# loss_func = model.get_loss_func()"
   ],
   "execution_count": null,
   "outputs": []
  },
  {
   "cell_type": "code",
   "metadata": {
    "pycharm": {
     "name": "#%%\n"
    },
    "id": "xQo5SS_PmOQ-"
   },
   "source": [
    "# loss_func(output=out, tags=labels)"
   ],
   "execution_count": null,
   "outputs": []
  },
  {
   "cell_type": "code",
   "metadata": {
    "pycharm": {
     "name": "#%%\n"
    },
    "id": "uTelUUhwmORA"
   },
   "source": [
    "# labels.size(), out[0].size()"
   ],
   "execution_count": null,
   "outputs": []
  },
  {
   "cell_type": "markdown",
   "metadata": {
    "collapsed": false,
    "pycharm": {
     "name": "#%% md\n"
    },
    "id": "CAmZfXF_mORC"
   },
   "source": [
    "## Metrics"
   ]
  },
  {
   "cell_type": "markdown",
   "metadata": {
    "collapsed": false,
    "pycharm": {
     "name": "#%% md\n"
    },
    "id": "EFdhNQiXmORC"
   },
   "source": [
    "### Conlleval metrics"
   ]
  },
  {
   "cell_type": "code",
   "metadata": {
    "pycharm": {
     "name": "#%%\n"
    },
    "id": "a_Yt2JicmORD"
   },
   "source": [
    "class ConllevalMetric(Metric):\n",
    "    def __init__(self, label_vocab: CategoryMap):\n",
    "        self.y_true, self.y_pred = [], []\n",
    "        self.label_vocab = label_vocab\n",
    "        # self._pad_idx = self.label_vocab.o2i[pad_label]\n",
    "    \n",
    "    def reset(self):\n",
    "        self.y_true, self.y_pred = [], []\n",
    "\n",
    "    def accumulate(self, learn):\n",
    "        *_, y_pred = learn.pred\n",
    "        *_, n_words, _ = learn.xb\n",
    "        y_true = learn.yb[0]\n",
    "\n",
    "        # append y_pred\n",
    "        y_pred_new = []\n",
    "        for y in y_pred:\n",
    "            y_pred_new.extend(y)\n",
    "\n",
    "        # append y_true\n",
    "        y_true_new = []\n",
    "        y_true = y_true.detach().cpu().tolist()\n",
    "        n_words = n_words.detach().cpu().tolist()\n",
    "        for i, y in enumerate(y_true):\n",
    "            y_true_new.extend(y[:n_words[i]])\n",
    "\n",
    "        assert len(y_pred_new) == len(y_true_new)\n",
    "        self.y_true.extend(y_true_new)\n",
    "        self.y_pred.extend(y_pred_new)\n",
    "\n",
    "    @property\n",
    "    def value(self):\n",
    "        y_true = [self.label_vocab[i] for i in self.y_true]\n",
    "        y_pred = [self.label_vocab[i] for i in self.y_pred]\n",
    "        prec, rec, f1 = evaluate(true_seqs=y_true, pred_seqs=y_pred, verbose=False)\n",
    "        return f'{prec:10.4f}  {rec:10.4f}  {f1:10.4f}'\n",
    "\n",
    "    @property\n",
    "    def name(self):\n",
    "        return f'precision     recall     f1score'"
   ],
   "execution_count": 21,
   "outputs": []
  },
  {
   "cell_type": "markdown",
   "metadata": {
    "collapsed": false,
    "pycharm": {
     "name": "#%% md\n"
    },
    "id": "ZlpZ_2qVmORF"
   },
   "source": [
    "# Training - Use pos chunk"
   ]
  },
  {
   "cell_type": "markdown",
   "metadata": {
    "collapsed": false,
    "pycharm": {
     "name": "#%% md\n"
    },
    "id": "umJJH_hMmORF"
   },
   "source": [
    "## Config"
   ]
  },
  {
   "cell_type": "code",
   "metadata": {
    "pycharm": {
     "name": "#%%\n"
    },
    "id": "C9uBmwaQmORG"
   },
   "source": [
    "config = Config(\n",
    "    bs=64,\n",
    "    config_path_or_pretrained_weights='vinai/phobert-base',\n",
    "    model_path_or_pretrained_weights='vinai/phobert-base',\n",
    "    custom_config={\n",
    "        'output_hidden_states': True,\n",
    "        'n_pos': 20,\n",
    "        'n_chunk': 8,\n",
    "    },\n",
    "    n_tags=9,\n",
    "    use_crf=True,\n",
    "    token_reduction='mean',   # mean, concat, sum\n",
    "    token2word_reduction='mean',    # mean, sum\n",
    "    n_pos=20,\n",
    "    n_chunk=8,\n",
    "    use_pos_chunk=True,\n",
    "    model_path=Path('/content/drive/MyDrive/models/roberta_ner'),\n",
    "    data_path=Path('data/raw'),\n",
    "    p_dropout=0.1,\n",
    "    head_hidden_size=512,\n",
    ")"
   ],
   "execution_count": 22,
   "outputs": []
  },
  {
   "cell_type": "markdown",
   "metadata": {
    "collapsed": false,
    "pycharm": {
     "name": "#%% md\n"
    },
    "id": "Os16zeeqmORI"
   },
   "source": [
    "## Data"
   ]
  },
  {
   "cell_type": "markdown",
   "metadata": {
    "id": "JOw5lzSBPKtJ",
    "pycharm": {
     "name": "#%% md\n"
    }
   },
   "source": [
    "### read data file"
   ]
  },
  {
   "cell_type": "code",
   "metadata": {
    "pycharm": {
     "name": "#%%\n"
    },
    "id": "aqA-qaO_mORJ"
   },
   "source": [
    "train_data = read_data(config.data_path/'train.txt')\n",
    "valid_data = read_data(config.data_path/'dev.txt')\n",
    "test_data = read_data(config.data_path/'test.txt')"
   ],
   "execution_count": 23,
   "outputs": []
  },
  {
   "cell_type": "markdown",
   "metadata": {
    "id": "0w8UeNjePNNo",
    "pycharm": {
     "name": "#%% md\n"
    }
   },
   "source": [
    "### merge train and val -> split by range index"
   ]
  },
  {
   "cell_type": "code",
   "metadata": {
    "pycharm": {
     "name": "#%%\n"
    },
    "id": "j25bs5obmORM"
   },
   "source": [
    "train_val_data = train_data + valid_data\n",
    "train_len, val_len, train_val_len = len(train_data), len(valid_data), len(train_val_data)\n",
    "splits = [list(range(train_len)), list(range(train_len, train_val_len))]"
   ],
   "execution_count": 24,
   "outputs": []
  },
  {
   "cell_type": "markdown",
   "metadata": {
    "id": "Vnn0ORIqPYfH",
    "pycharm": {
     "name": "#%% md\n"
    }
   },
   "source": [
    "### datasets"
   ]
  },
  {
   "cell_type": "code",
   "metadata": {
    "pycharm": {
     "name": "#%%\n"
    },
    "id": "vvTiJd05mORO",
    "colab": {
     "base_uri": "https://localhost:8080/",
     "height": 134,
     "referenced_widgets": [
      "8b50392d7069424c98bee0f6b47280c4",
      "30687f261ccd47138f46b68c4cbee29c",
      "085f8235468342bfb55c3664b95019b5",
      "bb33c493ba69463ab3498d200834b702",
      "193dae1a1aa744f6b49830de3c8b34a8",
      "49b78a53244448d4b609238e86f576eb",
      "92506e3949d247b7a8e0a74459daf0ba",
      "bca6fa8380a3415f9b3f497bf32cd1d1",
      "0b7f83d4068d4d6c8751a668577971e7",
      "b735ed1de46a493e8aea35f38965f64f",
      "dab16eeaa3b34b8a98d60a2c236c2d83",
      "7d3b44ff8a954df983dce5be933ba922",
      "f1c82714d2484e3396837bf10f4d12c1",
      "b6ddab2f5605453782ff7fd03e7d1bd7",
      "60541dc7510c46259df85b69ba9c60de",
      "8286b4dbfa96424398f10d0f62f9f63f"
     ]
    },
    "outputId": "188f68b6-c1d1-4885-d9a1-ac1018bfe5b7"
   },
   "source": [
    "tokenizer = PhobertTokenizer.from_pretrained(config.model_path_or_pretrained_weights)\n",
    "w_tfms = [ItemGetter(0), WordTransformV2(tokenizer)]\n",
    "pos_tfms = [ItemGetter(1), CategorizeList(pad='[pad_p]')]\n",
    "chunk_tfms = [ItemGetter(2), CategorizeList(pad='[pad_c]')]\n",
    "y_tfms = [ItemGetter(3), CategorizeList(pad='[pad_l]')]\n",
    "ds = Datasets(\n",
    "    train_val_data,\n",
    "    tfms=[w_tfms, *([pos_tfms, chunk_tfms] if config.use_pos_chunk else []), y_tfms],\n",
    "    splits=splits,\n",
    "    n_inp=5 if config.use_pos_chunk else 3,\n",
    ")"
   ],
   "execution_count": 25,
   "outputs": [
    {
     "output_type": "display_data",
     "data": {
      "application/vnd.jupyter.widget-view+json": {
       "model_id": "8b50392d7069424c98bee0f6b47280c4",
       "version_minor": 0,
       "version_major": 2
      },
      "text/plain": [
       "HBox(children=(FloatProgress(value=0.0, description='Downloading', max=895321.0, style=ProgressStyle(descripti…"
      ]
     },
     "metadata": {
      "tags": []
     }
    },
    {
     "output_type": "stream",
     "text": [
      "\n"
     ],
     "name": "stdout"
    },
    {
     "output_type": "display_data",
     "data": {
      "application/vnd.jupyter.widget-view+json": {
       "model_id": "0b7f83d4068d4d6c8751a668577971e7",
       "version_minor": 0,
       "version_major": 2
      },
      "text/plain": [
       "HBox(children=(FloatProgress(value=0.0, description='Downloading', max=1135173.0, style=ProgressStyle(descript…"
      ]
     },
     "metadata": {
      "tags": []
     }
    },
    {
     "output_type": "stream",
     "text": [
      "Special tokens have been added in the vocabulary, make sure the associated word embedding are fine-tuned or trained.\n"
     ],
     "name": "stderr"
    },
    {
     "output_type": "stream",
     "text": [
      "\n"
     ],
     "name": "stdout"
    }
   ]
  },
  {
   "cell_type": "markdown",
   "metadata": {
    "id": "miGYGXSJPbLS",
    "pycharm": {
     "name": "#%% md\n"
    }
   },
   "source": [
    "### get dataloaders func"
   ]
  },
  {
   "cell_type": "code",
   "metadata": {
    "pycharm": {
     "name": "#%%\n"
    },
    "id": "KSrIGzBHmORR"
   },
   "source": [
    "def get_dls(ds: Datasets, bs=64):\n",
    "    dls = ds.dataloaders(\n",
    "        bs=bs,\n",
    "        before_batch=BeforeBatch(\n",
    "            # pad_idxs=[w_tfms[-1].tokenizer.pad_token_id, pos_tfms[-1].pad_idx, chunk_tfms[-1].pad_idx, y_tfms[-1].pad_idx],\n",
    "            pad_idxs=[\n",
    "                w_tfms[-1].tokenizer.pad_token_id,\n",
    "                *([pos_tfms[-1].pad_idx, chunk_tfms[-1].pad_idx] if config.use_pos_chunk else []), \n",
    "                -1,\n",
    "            ],\n",
    "            pad_fields=[0, 1, 2, 5] if config.use_pos_chunk else [0, 3],\n",
    "            pad_firsts=[False] * 4 if config.use_pos_chunk else [False, False],\n",
    "        ),\n",
    "        n_inp=5 if config.use_pos_chunk else 3,\n",
    "        verbose=True,\n",
    "    )\n",
    "    return dls"
   ],
   "execution_count": 26,
   "outputs": []
  },
  {
   "cell_type": "markdown",
   "metadata": {
    "id": "hInkH3Y8Pd0t",
    "pycharm": {
     "name": "#%% md\n"
    }
   },
   "source": [
    "### dataloaders"
   ]
  },
  {
   "cell_type": "code",
   "metadata": {
    "pycharm": {
     "name": "#%%\n"
    },
    "id": "20Ezn61imORT",
    "colab": {
     "base_uri": "https://localhost:8080/"
    },
    "outputId": "a347f557-4286-4927-9d7d-6c2d573c3f82"
   },
   "source": [
    "dls = get_dls(ds, config.bs)"
   ],
   "execution_count": 27,
   "outputs": [
    {
     "output_type": "stream",
     "text": [
      "Setting up after_item: Pipeline: \n",
      "Setting up before_batch: Pipeline: BeforeBatch\n",
      "Setting up after_batch: Pipeline: \n"
     ],
     "name": "stdout"
    }
   ]
  },
  {
   "cell_type": "markdown",
   "metadata": {
    "id": "Y1xh2iQyPiVU",
    "pycharm": {
     "name": "#%% md\n"
    }
   },
   "source": [
    "#### test one batch"
   ]
  },
  {
   "cell_type": "code",
   "metadata": {
    "id": "tF2yKUKDvdwk",
    "colab": {
     "base_uri": "https://localhost:8080/"
    },
    "outputId": "abc2ea9d-eb87-4d3c-afb6-fdbe5d7b3037",
    "pycharm": {
     "name": "#%%\n"
    }
   },
   "source": [
    "for i in dls.one_batch():\n",
    "    print(i.size())"
   ],
   "execution_count": null,
   "outputs": [
    {
     "output_type": "stream",
     "text": [
      "torch.Size([64, 72])\n",
      "(64, 70)\n",
      "(64, 70)\n",
      "(64,)\n",
      "torch.Size([64, 70])\n",
      "(64, 70)\n"
     ],
     "name": "stdout"
    },
    {
     "output_type": "stream",
     "text": [
      "/usr/local/lib/python3.6/dist-packages/ipykernel_launcher.py:42: UserWarning: To copy construct from a tensor, it is recommended to use sourceTensor.clone().detach() or sourceTensor.clone().detach().requires_grad_(True), rather than torch.tensor(sourceTensor).\n"
     ],
     "name": "stderr"
    }
   ]
  },
  {
   "cell_type": "markdown",
   "metadata": {
    "id": "cSVll9SKPo-D",
    "pycharm": {
     "name": "#%% md\n"
    }
   },
   "source": [
    "## Create model"
   ]
  },
  {
   "cell_type": "code",
   "metadata": {
    "pycharm": {
     "name": "#%%\n"
    },
    "id": "FaMS1TpJmORV",
    "colab": {
     "base_uri": "https://localhost:8080/",
     "height": 116,
     "referenced_widgets": [
      "ba017bca88ce4d14954b170550eb333a",
      "e6523ce3110042919d283baecbac89a1",
      "f2ce31863b7548f885fed6e041277eee",
      "23c9795d0d744ee996678e4cf871b0cb",
      "af97ebd3e761492eb6d97ead244d100b",
      "2a463fc84abc4d319ae6cc33be8ee1c6",
      "5fa4650a0f8043698d0086dc8d50b423",
      "2e846b33dc344d7dbb78a7027532454d",
      "8d31f2f1116749a881a1ffa5c757adbb",
      "431fde05a37f4f9694cdf8671f73b956",
      "5bef06a28529425d97e879a2e4768364",
      "51e27d00d294427b9c666d5a8b6edd1a",
      "5a4bcf7a44f048629c8f13f5bb528a27",
      "35bf54ba34544860a6f85653a6485e62",
      "de0bd5c3d7664aa781096c06db6f63ff",
      "a7a52d9a628a4e4c82d9a127d4202a81"
     ]
    },
    "outputId": "c708cc7f-fc4c-4de9-a605-b4c114ea2d70"
   },
   "source": [
    "model = RobertaNER.from_pretrained(\n",
    "    config_path_or_pretrained_weights=config.config_path_or_pretrained_weights,\n",
    "    model_path_or_pretrained_weights=config.model_path_or_pretrained_weights,\n",
    "    n_tags=config.n_tags,\n",
    "    custom_config=config.custom_config,\n",
    "    token_reduction=config.token_reduction,\n",
    "    token2word_reduction=config.token2word_reduction,\n",
    "    p_dropout=config.p_dropout,\n",
    "    use_pos_chunk=config.use_pos_chunk,\n",
    "    head_hidden_size=config.head_hidden_size,\n",
    ")"
   ],
   "execution_count": 28,
   "outputs": [
    {
     "output_type": "display_data",
     "data": {
      "application/vnd.jupyter.widget-view+json": {
       "model_id": "ba017bca88ce4d14954b170550eb333a",
       "version_minor": 0,
       "version_major": 2
      },
      "text/plain": [
       "HBox(children=(FloatProgress(value=0.0, description='Downloading', max=557.0, style=ProgressStyle(description_…"
      ]
     },
     "metadata": {
      "tags": []
     }
    },
    {
     "output_type": "stream",
     "text": [
      "\n"
     ],
     "name": "stdout"
    },
    {
     "output_type": "display_data",
     "data": {
      "application/vnd.jupyter.widget-view+json": {
       "model_id": "8d31f2f1116749a881a1ffa5c757adbb",
       "version_minor": 0,
       "version_major": 2
      },
      "text/plain": [
       "HBox(children=(FloatProgress(value=0.0, description='Downloading', max=542923308.0, style=ProgressStyle(descri…"
      ]
     },
     "metadata": {
      "tags": []
     }
    },
    {
     "output_type": "stream",
     "text": [
      "\n"
     ],
     "name": "stdout"
    }
   ]
  },
  {
   "cell_type": "markdown",
   "metadata": {
    "id": "BCXkAvPwPuQh",
    "pycharm": {
     "name": "#%% md\n"
    }
   },
   "source": [
    "## Get loss function"
   ]
  },
  {
   "cell_type": "code",
   "metadata": {
    "pycharm": {
     "name": "#%%\n"
    },
    "id": "5jA6K4zxmORY"
   },
   "source": [
    "loss_func = model.get_loss_func()"
   ],
   "execution_count": 29,
   "outputs": []
  },
  {
   "cell_type": "markdown",
   "metadata": {
    "id": "KJ1DCirhPzGr"
   },
   "source": [
    "## Create learner"
   ]
  },
  {
   "cell_type": "code",
   "metadata": {
    "pycharm": {
     "name": "#%%\n"
    },
    "id": "wX_B7WIGmORa"
   },
   "source": [
    "learner = Learner(\n",
    "    dls=dls,\n",
    "    model=model,\n",
    "    loss_func=loss_func,\n",
    "    splitter=splitter,\n",
    "    cbs=[ShowGraphCallback(),],\n",
    "    metrics=[ConllevalMetric(label_vocab=y_tfms[-1].vocab),],\n",
    "    path=config.model_path,\n",
    ")"
   ],
   "execution_count": 30,
   "outputs": []
  },
  {
   "cell_type": "markdown",
   "metadata": {
    "id": "EMk_1BMwP5TR",
    "pycharm": {
     "name": "#%% md\n"
    }
   },
   "source": [
    "## Train model"
   ]
  },
  {
   "cell_type": "markdown",
   "metadata": {
    "id": "wcaRVaEiP6nW",
    "pycharm": {
     "name": "#%% md\n"
    }
   },
   "source": [
    "### Stage 1: Train head only"
   ]
  },
  {
   "cell_type": "code",
   "metadata": {
    "id": "dMrGpeT9pyGT"
   },
   "source": [
    "learner.freeze()"
   ],
   "execution_count": null,
   "outputs": []
  },
  {
   "cell_type": "code",
   "metadata": {
    "pycharm": {
     "name": "#%%\n"
    },
    "id": "J0t2P2sImORd",
    "colab": {
     "base_uri": "https://localhost:8080/",
     "height": 301
    },
    "outputId": "07f65e85-9d0d-4cff-c2cc-6133c412d786"
   },
   "source": [
    "learner.lr_find()"
   ],
   "execution_count": null,
   "outputs": [
    {
     "output_type": "display_data",
     "data": {
      "text/html": [
       ""
      ],
      "text/plain": [
       "<IPython.core.display.HTML object>"
      ]
     },
     "metadata": {
      "tags": []
     }
    },
    {
     "output_type": "execute_result",
     "data": {
      "text/plain": [
       "SuggestedLRs(lr_min=0.003981071710586548, lr_steep=0.0003981071640737355)"
      ]
     },
     "metadata": {
      "tags": []
     },
     "execution_count": 26
    },
    {
     "output_type": "display_data",
     "data": {
      "image/png": "[encoded data removed]",
      "text/plain": [
       "<Figure size 432x288 with 1 Axes>"
      ]
     },
     "metadata": {
      "tags": [],
      "needs_background": "light"
     }
    }
   ]
  },
  {
   "cell_type": "code",
   "metadata": {
    "pycharm": {
     "name": "#%%\n"
    },
    "id": "p5TkUXgcmORf",
    "colab": {
     "base_uri": "https://localhost:8080/",
     "height": 594
    },
    "outputId": "9f70e88d-a218-44cf-9927-3d2d7c2be6b4"
   },
   "source": [
    "learner.fit_one_cycle(10, 1e-3)"
   ],
   "execution_count": null,
   "outputs": [
    {
     "output_type": "display_data",
     "data": {
      "text/html": [
       "<table border=\"1\" class=\"dataframe\">\n",
       "  <thead>\n",
       "    <tr style=\"text-align: left;\">\n",
       "      <th>epoch</th>\n",
       "      <th>train_loss</th>\n",
       "      <th>valid_loss</th>\n",
       "      <th>precision     recall     f1score</th>\n",
       "      <th>time</th>\n",
       "    </tr>\n",
       "  </thead>\n",
       "  <tbody>\n",
       "    <tr>\n",
       "      <td>0</td>\n",
       "      <td>0.124379</td>\n",
       "      <td>0.038542</td>\n",
       "      <td>   83.4262     82.9640     83.1944</td>\n",
       "      <td>01:39</td>\n",
       "    </tr>\n",
       "    <tr>\n",
       "      <td>1</td>\n",
       "      <td>0.021259</td>\n",
       "      <td>0.012871</td>\n",
       "      <td>   93.0679     93.9058     93.4850</td>\n",
       "      <td>01:40</td>\n",
       "    </tr>\n",
       "    <tr>\n",
       "      <td>2</td>\n",
       "      <td>0.011386</td>\n",
       "      <td>0.008489</td>\n",
       "      <td>   95.4545     95.9834     95.7182</td>\n",
       "      <td>01:35</td>\n",
       "    </tr>\n",
       "    <tr>\n",
       "      <td>3</td>\n",
       "      <td>0.007987</td>\n",
       "      <td>0.007626</td>\n",
       "      <td>   96.0581     96.1911     96.1246</td>\n",
       "      <td>01:35</td>\n",
       "    </tr>\n",
       "    <tr>\n",
       "      <td>4</td>\n",
       "      <td>0.005611</td>\n",
       "      <td>0.007976</td>\n",
       "      <td>   96.1353     96.4681     96.3014</td>\n",
       "      <td>01:36</td>\n",
       "    </tr>\n",
       "    <tr>\n",
       "      <td>5</td>\n",
       "      <td>0.004273</td>\n",
       "      <td>0.010448</td>\n",
       "      <td>   96.6030     94.5291     95.5548</td>\n",
       "      <td>01:35</td>\n",
       "    </tr>\n",
       "    <tr>\n",
       "      <td>6</td>\n",
       "      <td>0.003218</td>\n",
       "      <td>0.008113</td>\n",
       "      <td>   96.6137     96.8144     96.7139</td>\n",
       "      <td>01:35</td>\n",
       "    </tr>\n",
       "    <tr>\n",
       "      <td>7</td>\n",
       "      <td>0.002380</td>\n",
       "      <td>0.008328</td>\n",
       "      <td>   97.1349     96.2604     96.6957</td>\n",
       "      <td>01:36</td>\n",
       "    </tr>\n",
       "    <tr>\n",
       "      <td>8</td>\n",
       "      <td>0.001769</td>\n",
       "      <td>0.008430</td>\n",
       "      <td>   97.0629     96.1219     96.5901</td>\n",
       "      <td>01:35</td>\n",
       "    </tr>\n",
       "    <tr>\n",
       "      <td>9</td>\n",
       "      <td>0.001288</td>\n",
       "      <td>0.008511</td>\n",
       "      <td>   97.1268     95.9834     96.5517</td>\n",
       "      <td>01:35</td>\n",
       "    </tr>\n",
       "  </tbody>\n",
       "</table>"
      ],
      "text/plain": [
       "<IPython.core.display.HTML object>"
      ]
     },
     "metadata": {
      "tags": []
     }
    },
    {
     "output_type": "display_data",
     "data": {
      "image/png": "[encoded data removed]",
      "text/plain": [
       "<Figure size 432x288 with 1 Axes>"
      ]
     },
     "metadata": {
      "tags": []
     }
    }
   ]
  },
  {
   "cell_type": "code",
   "metadata": {
    "id": "TP0Amdye-bfW",
    "colab": {
     "base_uri": "https://localhost:8080/"
    },
    "outputId": "15493ebc-91b2-4a06-8f8e-75be7bffc00d"
   },
   "source": [
    "learner.save('token_mean_hid256_stage_1')"
   ],
   "execution_count": null,
   "outputs": [
    {
     "output_type": "execute_result",
     "data": {
      "text/plain": [
       "Path('/content/drive/MyDrive/models/roberta_ner/models/token_mean_hid256_stage_1.pth')"
      ]
     },
     "metadata": {
      "tags": []
     },
     "execution_count": 29
    }
   ]
  },
  {
   "cell_type": "markdown",
   "metadata": {
    "id": "lIGjUo0HQB3l",
    "pycharm": {
     "name": "#%% md\n"
    }
   },
   "source": [
    "### Stage 2: Unfreeze all and train entire model"
   ]
  },
  {
   "cell_type": "code",
   "metadata": {
    "id": "QOUXcKCLRTQh",
    "colab": {
     "base_uri": "https://localhost:8080/"
    },
    "outputId": "1c5ec2d3-f307-491d-f01b-7359d2b57c7a"
   },
   "source": [
    "learner.load('token_mean_hid256_stage_1')"
   ],
   "execution_count": 37,
   "outputs": [
    {
     "output_type": "execute_result",
     "data": {
      "text/plain": [
       "<fastai.learner.Learner at 0x7fb1833bdac8>"
      ]
     },
     "metadata": {
      "tags": []
     },
     "execution_count": 37
    }
   ]
  },
  {
   "cell_type": "code",
   "metadata": {
    "id": "gvuEkGtj4x4I"
   },
   "source": [
    "learner.unfreeze()"
   ],
   "execution_count": null,
   "outputs": []
  },
  {
   "cell_type": "code",
   "metadata": {
    "id": "iNFJfI6R40Ni",
    "colab": {
     "base_uri": "https://localhost:8080/",
     "height": 301
    },
    "outputId": "19be68e7-a060-4911-99df-203420070b5e"
   },
   "source": [
    "learner.lr_find()"
   ],
   "execution_count": null,
   "outputs": [
    {
     "output_type": "display_data",
     "data": {
      "text/html": [
       ""
      ],
      "text/plain": [
       "<IPython.core.display.HTML object>"
      ]
     },
     "metadata": {
      "tags": []
     }
    },
    {
     "output_type": "execute_result",
     "data": {
      "text/plain": [
       "SuggestedLRs(lr_min=1.3182566908653825e-05, lr_steep=9.12010818865383e-07)"
      ]
     },
     "metadata": {
      "tags": []
     },
     "execution_count": 44
    },
    {
     "output_type": "display_data",
     "data": {
      "image/png": "[encoded data removed]",
      "text/plain": [
       "<Figure size 432x288 with 1 Axes>"
      ]
     },
     "metadata": {
      "tags": [],
      "needs_background": "light"
     }
    }
   ]
  },
  {
   "cell_type": "code",
   "metadata": {
    "id": "4_4F8f2-43o_",
    "colab": {
     "base_uri": "https://localhost:8080/",
     "height": 326
    },
    "outputId": "46252cbc-eee7-4e0d-f126-bf3edc8c091e",
    "pycharm": {
     "name": "#%%\n"
    }
   },
   "source": [
    "lr = 1e-5\n",
    "# learner.fit_one_cycle(5, slice(lr / (2.6 **4), lr))\n",
    "learner.fit_one_cycle(1, slice(lr / (2.6 **4), lr))"
   ],
   "execution_count": null,
   "outputs": [
    {
     "output_type": "display_data",
     "data": {
      "text/html": [
       "<table border=\"1\" class=\"dataframe\">\n",
       "  <thead>\n",
       "    <tr style=\"text-align: left;\">\n",
       "      <th>epoch</th>\n",
       "      <th>train_loss</th>\n",
       "      <th>valid_loss</th>\n",
       "      <th>precision     recall     f1score</th>\n",
       "      <th>time</th>\n",
       "    </tr>\n",
       "  </thead>\n",
       "  <tbody>\n",
       "    <tr>\n",
       "      <td>0</td>\n",
       "      <td>0.001590</td>\n",
       "      <td>0.008615</td>\n",
       "      <td>   97.1950     95.9834     96.5854</td>\n",
       "      <td>01:58</td>\n",
       "    </tr>\n",
       "  </tbody>\n",
       "</table>"
      ],
      "text/plain": [
       "<IPython.core.display.HTML object>"
      ]
     },
     "metadata": {
      "tags": []
     }
    },
    {
     "output_type": "display_data",
     "data": {
      "image/png": "[encoded data removed]",
      "text/plain": [
       "<Figure size 432x288 with 1 Axes>"
      ]
     },
     "metadata": {
      "tags": []
     }
    }
   ]
  },
  {
   "cell_type": "code",
   "metadata": {
    "id": "4VTBvf2pGMbG",
    "colab": {
     "base_uri": "https://localhost:8080/"
    },
    "outputId": "599a0cdd-0d09-4a09-c331-23fde3e27f69",
    "pycharm": {
     "name": "#%%\n"
    }
   },
   "source": [
    "learner.save('token_mean_hid256_stage_2')"
   ],
   "execution_count": null,
   "outputs": [
    {
     "output_type": "execute_result",
     "data": {
      "text/plain": [
       "Path('/content/drive/MyDrive/models/roberta_ner/models/token_mean_hid256_stage_2.pth')"
      ]
     },
     "metadata": {
      "tags": []
     },
     "execution_count": 46
    }
   ]
  },
  {
   "cell_type": "code",
   "metadata": {
    "id": "Zi3PAsjYUT-K"
   },
   "source": [
    "# learner.export('roberta_ner_token_mean_hid256_9753_9743_9748.pkl', pickle_protocol=4)"
   ],
   "execution_count": null,
   "outputs": []
  },
  {
   "cell_type": "markdown",
   "metadata": {
    "id": "FkV6V6QfQK_K",
    "pycharm": {
     "name": "#%% md\n"
    }
   },
   "source": [
    "## Evaluate model"
   ]
  },
  {
   "cell_type": "markdown",
   "metadata": {
    "id": "-ohBVd7mQSI-",
    "pycharm": {
     "name": "#%% md\n"
    }
   },
   "source": [
    "### Create test dataloaders"
   ]
  },
  {
   "cell_type": "code",
   "metadata": {
    "id": "IwAZfcpvT850",
    "colab": {
     "base_uri": "https://localhost:8080/"
    },
    "outputId": "f6ba4d38-ca49-409e-8c1e-a83fe534f612",
    "pycharm": {
     "name": "#%%\n"
    }
   },
   "source": [
    "learner.load('token_mean_hid256_stage_2')"
   ],
   "execution_count": 44,
   "outputs": [
    {
     "output_type": "execute_result",
     "data": {
      "text/plain": [
       "<fastai.learner.Learner at 0x7fb1833bdac8>"
      ]
     },
     "metadata": {
      "tags": []
     },
     "execution_count": 44
    }
   ]
  },
  {
   "cell_type": "code",
   "metadata": {
    "id": "t1uw07zwEolS"
   },
   "source": [
    "test_dl = learner.dls.test_dl(test_data)"
   ],
   "execution_count": 39,
   "outputs": []
  },
  {
   "cell_type": "markdown",
   "metadata": {
    "id": "BE7f_8yjQb6P",
    "pycharm": {
     "name": "#%% md\n"
    }
   },
   "source": [
    "### Validate test_dl:\n",
    "```\n",
    "Precision: 97.0373\n",
    "Recall:    97.2964\n",
    "F1Score:   97.1667\n",
    "```"
   ]
  },
  {
   "cell_type": "code",
   "metadata": {
    "id": "hTtPn4G8bYKg",
    "pycharm": {
     "name": "#%%\n"
    }
   },
   "source": [
    "learner.remove_cbs(ShowGraphCallback)"
   ],
   "execution_count": 40,
   "outputs": []
  },
  {
   "cell_type": "code",
   "metadata": {
    "id": "e_lSsywBbLAm",
    "colab": {
     "base_uri": "https://localhost:8080/",
     "height": 35
    },
    "outputId": "cd1b6a56-b2d2-4469-de92-9d05a1e74a0f"
   },
   "source": [
    "learner.validate(dl=test_dl)"
   ],
   "execution_count": 45,
   "outputs": [
    {
     "output_type": "display_data",
     "data": {
      "text/html": [
       ""
      ],
      "text/plain": [
       "<IPython.core.display.HTML object>"
      ]
     },
     "metadata": {
      "tags": []
     }
    },
    {
     "output_type": "execute_result",
     "data": {
      "text/plain": [
       "(#2) [0.007782795466482639,'   97.0373     97.2964     97.1667']"
      ]
     },
     "metadata": {
      "tags": []
     },
     "execution_count": 45
    }
   ]
  },
  {
   "cell_type": "markdown",
   "metadata": {
    "id": "Dp4UWiZRQzpw",
    "pycharm": {
     "name": "#%% md\n"
    }
   },
   "source": [
    "### Get result file"
   ]
  },
  {
   "cell_type": "code",
   "metadata": {
    "id": "aa-6Lp6_HnLg"
   },
   "source": [
    "test_pred = learner.metrics[0].y_pred"
   ],
   "execution_count": 46,
   "outputs": []
  },
  {
   "cell_type": "code",
   "metadata": {
    "id": "62mygBXKH1VP"
   },
   "source": [
    "test_true = learner.metrics[0].y_true"
   ],
   "execution_count": 47,
   "outputs": []
  },
  {
   "cell_type": "code",
   "metadata": {
    "id": "Cr5MSKcmIBI5"
   },
   "source": [
    "y_pred = [learner.metrics[0].label_vocab[i] for i in test_pred]\n",
    "y_true = [learner.metrics[0].label_vocab[i] for i in test_true]"
   ],
   "execution_count": 48,
   "outputs": []
  },
  {
   "cell_type": "code",
   "metadata": {
    "id": "wWnXSdpPIOI4",
    "pycharm": {
     "name": "#%%\n"
    }
   },
   "source": [
    "with open('token_mean_hid512_result.txt', mode='w', encoding='utf8') as f:\n",
    "    for t, p in zip(y_true, y_pred):\n",
    "        f.write(f'w1\\tw2\\t{t}\\t{p}\\n')\n",
    "        # f.write(f'{t}\\t{p}\\n')"
   ],
   "execution_count": 49,
   "outputs": []
  },
  {
   "cell_type": "code",
   "metadata": {
    "id": "hcBe4-sNNCrx"
   },
   "source": [
    "!bash conlleval.pl -l -r -d \\\\t < token_mean_hid512_result.txt"
   ],
   "execution_count": null,
   "outputs": []
  },
  {
   "cell_type": "markdown",
   "metadata": {
    "id": "G_uiw9ODRCSc",
    "pycharm": {
     "name": "#%% md\n"
    }
   },
   "source": [
    "### Save result"
   ]
  },
  {
   "cell_type": "code",
   "metadata": {
    "id": "8GAkrt-bOUEm"
   },
   "source": [
    "!mkdir drive/My\\ Drive/models/bert_ner"
   ],
   "execution_count": null,
   "outputs": []
  },
  {
   "cell_type": "code",
   "metadata": {
    "id": "5jBTz4QkJU3X",
    "pycharm": {
     "name": "#%%\n"
    }
   },
   "source": [
    "!cp -r models drive/My\\ Drive/models/bert_ner"
   ],
   "execution_count": null,
   "outputs": []
  },
  {
   "cell_type": "code",
   "metadata": {
    "id": "Yz3LB3UxOaYa",
    "pycharm": {
     "name": "#%%\n"
    }
   },
   "source": [
    "!cp -r result.txt drive/My\\ Drive/models/bert_ner"
   ],
   "execution_count": null,
   "outputs": []
  },
  {
   "cell_type": "markdown",
   "metadata": {
    "id": "9Ptbs276Rnlv"
   },
   "source": [
    "# Final result:\n",
    "```\n",
    "        & Precision &  Recall  & F$_{\\beta=1} \\\\\\hline\n",
    "LOC     &   96.87\\% &  98.62\\% &  97.74 \\\\\n",
    "MISC    &   97.73\\% &  87.76\\% &  92.47 \\\\\n",
    "ORG     &   89.66\\% &  85.40\\% &  87.48 \\\\\n",
    "PER     &   98.69\\% &  98.76\\% &  98.73 \\\\\\hline\n",
    "Overall &   97.04\\% &  97.30\\% &  97.17 \\\\\\hline\n",
    "\n",
    "\n",
    "        & Precision &  Recall  & F$_{\\beta=1} \\\\\\hline\n",
    "B-LOC   &   97.42\\% &  98.77\\% &  98.09 \\\\\n",
    "B-MISC  &  100.00\\% &  87.76\\% &  93.48 \\\\\n",
    "B-ORG   &   94.19\\% &  88.69\\% &  91.35 \\\\\n",
    "B-PER   &   98.84\\% &  98.84\\% &  98.84 \\\\\n",
    "I-LOC   &   94.96\\% &  97.62\\% &  96.27 \\\\\n",
    "I-MISC  &   97.73\\% &  87.76\\% &  92.47 \\\\\n",
    "I-ORG   &   96.85\\% &  92.95\\% &  94.86 \\\\\n",
    "I-PER   &   99.29\\% &  99.59\\% &  99.44 \\\\\\hline\n",
    "Overall &   97.74\\% &  97.58\\% &  97.66 \\\\\\hline\n",
    "\n",
    "```\n",
    "\n",
    "\n"
   ]
  },
  {
   "cell_type": "markdown",
   "metadata": {
    "id": "4YnB3fLZY8CK",
    "pycharm": {
     "name": "#%% md\n"
    }
   },
   "source": [
    "# Training - Without pos chunk"
   ]
  },
  {
   "cell_type": "markdown",
   "metadata": {
    "id": "ttqTL173ZA-N"
   },
   "source": [
    "## Config"
   ]
  },
  {
   "cell_type": "code",
   "metadata": {
    "id": "IXg3x4igZAip",
    "pycharm": {
     "name": "#%%\n"
    }
   },
   "source": [
    "config = Config(\n",
    "    bs=64,\n",
    "    config_path_or_pretrained_weights='vinai/phobert-base',\n",
    "    model_path_or_pretrained_weights='vinai/phobert-base',\n",
    "    custom_config={\n",
    "        'output_hidden_states': True,\n",
    "        'n_pos': 20,\n",
    "        'n_chunk': 8,\n",
    "    },\n",
    "    n_tags=9,\n",
    "    use_crf=True,\n",
    "    token_reduction='mean',   # mean, concat, sum\n",
    "    token2word_reduction='mean',    # mean, sum\n",
    "    n_pos=20,\n",
    "    n_chunk=8,\n",
    "    use_pos_chunk=False,\n",
    "    model_path=Path('/content/drive/MyDrive/models/roberta_ner'),\n",
    "    data_path=Path('data/raw'),\n",
    "    p_dropout=0.1,\n",
    "    head_hidden_size=512,\n",
    ")"
   ],
   "execution_count": 59,
   "outputs": []
  },
  {
   "cell_type": "markdown",
   "metadata": {
    "collapsed": false,
    "pycharm": {
     "name": "#%% md\n"
    },
    "id": "7EdHvpVeZiGH"
   },
   "source": [
    "## Data"
   ]
  },
  {
   "cell_type": "markdown",
   "metadata": {
    "id": "UVaYy-aOZiGH"
   },
   "source": [
    "### read data file"
   ]
  },
  {
   "cell_type": "code",
   "metadata": {
    "pycharm": {
     "name": "#%%\n"
    },
    "id": "tszuLpMwZiGI"
   },
   "source": [
    "train_data = read_data(config.data_path/'train.txt')\n",
    "valid_data = read_data(config.data_path/'dev.txt')\n",
    "test_data = read_data(config.data_path/'test.txt')"
   ],
   "execution_count": 60,
   "outputs": []
  },
  {
   "cell_type": "markdown",
   "metadata": {
    "id": "rpyGEuc9ZTvA"
   },
   "source": [
    "### merge train and val -> split by range index"
   ]
  },
  {
   "cell_type": "code",
   "metadata": {
    "pycharm": {
     "name": "#%%\n"
    },
    "id": "H7sO_SAMZTvG"
   },
   "source": [
    "train_val_data = train_data + valid_data\n",
    "train_len, val_len, train_val_len = len(train_data), len(valid_data), len(train_val_data)\n",
    "splits = [list(range(train_len)), list(range(train_len, train_val_len))]"
   ],
   "execution_count": 61,
   "outputs": []
  },
  {
   "cell_type": "markdown",
   "metadata": {
    "id": "rldMa85iZTvQ"
   },
   "source": [
    "### datasets"
   ]
  },
  {
   "cell_type": "code",
   "metadata": {
    "pycharm": {
     "name": "#%%\n"
    },
    "id": "1clGkz-ZZTvR",
    "colab": {
     "base_uri": "https://localhost:8080/"
    },
    "outputId": "89335a42-066e-4fcb-e026-8adacb0760b4"
   },
   "source": [
    "tokenizer = PhobertTokenizer.from_pretrained(config.config_path_or_pretrained_weights)\n",
    "w_tfms = [ItemGetter(0), WordTransformV2(tokenizer)]\n",
    "pos_tfms = [ItemGetter(1), CategorizeList(pad='[pad_p]')]\n",
    "chunk_tfms = [ItemGetter(2), CategorizeList(pad='[pad_c]')]\n",
    "y_tfms = [ItemGetter(3), CategorizeList(pad='[pad_l]')]\n",
    "ds = Datasets(\n",
    "    train_val_data,\n",
    "    tfms=[w_tfms, *([pos_tfms, chunk_tfms] if config.use_pos_chunk else []), y_tfms],\n",
    "    splits=splits,\n",
    "    n_inp=5 if config.use_pos_chunk else 3,\n",
    ")"
   ],
   "execution_count": 62,
   "outputs": [
    {
     "output_type": "stream",
     "text": [
      "Special tokens have been added in the vocabulary, make sure the associated word embedding are fine-tuned or trained.\n"
     ],
     "name": "stderr"
    }
   ]
  },
  {
   "cell_type": "markdown",
   "metadata": {
    "id": "gATcp_BrZTvY"
   },
   "source": [
    "### get dataloaders func"
   ]
  },
  {
   "cell_type": "code",
   "metadata": {
    "pycharm": {
     "name": "#%%\n"
    },
    "id": "C8foKFGLZTvZ"
   },
   "source": [
    "def get_dls(ds: Datasets, bs=64):\n",
    "    dls = ds.dataloaders(\n",
    "        bs=bs,\n",
    "        before_batch=BeforeBatch(\n",
    "            # pad_idxs=[w_tfms[-1].tokenizer.pad_token_id, pos_tfms[-1].pad_idx, chunk_tfms[-1].pad_idx, y_tfms[-1].pad_idx],\n",
    "            pad_idxs=[\n",
    "                w_tfms[-1].tokenizer.pad_token_id,\n",
    "                *([pos_tfms[-1].pad_idx, chunk_tfms[-1].pad_idx] if config.use_pos_chunk else []), \n",
    "                -1,\n",
    "            ],\n",
    "            pad_fields=[0, 1, 2, 5] if config.use_pos_chunk else [0, 3],\n",
    "            pad_firsts=[False] * 4 if config.use_pos_chunk else [False, False],\n",
    "            use_pos_chunk=config.use_pos_chunk,\n",
    "        ),\n",
    "        n_inp=5 if config.use_pos_chunk else 3,\n",
    "        verbose=True,\n",
    "    )\n",
    "    return dls"
   ],
   "execution_count": 63,
   "outputs": []
  },
  {
   "cell_type": "markdown",
   "metadata": {
    "id": "qZrCrFQLZTve"
   },
   "source": [
    "### dataloaders"
   ]
  },
  {
   "cell_type": "code",
   "metadata": {
    "pycharm": {
     "name": "#%%\n"
    },
    "id": "xl15cMUnZTvf",
    "colab": {
     "base_uri": "https://localhost:8080/"
    },
    "outputId": "aa86f567-7b90-4553-c0af-f52c803c160c"
   },
   "source": [
    "dls = get_dls(ds, config.bs)"
   ],
   "execution_count": 64,
   "outputs": [
    {
     "output_type": "stream",
     "text": [
      "Setting up after_item: Pipeline: \n",
      "Setting up before_batch: Pipeline: BeforeBatch\n",
      "Setting up after_batch: Pipeline: \n"
     ],
     "name": "stdout"
    }
   ]
  },
  {
   "cell_type": "markdown",
   "metadata": {
    "id": "-DZkaMcgZTvj"
   },
   "source": [
    "#### test one batch"
   ]
  },
  {
   "cell_type": "code",
   "metadata": {
    "id": "P6nyEUBlZTvl",
    "colab": {
     "base_uri": "https://localhost:8080/"
    },
    "outputId": "07ca8531-a996-466f-c62d-4d09b0c92b76"
   },
   "source": [
    "for i in dls.one_batch():\n",
    "    print(i.size())"
   ],
   "execution_count": 65,
   "outputs": [
    {
     "output_type": "stream",
     "text": [
      "torch.Size([64, 73])\n",
      "(64,)\n",
      "torch.Size([64, 65])\n",
      "(64, 65)\n"
     ],
     "name": "stdout"
    }
   ]
  },
  {
   "cell_type": "markdown",
   "metadata": {
    "id": "2Bu7soRHZTvo"
   },
   "source": [
    "## Create model"
   ]
  },
  {
   "cell_type": "code",
   "metadata": {
    "pycharm": {
     "name": "#%%\n"
    },
    "id": "Yel-yXHfZTvo"
   },
   "source": [
    "model = RobertaNER.from_pretrained(\n",
    "    config_path_or_pretrained_weights=config.config_path_or_pretrained_weights,\n",
    "    model_path_or_pretrained_weights=config.model_path_or_pretrained_weights,\n",
    "    n_tags=config.n_tags,\n",
    "    custom_config=config.custom_config,\n",
    "    token_reduction=config.token_reduction,\n",
    "    token2word_reduction=config.token2word_reduction,\n",
    "    p_dropout=config.p_dropout,\n",
    "    use_pos_chunk=config.use_pos_chunk,\n",
    "    head_hidden_size=config.head_hidden_size,\n",
    ")"
   ],
   "execution_count": 66,
   "outputs": []
  },
  {
   "cell_type": "markdown",
   "metadata": {
    "id": "jrO2OH8OZTvq"
   },
   "source": [
    "## Get loss function"
   ]
  },
  {
   "cell_type": "code",
   "metadata": {
    "pycharm": {
     "name": "#%%\n"
    },
    "id": "lItG3T1bZTvr"
   },
   "source": [
    "loss_func = model.get_loss_func()"
   ],
   "execution_count": 67,
   "outputs": []
  },
  {
   "cell_type": "markdown",
   "metadata": {
    "id": "zmxANYf4ZTvt"
   },
   "source": [
    "## Create learner"
   ]
  },
  {
   "cell_type": "code",
   "metadata": {
    "pycharm": {
     "name": "#%%\n"
    },
    "id": "1BR4a4CwZTvu"
   },
   "source": [
    "learner = Learner(\n",
    "    dls=dls,\n",
    "    model=model,\n",
    "    loss_func=loss_func,\n",
    "    splitter=splitter,\n",
    "    cbs=[ShowGraphCallback(),],\n",
    "    metrics=[ConllevalMetric(label_vocab=y_tfms[-1].vocab),],\n",
    "    path=config.model_path,\n",
    ")"
   ],
   "execution_count": 68,
   "outputs": []
  },
  {
   "cell_type": "markdown",
   "metadata": {
    "id": "XJUeyaEHfR7h",
    "pycharm": {
     "name": "#%% md\n"
    }
   },
   "source": [
    "## Train model"
   ]
  },
  {
   "cell_type": "markdown",
   "metadata": {
    "id": "FvvCVrR5fVye",
    "pycharm": {
     "name": "#%% md\n"
    }
   },
   "source": [
    "### Stage 1: Freeze model and train only head"
   ]
  },
  {
   "cell_type": "code",
   "metadata": {
    "id": "JWfXwDvrfsnn"
   },
   "source": [
    "learner.freeze()"
   ],
   "execution_count": null,
   "outputs": []
  },
  {
   "cell_type": "code",
   "metadata": {
    "id": "tJwv9AFWfOLT",
    "colab": {
     "base_uri": "https://localhost:8080/",
     "height": 301
    },
    "outputId": "176ca422-ecc7-4970-c065-4a24aafa4d15"
   },
   "source": [
    "learner.lr_find()"
   ],
   "execution_count": null,
   "outputs": [
    {
     "output_type": "display_data",
     "data": {
      "text/html": [
       ""
      ],
      "text/plain": [
       "<IPython.core.display.HTML object>"
      ]
     },
     "metadata": {
      "tags": []
     }
    },
    {
     "output_type": "execute_result",
     "data": {
      "text/plain": [
       "SuggestedLRs(lr_min=0.004786301031708717, lr_steep=0.0002754228771664202)"
      ]
     },
     "metadata": {
      "tags": []
     },
     "execution_count": 61
    },
    {
     "output_type": "display_data",
     "data": {
      "image/png": "[encoded data removed]",
      "text/plain": [
       "<Figure size 432x288 with 1 Axes>"
      ]
     },
     "metadata": {
      "tags": [],
      "needs_background": "light"
     }
    }
   ]
  },
  {
   "cell_type": "code",
   "metadata": {
    "id": "sF_Q4KsmfgVQ",
    "colab": {
     "base_uri": "https://localhost:8080/",
     "height": 594
    },
    "outputId": "829aa677-a781-4458-bbff-7e34baf5a5d0"
   },
   "source": [
    "learner.fit_one_cycle(10, 1e-3)"
   ],
   "execution_count": null,
   "outputs": [
    {
     "output_type": "display_data",
     "data": {
      "text/html": [
       "<table border=\"1\" class=\"dataframe\">\n",
       "  <thead>\n",
       "    <tr style=\"text-align: left;\">\n",
       "      <th>epoch</th>\n",
       "      <th>train_loss</th>\n",
       "      <th>valid_loss</th>\n",
       "      <th>precision     recall     f1score</th>\n",
       "      <th>time</th>\n",
       "    </tr>\n",
       "  </thead>\n",
       "  <tbody>\n",
       "    <tr>\n",
       "      <td>0</td>\n",
       "      <td>0.131910</td>\n",
       "      <td>0.042557</td>\n",
       "      <td>   79.5165     81.9945     80.7364</td>\n",
       "      <td>01:25</td>\n",
       "    </tr>\n",
       "    <tr>\n",
       "      <td>1</td>\n",
       "      <td>0.029366</td>\n",
       "      <td>0.017452</td>\n",
       "      <td>   91.4068     91.3435     91.3751</td>\n",
       "      <td>01:25</td>\n",
       "    </tr>\n",
       "    <tr>\n",
       "      <td>2</td>\n",
       "      <td>0.021926</td>\n",
       "      <td>0.017659</td>\n",
       "      <td>   90.5686     93.7673     92.1402</td>\n",
       "      <td>01:25</td>\n",
       "    </tr>\n",
       "    <tr>\n",
       "      <td>3</td>\n",
       "      <td>0.015319</td>\n",
       "      <td>0.014309</td>\n",
       "      <td>   93.1177     93.6981     93.4070</td>\n",
       "      <td>01:25</td>\n",
       "    </tr>\n",
       "    <tr>\n",
       "      <td>4</td>\n",
       "      <td>0.011995</td>\n",
       "      <td>0.012544</td>\n",
       "      <td>   93.5306     94.1136     93.8212</td>\n",
       "      <td>01:26</td>\n",
       "    </tr>\n",
       "    <tr>\n",
       "      <td>5</td>\n",
       "      <td>0.008848</td>\n",
       "      <td>0.014444</td>\n",
       "      <td>   95.1977     93.3518     94.2657</td>\n",
       "      <td>01:25</td>\n",
       "    </tr>\n",
       "    <tr>\n",
       "      <td>6</td>\n",
       "      <td>0.005971</td>\n",
       "      <td>0.014154</td>\n",
       "      <td>   94.6779     93.6288     94.1504</td>\n",
       "      <td>01:25</td>\n",
       "    </tr>\n",
       "    <tr>\n",
       "      <td>7</td>\n",
       "      <td>0.005846</td>\n",
       "      <td>0.016527</td>\n",
       "      <td>   94.4915     92.6593     93.5664</td>\n",
       "      <td>01:25</td>\n",
       "    </tr>\n",
       "    <tr>\n",
       "      <td>8</td>\n",
       "      <td>0.004232</td>\n",
       "      <td>0.015558</td>\n",
       "      <td>   94.9474     93.6981     94.3186</td>\n",
       "      <td>01:24</td>\n",
       "    </tr>\n",
       "    <tr>\n",
       "      <td>9</td>\n",
       "      <td>0.004155</td>\n",
       "      <td>0.015924</td>\n",
       "      <td>   95.1443     93.6288     94.3805</td>\n",
       "      <td>01:24</td>\n",
       "    </tr>\n",
       "  </tbody>\n",
       "</table>"
      ],
      "text/plain": [
       "<IPython.core.display.HTML object>"
      ]
     },
     "metadata": {
      "tags": []
     }
    },
    {
     "output_type": "display_data",
     "data": {
      "image/png": "[encoded data removed]",
      "text/plain": [
       "<Figure size 432x288 with 1 Axes>"
      ]
     },
     "metadata": {
      "tags": []
     }
    }
   ]
  },
  {
   "cell_type": "code",
   "metadata": {
    "id": "3zv51U0wgC45",
    "colab": {
     "base_uri": "https://localhost:8080/"
    },
    "outputId": "3ee60fbf-bec1-4c51-decf-37faaf6bc7e1",
    "pycharm": {
     "name": "#%%\n"
    }
   },
   "source": [
    "learner.save('no_pc_stage1')"
   ],
   "execution_count": null,
   "outputs": [
    {
     "output_type": "execute_result",
     "data": {
      "text/plain": [
       "Path('/content/drive/MyDrive/models/roberta_ner/models/no_pc_stage1.pth')"
      ]
     },
     "metadata": {
      "tags": []
     },
     "execution_count": 63
    }
   ]
  },
  {
   "cell_type": "code",
   "metadata": {
    "id": "G-jcE3DZhIcP"
   },
   "source": [
    "learner.loss_func = None\n",
    "# learner.export('no_pc_stage1_model.pkl', pickle_protocol=4)"
   ],
   "execution_count": null,
   "outputs": []
  },
  {
   "cell_type": "markdown",
   "metadata": {
    "id": "BIgWH42ah2H7",
    "pycharm": {
     "name": "#%% md\n"
    }
   },
   "source": [
    "### Stage 2: Unfreeze and train all"
   ]
  },
  {
   "cell_type": "code",
   "metadata": {
    "id": "hry00AOqmTIF",
    "colab": {
     "base_uri": "https://localhost:8080/"
    },
    "outputId": "fe848909-6e63-47d4-a2e9-a66346208ad2"
   },
   "source": [
    "learner.load('no_pc_stage1')"
   ],
   "execution_count": null,
   "outputs": [
    {
     "output_type": "execute_result",
     "data": {
      "text/plain": [
       "<fastai.learner.Learner at 0x7fd983bbf2b0>"
      ]
     },
     "metadata": {
      "tags": []
     },
     "execution_count": 72
    }
   ]
  },
  {
   "cell_type": "code",
   "metadata": {
    "id": "pgOOBgv_h7Wr"
   },
   "source": [
    "learner.unfreeze()"
   ],
   "execution_count": null,
   "outputs": []
  },
  {
   "cell_type": "code",
   "metadata": {
    "id": "w-enY1hZh-XK",
    "colab": {
     "base_uri": "https://localhost:8080/",
     "height": 301
    },
    "outputId": "66d894b8-8ea4-4464-a1c4-83734b90d201"
   },
   "source": [
    "learner.lr_find()"
   ],
   "execution_count": null,
   "outputs": [
    {
     "output_type": "display_data",
     "data": {
      "text/html": [
       ""
      ],
      "text/plain": [
       "<IPython.core.display.HTML object>"
      ]
     },
     "metadata": {
      "tags": []
     }
    },
    {
     "output_type": "execute_result",
     "data": {
      "text/plain": [
       "SuggestedLRs(lr_min=9.12010818865383e-08, lr_steep=2.75422871709452e-06)"
      ]
     },
     "metadata": {
      "tags": []
     },
     "execution_count": 74
    },
    {
     "output_type": "display_data",
     "data": {
      "image/png": "[encoded data removed]",
      "text/plain": [
       "<Figure size 432x288 with 1 Axes>"
      ]
     },
     "metadata": {
      "tags": [],
      "needs_background": "light"
     }
    }
   ]
  },
  {
   "cell_type": "code",
   "metadata": {
    "id": "D422y3LOiBBq",
    "colab": {
     "base_uri": "https://localhost:8080/",
     "height": 326
    },
    "outputId": "f16bf142-0d3b-4d7b-c966-ac66c0e5d683"
   },
   "source": [
    "lr = 1e-4\n",
    "learner.fit_one_cycle(1, slice(lr / (2.6 ** 4), lr))"
   ],
   "execution_count": null,
   "outputs": [
    {
     "output_type": "display_data",
     "data": {
      "text/html": [
       "<table border=\"1\" class=\"dataframe\">\n",
       "  <thead>\n",
       "    <tr style=\"text-align: left;\">\n",
       "      <th>epoch</th>\n",
       "      <th>train_loss</th>\n",
       "      <th>valid_loss</th>\n",
       "      <th>precision     recall     f1score</th>\n",
       "      <th>time</th>\n",
       "    </tr>\n",
       "  </thead>\n",
       "  <tbody>\n",
       "    <tr>\n",
       "      <td>0</td>\n",
       "      <td>0.003811</td>\n",
       "      <td>0.015774</td>\n",
       "      <td>   94.6704     93.4903     94.0767</td>\n",
       "      <td>01:48</td>\n",
       "    </tr>\n",
       "  </tbody>\n",
       "</table>"
      ],
      "text/plain": [
       "<IPython.core.display.HTML object>"
      ]
     },
     "metadata": {
      "tags": []
     }
    },
    {
     "output_type": "display_data",
     "data": {
      "image/png": "[encoded data removed]",
      "text/plain": [
       "<Figure size 432x288 with 1 Axes>"
      ]
     },
     "metadata": {
      "tags": []
     }
    }
   ]
  },
  {
   "cell_type": "code",
   "metadata": {
    "id": "2zUt_D-9ovLo",
    "colab": {
     "base_uri": "https://localhost:8080/"
    },
    "outputId": "bc3e54b1-1603-48cb-8551-b5facfce3964"
   },
   "source": [
    "learner.save('no_pc_stage2')"
   ],
   "execution_count": null,
   "outputs": [
    {
     "output_type": "execute_result",
     "data": {
      "text/plain": [
       "Path('/content/drive/MyDrive/models/roberta_ner/models/no_pc_stage2.pth')"
      ]
     },
     "metadata": {
      "tags": []
     },
     "execution_count": 76
    }
   ]
  },
  {
   "cell_type": "markdown",
   "metadata": {
    "id": "LH8mq3wlmEV-"
   },
   "source": [
    "## Evaluate model"
   ]
  },
  {
   "cell_type": "markdown",
   "metadata": {
    "id": "S4IFfqYhmEV_"
   },
   "source": [
    "### Create test dataloaders"
   ]
  },
  {
   "cell_type": "code",
   "metadata": {
    "id": "Do1OxZY8mEV_"
   },
   "source": [
    "test_dl = learner.dls.test_dl(test_data)"
   ],
   "execution_count": 69,
   "outputs": []
  },
  {
   "cell_type": "code",
   "metadata": {
    "id": "N0-cx5aGmEWC",
    "colab": {
     "base_uri": "https://localhost:8080/"
    },
    "outputId": "df9d7bae-7744-4eaf-ddb8-48735fe8cba0"
   },
   "source": [
    "for i in test_dl.one_batch():\n",
    "    print(i.size())"
   ],
   "execution_count": 70,
   "outputs": [
    {
     "output_type": "stream",
     "text": [
      "torch.Size([64, 57])\n",
      "(64,)\n",
      "torch.Size([64, 55])\n",
      "(64, 55)\n"
     ],
     "name": "stdout"
    }
   ]
  },
  {
   "cell_type": "markdown",
   "metadata": {
    "id": "r9EUzeLVmEWG"
   },
   "source": [
    "### Validate test_dl:\n",
    "```\n",
    "        & Precision &  Recall  & F$_{\\beta=1} \\\\\\hline\n",
    "LOC     &   93.49\\% &  94.78\\% &  94.13 \\\\\n",
    "MISC    &   93.18\\% &  83.67\\% &  88.17 \\\\\n",
    "ORG     &   75.00\\% &  72.26\\% &  73.61 \\\\\n",
    "PER     &   98.06\\% &  97.45\\% &  97.75 \\\\\\hline\n",
    "Overall &   93.82\\% &  93.69\\% &  93.75 \\\\\\hline\n",
    "\n",
    "        & Precision &  Recall  & F$_{\\beta=1} \\\\\\hline\n",
    "B-LOC   &   94.24\\% &  95.06\\% &  94.65 \\\\\n",
    "B-MISC  &   93.18\\% &  83.67\\% &  88.17 \\\\\n",
    "B-ORG   &   84.46\\% &  77.37\\% &  80.76 \\\\\n",
    "B-PER   &   99.07\\% &  98.38\\% &  98.72 \\\\\n",
    "I-LOC   &   87.50\\% &  92.22\\% &  89.80 \\\\\n",
    "I-MISC  &   97.62\\% &  83.67\\% &  90.11 \\\\\n",
    "I-ORG   &   86.01\\% &  85.14\\% &  85.57 \\\\\n",
    "I-PER   &   99.79\\% &  97.97\\% &  98.87 \\\\\\hline\n",
    "Overall &   94.79\\% &  94.23\\% &  94.51 \\\\\\hline\n",
    "```"
   ]
  },
  {
   "cell_type": "code",
   "metadata": {
    "colab": {
     "base_uri": "https://localhost:8080/"
    },
    "id": "GbwSKAWBYJna",
    "outputId": "78687e9b-130d-4f7c-99b7-16ccd7b38b2b"
   },
   "source": [
    "learner.load('no_pc_stage1')"
   ],
   "execution_count": 71,
   "outputs": [
    {
     "output_type": "execute_result",
     "data": {
      "text/plain": [
       "<fastai.learner.Learner at 0x7fb033a6d4e0>"
      ]
     },
     "metadata": {
      "tags": []
     },
     "execution_count": 71
    }
   ]
  },
  {
   "cell_type": "code",
   "metadata": {
    "id": "Gc-sY6MzmEWJ",
    "colab": {
     "base_uri": "https://localhost:8080/",
     "height": 35
    },
    "outputId": "e4a71135-378f-4b03-d7c9-a9f32554e8a3"
   },
   "source": [
    "# stage 1\n",
    "learner.remove_cbs(ShowGraphCallback)\n",
    "learner.validate(dl=test_dl)"
   ],
   "execution_count": 72,
   "outputs": [
    {
     "output_type": "display_data",
     "data": {
      "text/html": [
       ""
      ],
      "text/plain": [
       "<IPython.core.display.HTML object>"
      ]
     },
     "metadata": {
      "tags": []
     }
    },
    {
     "output_type": "execute_result",
     "data": {
      "text/plain": [
       "(#2) [0.018783556297421455,'   93.8168     93.6916     93.7542']"
      ]
     },
     "metadata": {
      "tags": []
     },
     "execution_count": 72
    }
   ]
  },
  {
   "cell_type": "code",
   "metadata": {
    "id": "7ilLBTCqmEWG",
    "colab": {
     "base_uri": "https://localhost:8080/",
     "height": 35
    },
    "outputId": "647ab1d9-2460-4e86-de9a-d122cf12bd21",
    "pycharm": {
     "name": "#%%\n"
    }
   },
   "source": [
    "# stage 2\n",
    "learner.remove_cbs(ShowGraphCallback)\n",
    "learner.validate(dl=test_dl)"
   ],
   "execution_count": null,
   "outputs": [
    {
     "output_type": "display_data",
     "data": {
      "text/html": [
       ""
      ],
      "text/plain": [
       "<IPython.core.display.HTML object>"
      ]
     },
     "metadata": {
      "tags": []
     }
    },
    {
     "output_type": "execute_result",
     "data": {
      "text/plain": [
       "(#2) [0.01866874471306801,'   93.7271     93.7583     93.7427']"
      ]
     },
     "metadata": {
      "tags": []
     },
     "execution_count": 77
    }
   ]
  },
  {
   "cell_type": "markdown",
   "metadata": {
    "id": "wYhvDEt7mEWN",
    "pycharm": {
     "name": "#%% md\n"
    }
   },
   "source": [
    "### Get result file"
   ]
  },
  {
   "cell_type": "code",
   "metadata": {
    "id": "sPcLWdgRmEWN"
   },
   "source": [
    "test_pred = learner.metrics[0].y_pred"
   ],
   "execution_count": 73,
   "outputs": []
  },
  {
   "cell_type": "code",
   "metadata": {
    "id": "O3wBsKqBmEWQ"
   },
   "source": [
    "test_true = learner.metrics[0].y_true"
   ],
   "execution_count": 74,
   "outputs": []
  },
  {
   "cell_type": "code",
   "metadata": {
    "id": "n-r7fcxlmEWS"
   },
   "source": [
    "y_pred = [learner.metrics[0].label_vocab[i] for i in test_pred]\n",
    "y_true = [learner.metrics[0].label_vocab[i] for i in test_true]"
   ],
   "execution_count": 75,
   "outputs": []
  },
  {
   "cell_type": "code",
   "execution_count": null,
   "outputs": [],
   "source": [
    "with open('token_mean_hid512_result_no_pc.txt', mode='w', encoding='utf8') as f:\n",
    "    for t, p in zip(y_true, y_pred):\n",
    "        f.write(f'w1\\tw2\\t{t}\\t{p}\\n')"
   ],
   "metadata": {
    "collapsed": false,
    "pycharm": {
     "name": "#%%\n"
    }
   }
  },
  {
   "cell_type": "code",
   "execution_count": null,
   "outputs": [],
   "source": [],
   "metadata": {
    "collapsed": false,
    "pycharm": {
     "name": "#%%\n"
    }
   }
  },
  {
   "cell_type": "code",
   "metadata": {
    "id": "8qGR6snZmEWT"
   },
   "source": [],
   "execution_count": 76,
   "outputs": []
  },
  {
   "cell_type": "code",
   "metadata": {
    "id": "_0MeJnHSYggq"
   },
   "source": [
    ""
   ],
   "execution_count": null,
   "outputs": []
  }
 ]
}